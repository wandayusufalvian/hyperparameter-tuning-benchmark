{
 "cells": [
  {
   "cell_type": "code",
   "execution_count": 1,
   "metadata": {
    "ExecuteTime": {
     "end_time": "2021-06-27T14:39:21.570310Z",
     "start_time": "2021-06-27T14:39:19.382349Z"
    }
   },
   "outputs": [],
   "source": [
    "import pandas as pd\n",
    "import numpy as np\n",
    "import matplotlib.pyplot as plt \n",
    "import warnings\n",
    "warnings.filterwarnings(\"ignore\")\n",
    "import services.data_prep as data_prep\n",
    "#import pandasql as psql"
   ]
  },
  {
   "cell_type": "markdown",
   "metadata": {},
   "source": [
    "# DATASET 1 "
   ]
  },
  {
   "cell_type": "code",
   "execution_count": 2,
   "metadata": {
    "ExecuteTime": {
     "end_time": "2021-06-14T11:17:08.741731Z",
     "start_time": "2021-06-14T11:17:08.617592Z"
    }
   },
   "outputs": [
    {
     "ename": "ModuleNotFoundError",
     "evalue": "No module named 'service'",
     "output_type": "error",
     "traceback": [
      "\u001b[1;31m---------------------------------------------------------------------------\u001b[0m",
      "\u001b[1;31mModuleNotFoundError\u001b[0m                       Traceback (most recent call last)",
      "\u001b[1;32m<ipython-input-2-5267329e0de6>\u001b[0m in \u001b[0;36m<module>\u001b[1;34m\u001b[0m\n\u001b[0;32m      5\u001b[0m \u001b[1;32mimport\u001b[0m \u001b[0mpandas\u001b[0m \u001b[1;32mas\u001b[0m \u001b[0mpd\u001b[0m\u001b[1;33m\u001b[0m\u001b[1;33m\u001b[0m\u001b[0m\n\u001b[0;32m      6\u001b[0m \u001b[1;32mimport\u001b[0m \u001b[0mnumpy\u001b[0m \u001b[1;32mas\u001b[0m \u001b[0mnp\u001b[0m\u001b[1;33m\u001b[0m\u001b[1;33m\u001b[0m\u001b[0m\n\u001b[1;32m----> 7\u001b[1;33m \u001b[1;32mfrom\u001b[0m \u001b[0mservice\u001b[0m \u001b[1;32mimport\u001b[0m \u001b[1;33m*\u001b[0m\u001b[1;33m\u001b[0m\u001b[1;33m\u001b[0m\u001b[0m\n\u001b[0m\u001b[0;32m      8\u001b[0m \u001b[1;33m\u001b[0m\u001b[0m\n\u001b[0;32m      9\u001b[0m \u001b[1;31m#%%\u001b[0m\u001b[1;33m\u001b[0m\u001b[1;33m\u001b[0m\u001b[1;33m\u001b[0m\u001b[0m\n",
      "\u001b[1;31mModuleNotFoundError\u001b[0m: No module named 'service'"
     ]
    }
   ],
   "source": [
    "# dataset 1 \n",
    "\n",
    "#%%\n",
    "'''import libraries'''\n",
    "import pandas as pd\n",
    "import numpy as np\n",
    "from service import *\n",
    "\n",
    "#%%\n",
    "'''baca file'''  \n",
    "data_bank=pd.read_csv(r\"/home/yusuf/hyperparameter-tuning-benchmark/Data_Preprocessing/dataset-raw/bank-full.csv\",sep=';')\n",
    "data_bank.info()\n",
    "\n",
    "#%%\n",
    "'''hapus kolom duration'''\n",
    "data_bank=data_bank.drop(['duration'],axis=1)\n",
    "# berdasarkan https://archive.ics.uci.edu/ml/datasets/Bank+Marketing, disarankan duration dihapus \n",
    "\n",
    "#%% \n",
    "'''banyak nilai kategori di tiap fitur kategorikal''' \n",
    "# banyak_tiap_kategori(data_bank)\n",
    "\n",
    "#%% \n",
    "'''ubah nilai unknown menjadi nilai yang paling sering muncul'''\n",
    "data_bank['job']=data_bank['job'].replace(['unknown'],'blue-collar')\n",
    "data_bank['education']=data_bank['education'].replace(['unknown'],'secondary')\n",
    "data_bank['contact']=data_bank['contact'].replace(['unknown'],'cellular')\n",
    "\n",
    "#%%\n",
    "'''hapus kolom poutcome'''\n",
    "data_bank=data_bank.drop(['poutcome'],axis=1)\n",
    "\n",
    "#%%\n",
    "'''pengelompokan nilai kategori pada fitur job'''\n",
    "data_bank['job']=data_bank['job'].replace(['management','entrepreneur'],'high')\n",
    "data_bank['job']=data_bank['job'].replace(['blue-collar','technician','services','self-employed'],'mid')\n",
    "data_bank['job']=data_bank['job'].replace(['unemployed','housemaid','student','admin.','retired'],'low')\n",
    "\n",
    "'''pengelompokan nilai kategori pada fitur month'''\n",
    "data_bank['month']=data_bank['month'].replace(['jan','feb','mar','apr','may','jun'],'semester-1')\n",
    "data_bank['month']=data_bank['month'].replace(['jul','aug','sep','oct','nov','dec'],'semester-2')\n",
    "\n",
    "#%%\n",
    "## untuk catboost ini tidak perlu dilakukan...\n",
    "'''label encoding pada fitur education'''\n",
    "kategori=['primary','secondary','tertiary']\n",
    "label=[1,2,3]\n",
    "data_bank['education']=data_bank['education'].replace(kategori,label)\n",
    "\n",
    "#%%\n",
    "'''dimensi data sebelum transformasi'''\n",
    "X,y=pisah_x_y(data_bank)\n",
    "# print(\"before transform\")\n",
    "# print(\"y= \",y.shape)\n",
    "# print(\"X= \",X.shape)\n",
    "#%%\n",
    "'''transformasi data'''\n",
    "numerical_minmax=['age','balance','day','campaign','pdays','previous']\n",
    "categorical_onehot=['job','marital','default','housing','loan','contact','month']\n",
    "y=transform_kelas(y)\n",
    "X=transform_fitur(X,numerical_minmax,categorical_onehot) # xgboost dan lightgbm\n",
    "\n",
    "\n",
    "#%%\n",
    "# print(\"dimensi data setelah transformasi\")\n",
    "# print(\"y= \",y.shape)\n",
    "# print(\"X= \",X.shape)\n",
    "\n",
    "#%%\n",
    "'''export data'''\n",
    "#ekspor_data(X,y,\"X-bank\",\"y-bank\")\n",
    "\n"
   ]
  },
  {
   "cell_type": "markdown",
   "metadata": {},
   "source": [
    "# DATASET 2 "
   ]
  },
  {
   "cell_type": "code",
   "execution_count": null,
   "metadata": {
    "ExecuteTime": {
     "end_time": "2021-06-14T11:17:08.767732Z",
     "start_time": "2021-06-14T11:17:07.436Z"
    }
   },
   "outputs": [],
   "source": [
    "data=pd.read_csv(r\"/home/yusuf/hyperparameter-tuning-benchmark/Data_Preprocessing/dataset-raw/cus_seg.csv\")"
   ]
  },
  {
   "cell_type": "markdown",
   "metadata": {},
   "source": [
    "## EDA"
   ]
  },
  {
   "cell_type": "code",
   "execution_count": null,
   "metadata": {
    "ExecuteTime": {
     "end_time": "2021-06-14T11:17:08.768735Z",
     "start_time": "2021-06-14T11:17:07.441Z"
    }
   },
   "outputs": [],
   "source": [
    "data.head(10)"
   ]
  },
  {
   "cell_type": "code",
   "execution_count": null,
   "metadata": {
    "ExecuteTime": {
     "end_time": "2021-06-14T11:17:08.770734Z",
     "start_time": "2021-06-14T11:17:07.444Z"
    }
   },
   "outputs": [],
   "source": [
    "data.size"
   ]
  },
  {
   "cell_type": "code",
   "execution_count": null,
   "metadata": {
    "ExecuteTime": {
     "end_time": "2021-06-14T11:17:08.771733Z",
     "start_time": "2021-06-14T11:17:07.446Z"
    }
   },
   "outputs": [],
   "source": [
    "\n",
    "print(data['Segmentation'].unique())"
   ]
  },
  {
   "cell_type": "code",
   "execution_count": null,
   "metadata": {
    "ExecuteTime": {
     "end_time": "2021-06-14T11:17:08.773748Z",
     "start_time": "2021-06-14T11:17:07.449Z"
    }
   },
   "outputs": [],
   "source": [
    "print(data['Segmentation'].value_counts())"
   ]
  },
  {
   "cell_type": "code",
   "execution_count": null,
   "metadata": {
    "ExecuteTime": {
     "end_time": "2021-06-14T11:17:08.775736Z",
     "start_time": "2021-06-14T11:17:07.452Z"
    }
   },
   "outputs": [],
   "source": [
    "A=(data['Segmentation']=='A').sum()\n",
    "B=(data['Segmentation']=='B').sum()\n",
    "C=(data['Segmentation']=='C').sum()\n",
    "D=(data['Segmentation']=='D').sum()"
   ]
  },
  {
   "cell_type": "code",
   "execution_count": null,
   "metadata": {
    "ExecuteTime": {
     "end_time": "2021-06-14T11:17:08.776733Z",
     "start_time": "2021-06-14T11:17:07.454Z"
    }
   },
   "outputs": [],
   "source": [
    "y=np.array([A,B,C,D])\n",
    "mylabels=[\"A\",\"B\",\"C\",\"D\"]\n",
    "fig = plt.figure(figsize =(10, 7)) \n",
    "plt.pie(y,labels=mylabels,autopct='%1.1f%%')\n",
    "plt.show()"
   ]
  },
  {
   "cell_type": "code",
   "execution_count": null,
   "metadata": {
    "ExecuteTime": {
     "end_time": "2021-06-14T11:17:08.778733Z",
     "start_time": "2021-06-14T11:17:07.457Z"
    }
   },
   "outputs": [],
   "source": [
    "data.info()"
   ]
  },
  {
   "cell_type": "code",
   "execution_count": null,
   "metadata": {
    "ExecuteTime": {
     "end_time": "2021-06-14T11:17:08.781733Z",
     "start_time": "2021-06-14T11:17:07.460Z"
    }
   },
   "outputs": [],
   "source": [
    "data.isnull().sum()"
   ]
  },
  {
   "cell_type": "code",
   "execution_count": null,
   "metadata": {
    "ExecuteTime": {
     "end_time": "2021-06-14T11:17:08.784737Z",
     "start_time": "2021-06-14T11:17:07.462Z"
    }
   },
   "outputs": [],
   "source": [
    "# feature column, ID dan segmentation bukan feature \n",
    "feature_cols=data.columns.tolist()\n",
    "feature_cols.remove('ID')\n",
    "feature_cols.remove('Segmentation')\n",
    "feature_cols"
   ]
  },
  {
   "cell_type": "code",
   "execution_count": null,
   "metadata": {
    "ExecuteTime": {
     "end_time": "2021-06-14T11:17:08.787738Z",
     "start_time": "2021-06-14T11:17:07.464Z"
    }
   },
   "outputs": [],
   "source": [
    "# ada 9 fitur dan dari 9 fitur ada 6 fitur yang memiliki nilai NaN"
   ]
  },
  {
   "cell_type": "markdown",
   "metadata": {},
   "source": []
  },
  {
   "cell_type": "markdown",
   "metadata": {},
   "source": [
    "## Handle Missing Values"
   ]
  },
  {
   "cell_type": "markdown",
   "metadata": {},
   "source": [
    "### 1. Ever_Married"
   ]
  },
  {
   "cell_type": "code",
   "execution_count": null,
   "metadata": {
    "ExecuteTime": {
     "end_time": "2021-06-14T11:17:08.788732Z",
     "start_time": "2021-06-14T11:17:07.468Z"
    }
   },
   "outputs": [],
   "source": [
    "# ubah NaN jadi nilai yang most frequent  \n",
    "print(\"Nilai unik= \",data[\"Ever_Married\"].unique(),\"\\n\")\n",
    "print(data['Ever_Married'].value_counts(),\"\\n\")\n",
    "print(\"jumlah NaN values= \",data['Ever_Married'].isna().sum(),\"\\n\")\n",
    "data['Ever_Married']=data['Ever_Married'].fillna('Yes')\n",
    "print(data['Ever_Married'].value_counts(),\"\\n\")"
   ]
  },
  {
   "cell_type": "markdown",
   "metadata": {},
   "source": [
    "### 2. Graduated"
   ]
  },
  {
   "cell_type": "code",
   "execution_count": null,
   "metadata": {
    "ExecuteTime": {
     "end_time": "2021-06-14T11:17:08.791732Z",
     "start_time": "2021-06-14T11:17:07.470Z"
    }
   },
   "outputs": [],
   "source": [
    "# ubah NaN jadi nilai yang most frequent  \n",
    "print(\"Nilai unik= \",data[\"Graduated\"].unique(),\"\\n\")\n",
    "print(data['Graduated'].value_counts(),\"\\n\")\n",
    "print(\"jumlah NaN values= \",data['Graduated'].isna().sum(),\"\\n\")\n",
    "data['Graduated']=data['Graduated'].fillna('Yes')\n",
    "print(data['Graduated'].value_counts(),\"\\n\")"
   ]
  },
  {
   "cell_type": "markdown",
   "metadata": {},
   "source": [
    "### 3. Profession"
   ]
  },
  {
   "cell_type": "code",
   "execution_count": null,
   "metadata": {
    "ExecuteTime": {
     "end_time": "2021-06-14T11:17:08.793732Z",
     "start_time": "2021-06-14T11:17:07.473Z"
    }
   },
   "outputs": [],
   "source": [
    "# ubah NaN jadi nilai yang most frequent  \n",
    "print(\"Nilai unik= \",data[\"Profession\"].unique(),\"\\n\")\n",
    "print(data['Profession'].value_counts(),\"\\n\")\n",
    "print(\"jumlah NaN values= \",data['Profession'].isna().sum(),\"\\n\")\n",
    "data['Profession']=data['Profession'].fillna('Artist')\n",
    "print(data['Profession'].value_counts(),\"\\n\")"
   ]
  },
  {
   "cell_type": "markdown",
   "metadata": {},
   "source": [
    "### 4. Work Experience"
   ]
  },
  {
   "cell_type": "code",
   "execution_count": null,
   "metadata": {
    "ExecuteTime": {
     "end_time": "2021-06-14T11:17:08.795732Z",
     "start_time": "2021-06-14T11:17:07.475Z"
    }
   },
   "outputs": [],
   "source": [
    "# ubah nilai NaN jadi nilai rata2nya \n",
    "kolom='Work_Experience'\n",
    "print(\"Nilai unik= \",data[kolom].unique(),\"\\n\")\n",
    "print(data[kolom].value_counts(),\"\\n\")"
   ]
  },
  {
   "cell_type": "code",
   "execution_count": null,
   "metadata": {
    "ExecuteTime": {
     "end_time": "2021-06-14T11:17:08.797730Z",
     "start_time": "2021-06-14T11:17:07.476Z"
    }
   },
   "outputs": [],
   "source": [
    "print(\"jumlah NaN values= \",data[kolom].isna().sum(),\"\\n\")"
   ]
  },
  {
   "cell_type": "code",
   "execution_count": null,
   "metadata": {
    "ExecuteTime": {
     "end_time": "2021-06-14T11:17:08.798731Z",
     "start_time": "2021-06-14T11:17:07.478Z"
    }
   },
   "outputs": [],
   "source": [
    "rata_rata=round(data[kolom].mean(),1)\n",
    "print(\"nilai rata-rata= \", rata_rata,\"\\n\")\n",
    "data[kolom]=data[kolom].fillna(rata_rata)\n",
    "print(data[kolom].value_counts(),\"\\n\")"
   ]
  },
  {
   "cell_type": "markdown",
   "metadata": {},
   "source": [
    "### 5. Family Size "
   ]
  },
  {
   "cell_type": "code",
   "execution_count": null,
   "metadata": {
    "ExecuteTime": {
     "end_time": "2021-06-14T11:17:08.799731Z",
     "start_time": "2021-06-14T11:17:07.480Z"
    }
   },
   "outputs": [],
   "source": [
    "# ubah nilai NaN jadi nilai rata2nya \n",
    "kolom='Family_Size'\n",
    "print(\"Nilai unik= \",data[kolom].unique(),\"\\n\")\n",
    "print(data[kolom].value_counts(),\"\\n\")\n"
   ]
  },
  {
   "cell_type": "code",
   "execution_count": null,
   "metadata": {
    "ExecuteTime": {
     "end_time": "2021-06-14T11:17:08.801730Z",
     "start_time": "2021-06-14T11:17:07.481Z"
    }
   },
   "outputs": [],
   "source": [
    "print(\"jumlah NaN values= \",data[kolom].isna().sum(),\"\\n\")"
   ]
  },
  {
   "cell_type": "code",
   "execution_count": null,
   "metadata": {
    "ExecuteTime": {
     "end_time": "2021-06-14T11:17:08.803733Z",
     "start_time": "2021-06-14T11:17:07.483Z"
    }
   },
   "outputs": [],
   "source": [
    "rata_rata=round(data[kolom].mean(),1)\n",
    "print(\"nilai rata-rata= \", rata_rata,\"\\n\")\n",
    "data[kolom]=data[kolom].fillna(rata_rata)\n",
    "print(data[kolom].value_counts(),\"\\n\")"
   ]
  },
  {
   "cell_type": "markdown",
   "metadata": {},
   "source": [
    "### 6. Var_1"
   ]
  },
  {
   "cell_type": "code",
   "execution_count": null,
   "metadata": {
    "ExecuteTime": {
     "end_time": "2021-06-14T11:17:08.804732Z",
     "start_time": "2021-06-14T11:17:07.485Z"
    }
   },
   "outputs": [],
   "source": [
    "# ubah NaN jadi nilai yang most frequent  \n",
    "kolom='Var_1'\n",
    "print(\"Nilai unik= \",data[kolom].unique(),\"\\n\")\n",
    "print(data[kolom].value_counts(),\"\\n\")"
   ]
  },
  {
   "cell_type": "code",
   "execution_count": null,
   "metadata": {
    "ExecuteTime": {
     "end_time": "2021-06-14T11:17:08.807755Z",
     "start_time": "2021-06-14T11:17:07.487Z"
    }
   },
   "outputs": [],
   "source": [
    "print(\"jumlah NaN values= \",data[kolom].isna().sum(),\"\\n\")"
   ]
  },
  {
   "cell_type": "code",
   "execution_count": null,
   "metadata": {
    "ExecuteTime": {
     "end_time": "2021-06-14T11:17:08.810736Z",
     "start_time": "2021-06-14T11:17:07.489Z"
    }
   },
   "outputs": [],
   "source": [
    "data[kolom]=data[kolom].fillna('Cat_6')\n",
    "print(data[kolom].value_counts(),\"\\n\")"
   ]
  },
  {
   "cell_type": "code",
   "execution_count": null,
   "metadata": {
    "ExecuteTime": {
     "end_time": "2021-06-14T11:17:08.811734Z",
     "start_time": "2021-06-14T11:17:07.491Z"
    }
   },
   "outputs": [],
   "source": [
    "data.info()"
   ]
  },
  {
   "cell_type": "markdown",
   "metadata": {},
   "source": [
    "## Normalization and Encoding"
   ]
  },
  {
   "cell_type": "code",
   "execution_count": null,
   "metadata": {
    "ExecuteTime": {
     "end_time": "2021-06-14T11:17:08.813731Z",
     "start_time": "2021-06-14T11:17:07.495Z"
    }
   },
   "outputs": [],
   "source": [
    "# untuk data numerical = min max scaler \n",
    "# untuk data kategorikal = label and one hot encoding \n",
    "# khusus untuk catboost = gk perlu one hot encoding, biarkan apa adanya, gk perlu diubah jadi numerikal jg "
   ]
  },
  {
   "cell_type": "code",
   "execution_count": null,
   "metadata": {
    "ExecuteTime": {
     "end_time": "2021-06-14T11:17:08.814731Z",
     "start_time": "2021-06-14T11:17:07.496Z"
    }
   },
   "outputs": [],
   "source": [
    "df_fitur=data.drop(columns=['ID', 'Segmentation'])\n",
    "df_kelas=data[['Segmentation']]"
   ]
  },
  {
   "cell_type": "code",
   "execution_count": null,
   "metadata": {
    "ExecuteTime": {
     "end_time": "2021-06-14T11:17:08.816731Z",
     "start_time": "2021-06-14T11:17:07.499Z"
    }
   },
   "outputs": [],
   "source": [
    "df_fitur.info()"
   ]
  },
  {
   "cell_type": "code",
   "execution_count": null,
   "metadata": {
    "ExecuteTime": {
     "end_time": "2021-06-14T11:17:08.817731Z",
     "start_time": "2021-06-14T11:17:07.500Z"
    }
   },
   "outputs": [],
   "source": [
    "df_kelas.info()"
   ]
  },
  {
   "cell_type": "code",
   "execution_count": null,
   "metadata": {
    "ExecuteTime": {
     "end_time": "2021-06-14T11:17:08.818730Z",
     "start_time": "2021-06-14T11:17:07.503Z"
    }
   },
   "outputs": [],
   "source": [
    "y=LabelEncoder().fit_transform(df_kelas)"
   ]
  },
  {
   "cell_type": "code",
   "execution_count": null,
   "metadata": {
    "ExecuteTime": {
     "end_time": "2021-06-14T11:17:08.819729Z",
     "start_time": "2021-06-14T11:17:07.504Z"
    }
   },
   "outputs": [],
   "source": [
    "y"
   ]
  },
  {
   "cell_type": "code",
   "execution_count": null,
   "metadata": {
    "ExecuteTime": {
     "end_time": "2021-06-14T11:17:08.820730Z",
     "start_time": "2021-06-14T11:17:07.507Z"
    }
   },
   "outputs": [],
   "source": [
    "# hitung banyak kategori tiap fitur kategorikal \n",
    "categorical_ix = df_fitur.select_dtypes(include=['object']).columns \n",
    "sum=0\n",
    "for i in categorical_ix:\n",
    "    print(i,\"=\",len(df_fitur[i].unique()),\" kategori\")\n",
    "    sum=sum+len(df_fitur[i].unique())\n",
    "print(\"\\ntotal kategori= \",sum)"
   ]
  },
  {
   "cell_type": "code",
   "execution_count": null,
   "metadata": {
    "ExecuteTime": {
     "end_time": "2021-06-14T11:17:08.822732Z",
     "start_time": "2021-06-14T11:17:07.509Z"
    }
   },
   "outputs": [],
   "source": [
    "# cek \n",
    "df_fitur['Profession'].unique()"
   ]
  },
  {
   "cell_type": "code",
   "execution_count": null,
   "metadata": {
    "ExecuteTime": {
     "end_time": "2021-06-14T11:17:08.824732Z",
     "start_time": "2021-06-14T11:17:07.510Z"
    }
   },
   "outputs": [],
   "source": [
    "df_fitur.info()"
   ]
  },
  {
   "cell_type": "code",
   "execution_count": null,
   "metadata": {
    "ExecuteTime": {
     "end_time": "2021-06-14T11:17:08.825730Z",
     "start_time": "2021-06-14T11:17:07.512Z"
    }
   },
   "outputs": [],
   "source": [
    "categorical_onehot=[\"Gender\",\"Ever_Married\",\"Graduated\",\"Profession\",\"Spending_Score\",\"Var_1\"]\n",
    "numerical_col=[\"Age\",\"Work_Experience\",\"Family_Size\"]\n",
    "\n",
    "t = [('cat', OneHotEncoder(sparse=False), categorical_onehot),('num', MinMaxScaler(), numerical_col)]\n",
    "col_transform = ColumnTransformer(transformers=t,remainder='passthrough')\n",
    "X=col_transform.fit_transform(df_fitur)"
   ]
  },
  {
   "cell_type": "code",
   "execution_count": null,
   "metadata": {
    "ExecuteTime": {
     "end_time": "2021-06-14T11:17:08.827730Z",
     "start_time": "2021-06-14T11:17:07.514Z"
    }
   },
   "outputs": [],
   "source": [
    "# untuk catboost \n",
    "t = [('num', MinMaxScaler(), numerical_col)]\n",
    "col_transform = ColumnTransformer(transformers=t,remainder='passthrough')\n",
    "X_catboost=col_transform.fit_transform(df_fitur)"
   ]
  },
  {
   "cell_type": "code",
   "execution_count": null,
   "metadata": {
    "ExecuteTime": {
     "end_time": "2021-06-14T11:17:08.828731Z",
     "start_time": "2021-06-14T11:17:07.516Z"
    }
   },
   "outputs": [],
   "source": [
    "X_catboost.shape"
   ]
  },
  {
   "cell_type": "code",
   "execution_count": null,
   "metadata": {
    "ExecuteTime": {
     "end_time": "2021-06-14T11:17:08.829731Z",
     "start_time": "2021-06-14T11:17:07.517Z"
    }
   },
   "outputs": [],
   "source": [
    "X.shape"
   ]
  },
  {
   "cell_type": "code",
   "execution_count": null,
   "metadata": {
    "ExecuteTime": {
     "end_time": "2021-06-14T11:17:08.830730Z",
     "start_time": "2021-06-14T11:17:07.519Z"
    }
   },
   "outputs": [],
   "source": [
    "y.shape"
   ]
  },
  {
   "cell_type": "markdown",
   "metadata": {},
   "source": [
    "## Save File"
   ]
  },
  {
   "cell_type": "code",
   "execution_count": null,
   "metadata": {
    "ExecuteTime": {
     "end_time": "2021-06-14T11:17:08.832733Z",
     "start_time": "2021-06-14T11:17:07.521Z"
    }
   },
   "outputs": [],
   "source": [
    "X=pd.DataFrame(X)\n",
    "y=pd.DataFrame(y)\n",
    "\n",
    "X.to_csv('dataset-ready/'+'X_cus_seg'+'.csv',index=False,header=None)\n",
    "y.to_csv('dataset-ready/'+'y_cus_seg'+'.csv',index=False,header=None)"
   ]
  },
  {
   "cell_type": "code",
   "execution_count": null,
   "metadata": {
    "ExecuteTime": {
     "end_time": "2021-06-14T11:17:08.834735Z",
     "start_time": "2021-06-14T11:17:07.523Z"
    }
   },
   "outputs": [],
   "source": [
    "X_catboost=pd.DataFrame(X_catboost)\n",
    "\n",
    "X_catboost.to_csv('dataset-ready/'+'X_cus_seg_catboost'+'.csv',index=False,header=None)"
   ]
  },
  {
   "cell_type": "markdown",
   "metadata": {},
   "source": [
    "# DATASET 3"
   ]
  },
  {
   "cell_type": "markdown",
   "metadata": {},
   "source": [
    "Langkah-langkah praproses dataset 3 :\n",
    "- baca data : baca juga metadata data dari sumbernya \n",
    "- EDA :\n",
    "    - cek ada null data gk \n",
    "    - pisah data feature dan data target. \n",
    "    - data target udah fix, gk perlu ada praproses lagi \n",
    "    - menentukan feature yang numerikal dan kategorikal \n",
    "    - cek yang numerikal ada yang outlier bangettt gk, hapus kalau ada jika data tsb gk banyak\n",
    "- Feature Engineering/transformasi :\n",
    "    - cek tiap fitur, ada persebaran data yang extreme gk \n",
    "    - pertimbangkan buat hapus fitur kalau ada yang binary categorical dan 1 nilai sangat2 dominan \n",
    "    - ada nilai kategori bisa di grouping gk \n",
    "    - buat kopi dari data fitur (untuk catboost karena gk perlu OHE) \n",
    "    - lakukan one hot encoding untuk yang kategorikal \n",
    "    \n",
    "    - lakukan min max scaler untuk yang numerikal \n",
    "    - nilai hasil minmax scaler bulatkan ke 3-6 angkan belakang koma biar komputasi gk berat2 amat \n",
    "\n",
    "    "
   ]
  },
  {
   "cell_type": "markdown",
   "metadata": {},
   "source": [
    "## baca data"
   ]
  },
  {
   "cell_type": "code",
   "execution_count": 2,
   "metadata": {
    "ExecuteTime": {
     "end_time": "2021-06-27T14:39:29.380050Z",
     "start_time": "2021-06-27T14:39:29.284023Z"
    }
   },
   "outputs": [],
   "source": [
    "data=pd.read_csv(\"dataset_raw/house_price.csv\")"
   ]
  },
  {
   "cell_type": "code",
   "execution_count": 3,
   "metadata": {
    "ExecuteTime": {
     "end_time": "2021-06-27T14:39:29.809006Z",
     "start_time": "2021-06-27T14:39:29.787002Z"
    }
   },
   "outputs": [
    {
     "data": {
      "text/plain": [
       "Index(['POSTED_BY', 'UNDER_CONSTRUCTION', 'RERA', 'BHK_NO.', 'BHK_OR_RK',\n",
       "       'SQUARE_FT', 'READY_TO_MOVE', 'RESALE', 'ADDRESS', 'LONGITUDE',\n",
       "       'LATITUDE', 'TARGET(PRICE_IN_LACS)'],\n",
       "      dtype='object')"
      ]
     },
     "execution_count": 3,
     "metadata": {},
     "output_type": "execute_result"
    }
   ],
   "source": [
    "data.columns"
   ]
  },
  {
   "cell_type": "markdown",
   "metadata": {
    "ExecuteTime": {
     "end_time": "2021-06-14T11:11:00.317495Z",
     "start_time": "2021-06-14T11:11:00.303496Z"
    }
   },
   "source": [
    "POSTED_BY =>\tCategory marking who has listed the property\n",
    "\n",
    "UNDER_CONSTRUCTION =>\tUnder Construction or Not\n",
    "\n",
    "RERA =>\tRera approved or Not\n",
    "\n",
    "BHK_NO =>\tNumber of Rooms\n",
    "\n",
    "BHKORRK\tType => of property\n",
    "\n",
    "SQUARE_FT =>\tTotal area of the house in square feet\n",
    "\n",
    "READYTOMOVE =>\tCategory marking Ready to move or Not\n",
    "\n",
    "RESALE =>\tCategory marking Resale or not\n",
    "\n",
    "ADDRESS =>\tAddress of the property\n",
    "\n",
    "LONGITUDE =>\tLongitude of the property\n",
    "\n",
    "LATITUDE =>\tLatitude of the property"
   ]
  },
  {
   "cell_type": "markdown",
   "metadata": {},
   "source": [
    "## EDA\n",
    "- cek ukuran data \n",
    "- tentukan fitur kategorikal, fitur numerikal, dan target value\n",
    "- cek nilai unik tiap fitur, kalau jumlahnya ada yang sangat sedikit, bisa dipertimbangkan untuk dihapus fiturnya \n",
    "- cek ada missing values gk "
   ]
  },
  {
   "cell_type": "code",
   "execution_count": 4,
   "metadata": {
    "ExecuteTime": {
     "end_time": "2021-06-27T14:39:37.013111Z",
     "start_time": "2021-06-27T14:39:36.982099Z"
    }
   },
   "outputs": [
    {
     "data": {
      "text/html": [
       "<div>\n",
       "<style scoped>\n",
       "    .dataframe tbody tr th:only-of-type {\n",
       "        vertical-align: middle;\n",
       "    }\n",
       "\n",
       "    .dataframe tbody tr th {\n",
       "        vertical-align: top;\n",
       "    }\n",
       "\n",
       "    .dataframe thead th {\n",
       "        text-align: right;\n",
       "    }\n",
       "</style>\n",
       "<table border=\"1\" class=\"dataframe\">\n",
       "  <thead>\n",
       "    <tr style=\"text-align: right;\">\n",
       "      <th></th>\n",
       "      <th>POSTED_BY</th>\n",
       "      <th>UNDER_CONSTRUCTION</th>\n",
       "      <th>RERA</th>\n",
       "      <th>BHK_NO.</th>\n",
       "      <th>BHK_OR_RK</th>\n",
       "      <th>SQUARE_FT</th>\n",
       "      <th>READY_TO_MOVE</th>\n",
       "      <th>RESALE</th>\n",
       "      <th>ADDRESS</th>\n",
       "      <th>LONGITUDE</th>\n",
       "      <th>LATITUDE</th>\n",
       "      <th>TARGET(PRICE_IN_LACS)</th>\n",
       "    </tr>\n",
       "  </thead>\n",
       "  <tbody>\n",
       "    <tr>\n",
       "      <th>0</th>\n",
       "      <td>Owner</td>\n",
       "      <td>0</td>\n",
       "      <td>0</td>\n",
       "      <td>2</td>\n",
       "      <td>BHK</td>\n",
       "      <td>3.000000</td>\n",
       "      <td>1</td>\n",
       "      <td>1</td>\n",
       "      <td>industrial area,Hajipur</td>\n",
       "      <td>23.525713</td>\n",
       "      <td>87.287479</td>\n",
       "      <td>12.0</td>\n",
       "    </tr>\n",
       "    <tr>\n",
       "      <th>1</th>\n",
       "      <td>Owner</td>\n",
       "      <td>0</td>\n",
       "      <td>0</td>\n",
       "      <td>2</td>\n",
       "      <td>BHK</td>\n",
       "      <td>3.985594</td>\n",
       "      <td>1</td>\n",
       "      <td>1</td>\n",
       "      <td>Amlidih,Raipur</td>\n",
       "      <td>21.213822</td>\n",
       "      <td>81.676956</td>\n",
       "      <td>24.9</td>\n",
       "    </tr>\n",
       "    <tr>\n",
       "      <th>2</th>\n",
       "      <td>Owner</td>\n",
       "      <td>0</td>\n",
       "      <td>0</td>\n",
       "      <td>2</td>\n",
       "      <td>BHK</td>\n",
       "      <td>5.000000</td>\n",
       "      <td>1</td>\n",
       "      <td>1</td>\n",
       "      <td>Sector-29 Chandigarh,Chandigarh</td>\n",
       "      <td>30.755000</td>\n",
       "      <td>76.777256</td>\n",
       "      <td>45.0</td>\n",
       "    </tr>\n",
       "    <tr>\n",
       "      <th>3</th>\n",
       "      <td>Owner</td>\n",
       "      <td>0</td>\n",
       "      <td>0</td>\n",
       "      <td>2</td>\n",
       "      <td>BHK</td>\n",
       "      <td>9.397110</td>\n",
       "      <td>1</td>\n",
       "      <td>1</td>\n",
       "      <td>Brajanathchak,Haldia</td>\n",
       "      <td>22.030000</td>\n",
       "      <td>88.060000</td>\n",
       "      <td>32.5</td>\n",
       "    </tr>\n",
       "    <tr>\n",
       "      <th>4</th>\n",
       "      <td>Owner</td>\n",
       "      <td>0</td>\n",
       "      <td>0</td>\n",
       "      <td>1</td>\n",
       "      <td>BHK</td>\n",
       "      <td>10.000000</td>\n",
       "      <td>1</td>\n",
       "      <td>1</td>\n",
       "      <td>Punagam,Surat</td>\n",
       "      <td>21.216630</td>\n",
       "      <td>72.899374</td>\n",
       "      <td>8.0</td>\n",
       "    </tr>\n",
       "  </tbody>\n",
       "</table>\n",
       "</div>"
      ],
      "text/plain": [
       "  POSTED_BY  UNDER_CONSTRUCTION  RERA  BHK_NO. BHK_OR_RK  SQUARE_FT  \\\n",
       "0     Owner                   0     0        2       BHK   3.000000   \n",
       "1     Owner                   0     0        2       BHK   3.985594   \n",
       "2     Owner                   0     0        2       BHK   5.000000   \n",
       "3     Owner                   0     0        2       BHK   9.397110   \n",
       "4     Owner                   0     0        1       BHK  10.000000   \n",
       "\n",
       "   READY_TO_MOVE  RESALE                          ADDRESS  LONGITUDE  \\\n",
       "0              1       1          industrial area,Hajipur  23.525713   \n",
       "1              1       1                   Amlidih,Raipur  21.213822   \n",
       "2              1       1  Sector-29 Chandigarh,Chandigarh  30.755000   \n",
       "3              1       1             Brajanathchak,Haldia  22.030000   \n",
       "4              1       1                    Punagam,Surat  21.216630   \n",
       "\n",
       "    LATITUDE  TARGET(PRICE_IN_LACS)  \n",
       "0  87.287479                   12.0  \n",
       "1  81.676956                   24.9  \n",
       "2  76.777256                   45.0  \n",
       "3  88.060000                   32.5  \n",
       "4  72.899374                    8.0  "
      ]
     },
     "execution_count": 4,
     "metadata": {},
     "output_type": "execute_result"
    }
   ],
   "source": [
    "data.head()"
   ]
  },
  {
   "cell_type": "code",
   "execution_count": 5,
   "metadata": {
    "ExecuteTime": {
     "end_time": "2021-06-27T14:39:37.311102Z",
     "start_time": "2021-06-27T14:39:37.284097Z"
    }
   },
   "outputs": [
    {
     "name": "stdout",
     "output_type": "stream",
     "text": [
      "<class 'pandas.core.frame.DataFrame'>\n",
      "RangeIndex: 29451 entries, 0 to 29450\n",
      "Data columns (total 12 columns):\n",
      " #   Column                 Non-Null Count  Dtype  \n",
      "---  ------                 --------------  -----  \n",
      " 0   POSTED_BY              29451 non-null  object \n",
      " 1   UNDER_CONSTRUCTION     29451 non-null  int64  \n",
      " 2   RERA                   29451 non-null  int64  \n",
      " 3   BHK_NO.                29451 non-null  int64  \n",
      " 4   BHK_OR_RK              29451 non-null  object \n",
      " 5   SQUARE_FT              29451 non-null  float64\n",
      " 6   READY_TO_MOVE          29451 non-null  int64  \n",
      " 7   RESALE                 29451 non-null  int64  \n",
      " 8   ADDRESS                29451 non-null  object \n",
      " 9   LONGITUDE              29451 non-null  float64\n",
      " 10  LATITUDE               29451 non-null  float64\n",
      " 11  TARGET(PRICE_IN_LACS)  29451 non-null  float64\n",
      "dtypes: float64(4), int64(5), object(3)\n",
      "memory usage: 2.7+ MB\n"
     ]
    }
   ],
   "source": [
    "data.info()"
   ]
  },
  {
   "cell_type": "markdown",
   "metadata": {},
   "source": [
    "dari data ini dapat disimpulkan \n",
    "- tidak ada missing values \n",
    "- ukuran data : 29451 x 12 "
   ]
  },
  {
   "cell_type": "code",
   "execution_count": 6,
   "metadata": {
    "ExecuteTime": {
     "end_time": "2021-06-27T14:39:53.566948Z",
     "start_time": "2021-06-27T14:39:53.557949Z"
    }
   },
   "outputs": [],
   "source": [
    "# data dengan tipe data object sudah pasti kategorikal \n",
    "cat_features_string=[\"POSTED_BY\",\"BHK_OR_RK\",\"ADDRESS\"]\n",
    "\n",
    "# data dengan tipe data float sudah pasti numerikal \n",
    "num_features=[\"SQUARE_FT\",\"LONGITUDE\",\"LATITUDE\"]\n",
    "\n",
    "# data dengan tipe integer bisa jadi kategorikal juga. cara menentukan : lihat definisi data dan nilai unique-nya \n",
    "'''\n",
    "features dengan nilai int:\n",
    "\n",
    "UNDER_CONSTRUCTION = Under Construction or Not\n",
    "\n",
    "RERA  = approved or Not\n",
    "\n",
    "READYTOMOVE = Category marking Ready to move or Not\n",
    "\n",
    "RESALE Category = marking Resale or not\n",
    "\n",
    "BHK_NO = Number of Rooms\n",
    "\n",
    "'''\n",
    "# dari definisi di atas terlihat bahwa hanya BHK_NO yang bukan kategorikal \n",
    "# kategorikal string dan int harus dipisah karena yang int pada data ini merupakan binary category sehingga sudah tidak \n",
    "    # perlu diproses lagi\n",
    "cat_features_int=[\"UNDER_CONSTRUCTION\",\"RERA\",\"READY_TO_MOVE\",\"RESALE\",\"BHK_NO.\"]"
   ]
  },
  {
   "cell_type": "code",
   "execution_count": 7,
   "metadata": {
    "ExecuteTime": {
     "end_time": "2021-06-27T14:39:53.852718Z",
     "start_time": "2021-06-27T14:39:53.845722Z"
    }
   },
   "outputs": [],
   "source": [
    "# cek jumlah fitur sama \n",
    "#len(num_features + cat_features_string + cat_features_int)"
   ]
  },
  {
   "cell_type": "code",
   "execution_count": 8,
   "metadata": {
    "ExecuteTime": {
     "end_time": "2021-06-27T14:39:54.153205Z",
     "start_time": "2021-06-27T14:39:54.147203Z"
    }
   },
   "outputs": [],
   "source": [
    "#data_prep.calc_unique(X,cat_features_int)"
   ]
  },
  {
   "cell_type": "code",
   "execution_count": 9,
   "metadata": {
    "ExecuteTime": {
     "end_time": "2021-06-27T14:39:54.455372Z",
     "start_time": "2021-06-27T14:39:54.403387Z"
    }
   },
   "outputs": [
    {
     "name": "stdout",
     "output_type": "stream",
     "text": [
      "1 .  POSTED_BY ----------------------\n",
      "\n",
      "nilai unik:  3 \n",
      "\n",
      "Dealer     18291\n",
      "Owner      10538\n",
      "Builder      622\n",
      "Name: POSTED_BY, dtype: int64 \n",
      "\n",
      "2 .  BHK_OR_RK ----------------------\n",
      "\n",
      "nilai unik:  2 \n",
      "\n",
      "BHK    29427\n",
      "RK        24\n",
      "Name: BHK_OR_RK, dtype: int64 \n",
      "\n",
      "3 .  ADDRESS ----------------------\n",
      "\n",
      "nilai unik:  6899 \n",
      "\n",
      "Zirakpur,Chandigarh              509\n",
      "Whitefield,Bangalore             230\n",
      "Raj Nagar Extension,Ghaziabad    215\n",
      "Sector-137 Noida,Noida           139\n",
      "New Town,Kolkata                 131\n",
      "                                ... \n",
      "Bamroli,Surat                      1\n",
      "Panchsheel Colony,Chhindwara       1\n",
      "Swapna Theater,Vijayawada          1\n",
      "Khodiyar Nagar,Surat               1\n",
      "Marripalem,Visakhapatnam           1\n",
      "Name: ADDRESS, Length: 6899, dtype: int64 \n",
      "\n"
     ]
    }
   ],
   "source": [
    "data_prep.calc_unique(data,cat_features_string)"
   ]
  },
  {
   "cell_type": "code",
   "execution_count": 10,
   "metadata": {
    "ExecuteTime": {
     "end_time": "2021-06-27T14:39:54.756370Z",
     "start_time": "2021-06-27T14:39:54.741372Z"
    }
   },
   "outputs": [],
   "source": [
    "'''\n",
    "pada fitur BHK_OR_RK nilai RK sangat kecil dan bisa dianggap tidak berdampak dibandingkan nilai BHK. oleh karena hanya ada 2 fitur maka BHK_OR_RK seolah2 hanya terdiri dari 1 nilai yaitu BHK. \n",
    "oleh karena itu fitur ini dihapus saja \n",
    "'''\n",
    "data.drop(['BHK_OR_RK'],axis=1,inplace=True)"
   ]
  },
  {
   "cell_type": "code",
   "execution_count": 11,
   "metadata": {
    "ExecuteTime": {
     "end_time": "2021-06-27T14:39:55.167922Z",
     "start_time": "2021-06-27T14:39:55.052925Z"
    }
   },
   "outputs": [],
   "source": [
    "'''\n",
    "address ada banyak sekali. harus di grouping\n",
    "- extract nama city dari tiap address\n",
    "- buat kolom baru \"city\"\n",
    "- kelompokkan berdasarkan https://en.wikipedia.org/wiki/Classification_of_Indian_cities\n",
    "- hapus kolom ADDRESS\n",
    "'''\n",
    "# from ADDRESS : extract city name \n",
    "data.insert(10,'city','')\n",
    "data['city']=data['ADDRESS'].str.split(\",\").str[-1]\n",
    "\n",
    "# selain tier_1_cities dan tier_2_cities maka diklasifikasikan sebagai other_cities\n",
    "tier_1_cities = ['Ahmedabad', 'Bangalore', 'Chennai', 'Delhi', 'Hyderabad', 'Kolkata', 'Mumbai', 'Pune']\n",
    "tier_2_cities = ['Agra', 'Ajmer', 'Aligarh', 'Amravati', 'Amritsar', 'Asansol', 'Aurangabad', 'Bareilly', 'Belgaum', 'Bhavnagar', 'Bhiwandi', \n",
    "                 'Bhopal', 'Bhubaneswar', 'Bikaner', 'Bilaspur', 'Bokaro Steel City', 'Chandigarh', 'Coimbatore', 'Cuttack', 'Dehradun', 'Dhanbad',\n",
    "                 'Bhilai', 'Durgapur', 'Dindigul', 'Erode', 'Faridabad', 'Firozabad', 'Ghaziabad', 'Gorakhpur', 'Gulbarga', 'Guntur', 'Gwalior', \n",
    "                 'Gurgaon', 'Guwahati', 'Hamirpur', 'Hubli–Dharwad', 'Indore', 'Jabalpur', 'Jaipur', 'Jalandhar', 'Jammu', 'Jamnagar', 'Jamshedpur', \n",
    "                 'Jhansi', 'Jodhpur', 'Kakinada', 'Kannur', 'Kanpur', 'Karnal', 'Kochi', 'Kolhapur', 'Kollam', 'Kozhikode', 'Kurnool', 'Ludhiana', \n",
    "                 'Lucknow', 'Madurai', 'Malappuram', 'Mathura', 'Mangalore', 'Meerut', 'Moradabad', 'Mysore', 'Nagpur', 'Nanded', 'Nashik', 'Nellore',\n",
    "                 'Noida', 'Patna', 'Pondicherry', 'Purulia', 'Prayagraj', 'Raipur', 'Rajkot', 'Rajahmundry', 'Ranchi', 'Rourkela', 'Salem', 'Sangli', \n",
    "                 'Shimla', 'Siliguri', 'Solapur', 'Srinagar', 'Surat', 'Thanjavur', 'Thiruvananthapuram', 'Thrissur', 'Tiruchirappalli', 'Tirunelveli', \n",
    "                 'Ujjain', 'Bijapur', 'Vadodara', 'Varanasi', 'Vasai-Virar City', 'Vijayawada', 'Visakhapatnam', 'Vellore', 'Warangal']"
   ]
  },
  {
   "cell_type": "code",
   "execution_count": 12,
   "metadata": {
    "ExecuteTime": {
     "end_time": "2021-06-27T14:39:55.437920Z",
     "start_time": "2021-06-27T14:39:55.393925Z"
    }
   },
   "outputs": [],
   "source": [
    "# ganti nilai city berdasarkan tier city nya \n",
    "def check_city(x):\n",
    "    if x in tier_1_cities:\n",
    "        return \"tier_1\"\n",
    "    elif x in tier_2_cities:\n",
    "        return \"tier_2\"\n",
    "    else:\n",
    "        return \"other\"\n",
    "    \n",
    "data['city']=data['city'].apply(check_city)"
   ]
  },
  {
   "cell_type": "code",
   "execution_count": 13,
   "metadata": {
    "ExecuteTime": {
     "end_time": "2021-06-27T14:39:55.740926Z",
     "start_time": "2021-06-27T14:39:55.723927Z"
    }
   },
   "outputs": [],
   "source": [
    "# drop ADDRESS karena sudah diganti dengan city\n",
    "data.drop(['ADDRESS'],axis=1,inplace=True)"
   ]
  },
  {
   "cell_type": "code",
   "execution_count": 14,
   "metadata": {
    "ExecuteTime": {
     "end_time": "2021-06-27T14:39:57.098722Z",
     "start_time": "2021-06-27T14:39:57.070720Z"
    }
   },
   "outputs": [
    {
     "data": {
      "text/html": [
       "<div>\n",
       "<style scoped>\n",
       "    .dataframe tbody tr th:only-of-type {\n",
       "        vertical-align: middle;\n",
       "    }\n",
       "\n",
       "    .dataframe tbody tr th {\n",
       "        vertical-align: top;\n",
       "    }\n",
       "\n",
       "    .dataframe thead th {\n",
       "        text-align: right;\n",
       "    }\n",
       "</style>\n",
       "<table border=\"1\" class=\"dataframe\">\n",
       "  <thead>\n",
       "    <tr style=\"text-align: right;\">\n",
       "      <th></th>\n",
       "      <th>POSTED_BY</th>\n",
       "      <th>UNDER_CONSTRUCTION</th>\n",
       "      <th>RERA</th>\n",
       "      <th>BHK_NO.</th>\n",
       "      <th>SQUARE_FT</th>\n",
       "      <th>READY_TO_MOVE</th>\n",
       "      <th>RESALE</th>\n",
       "      <th>LONGITUDE</th>\n",
       "      <th>LATITUDE</th>\n",
       "      <th>city</th>\n",
       "      <th>TARGET(PRICE_IN_LACS)</th>\n",
       "    </tr>\n",
       "  </thead>\n",
       "  <tbody>\n",
       "    <tr>\n",
       "      <th>0</th>\n",
       "      <td>Owner</td>\n",
       "      <td>0</td>\n",
       "      <td>0</td>\n",
       "      <td>2</td>\n",
       "      <td>3.000000</td>\n",
       "      <td>1</td>\n",
       "      <td>1</td>\n",
       "      <td>23.525713</td>\n",
       "      <td>87.287479</td>\n",
       "      <td>other</td>\n",
       "      <td>12.0</td>\n",
       "    </tr>\n",
       "    <tr>\n",
       "      <th>1</th>\n",
       "      <td>Owner</td>\n",
       "      <td>0</td>\n",
       "      <td>0</td>\n",
       "      <td>2</td>\n",
       "      <td>3.985594</td>\n",
       "      <td>1</td>\n",
       "      <td>1</td>\n",
       "      <td>21.213822</td>\n",
       "      <td>81.676956</td>\n",
       "      <td>tier_2</td>\n",
       "      <td>24.9</td>\n",
       "    </tr>\n",
       "    <tr>\n",
       "      <th>2</th>\n",
       "      <td>Owner</td>\n",
       "      <td>0</td>\n",
       "      <td>0</td>\n",
       "      <td>2</td>\n",
       "      <td>5.000000</td>\n",
       "      <td>1</td>\n",
       "      <td>1</td>\n",
       "      <td>30.755000</td>\n",
       "      <td>76.777256</td>\n",
       "      <td>tier_2</td>\n",
       "      <td>45.0</td>\n",
       "    </tr>\n",
       "    <tr>\n",
       "      <th>3</th>\n",
       "      <td>Owner</td>\n",
       "      <td>0</td>\n",
       "      <td>0</td>\n",
       "      <td>2</td>\n",
       "      <td>9.397110</td>\n",
       "      <td>1</td>\n",
       "      <td>1</td>\n",
       "      <td>22.030000</td>\n",
       "      <td>88.060000</td>\n",
       "      <td>other</td>\n",
       "      <td>32.5</td>\n",
       "    </tr>\n",
       "    <tr>\n",
       "      <th>4</th>\n",
       "      <td>Owner</td>\n",
       "      <td>0</td>\n",
       "      <td>0</td>\n",
       "      <td>1</td>\n",
       "      <td>10.000000</td>\n",
       "      <td>1</td>\n",
       "      <td>1</td>\n",
       "      <td>21.216630</td>\n",
       "      <td>72.899374</td>\n",
       "      <td>tier_2</td>\n",
       "      <td>8.0</td>\n",
       "    </tr>\n",
       "  </tbody>\n",
       "</table>\n",
       "</div>"
      ],
      "text/plain": [
       "  POSTED_BY  UNDER_CONSTRUCTION  RERA  BHK_NO.  SQUARE_FT  READY_TO_MOVE  \\\n",
       "0     Owner                   0     0        2   3.000000              1   \n",
       "1     Owner                   0     0        2   3.985594              1   \n",
       "2     Owner                   0     0        2   5.000000              1   \n",
       "3     Owner                   0     0        2   9.397110              1   \n",
       "4     Owner                   0     0        1  10.000000              1   \n",
       "\n",
       "   RESALE  LONGITUDE   LATITUDE    city  TARGET(PRICE_IN_LACS)  \n",
       "0       1  23.525713  87.287479   other                   12.0  \n",
       "1       1  21.213822  81.676956  tier_2                   24.9  \n",
       "2       1  30.755000  76.777256  tier_2                   45.0  \n",
       "3       1  22.030000  88.060000   other                   32.5  \n",
       "4       1  21.216630  72.899374  tier_2                    8.0  "
      ]
     },
     "execution_count": 14,
     "metadata": {},
     "output_type": "execute_result"
    }
   ],
   "source": [
    "data.head()"
   ]
  },
  {
   "cell_type": "code",
   "execution_count": 15,
   "metadata": {
    "ExecuteTime": {
     "end_time": "2021-06-27T14:39:57.384729Z",
     "start_time": "2021-06-27T14:39:57.373723Z"
    }
   },
   "outputs": [],
   "source": [
    "posted_by=data[\"POSTED_BY\"]\n",
    "city=data[\"city\"]"
   ]
  },
  {
   "cell_type": "code",
   "execution_count": 16,
   "metadata": {
    "ExecuteTime": {
     "end_time": "2021-06-27T14:39:58.469617Z",
     "start_time": "2021-06-27T14:39:58.451638Z"
    }
   },
   "outputs": [
    {
     "data": {
      "text/plain": [
       "pandas.core.series.Series"
      ]
     },
     "execution_count": 16,
     "metadata": {},
     "output_type": "execute_result"
    }
   ],
   "source": [
    "type(posted_by)"
   ]
  },
  {
   "cell_type": "code",
   "execution_count": 17,
   "metadata": {
    "ExecuteTime": {
     "end_time": "2021-06-27T14:39:58.891156Z",
     "start_time": "2021-06-27T14:39:58.740483Z"
    }
   },
   "outputs": [
    {
     "data": {
      "image/png": "[encoded data removed]",
      "text/plain": [
       "<Figure size 432x288 with 1 Axes>"
      ]
     },
     "metadata": {
      "needs_background": "light"
     },
     "output_type": "display_data"
    }
   ],
   "source": [
    "plt.boxplot(data[\"SQUARE_FT\"])\n",
    "plt.show()"
   ]
  },
  {
   "cell_type": "markdown",
   "metadata": {},
   "source": [
    "**SQUARE_FT** memiliki range nilai besar dan outlier. hal ini akan menyebabkan hasil dari min max scaler => banyak angka dibelakang koma. dikhawatirkan akan memperlama komputasi "
   ]
  },
  {
   "cell_type": "code",
   "execution_count": 18,
   "metadata": {
    "ExecuteTime": {
     "end_time": "2021-06-27T14:40:00.933960Z",
     "start_time": "2021-06-27T14:40:00.903179Z"
    }
   },
   "outputs": [
    {
     "data": {
      "text/plain": [
       "(29451, 11)"
      ]
     },
     "execution_count": 18,
     "metadata": {},
     "output_type": "execute_result"
    }
   ],
   "source": [
    "# jumlah data sebelum dihapus \n",
    "data.shape"
   ]
  },
  {
   "cell_type": "code",
   "execution_count": 19,
   "metadata": {
    "ExecuteTime": {
     "end_time": "2021-06-27T14:40:02.191201Z",
     "start_time": "2021-06-27T14:40:02.147202Z"
    }
   },
   "outputs": [],
   "source": [
    "# delete extreme outliers\n",
    "batas_1=100\n",
    "batas_2=6000\n",
    "data=data.drop(data[data[\"SQUARE_FT\"]<batas_1].index)\n",
    "data=data.drop(data[data[\"SQUARE_FT\"]>batas_2].index)"
   ]
  },
  {
   "cell_type": "code",
   "execution_count": 20,
   "metadata": {
    "ExecuteTime": {
     "end_time": "2021-06-27T14:40:02.509207Z",
     "start_time": "2021-06-27T14:40:02.491210Z"
    }
   },
   "outputs": [
    {
     "data": {
      "text/plain": [
       "(29166, 11)"
      ]
     },
     "execution_count": 20,
     "metadata": {},
     "output_type": "execute_result"
    }
   ],
   "source": [
    "# jumlah data setelah dihapus \n",
    "data.shape"
   ]
  },
  {
   "cell_type": "code",
   "execution_count": 21,
   "metadata": {
    "ExecuteTime": {
     "end_time": "2021-06-27T14:40:02.931828Z",
     "start_time": "2021-06-27T14:40:02.801921Z"
    }
   },
   "outputs": [
    {
     "data": {
      "image/png": "[encoded data removed]",
      "text/plain": [
       "<Figure size 432x288 with 1 Axes>"
      ]
     },
     "metadata": {
      "needs_background": "light"
     },
     "output_type": "display_data"
    }
   ],
   "source": [
    "plt.boxplot(data[\"SQUARE_FT\"])\n",
    "plt.show()"
   ]
  },
  {
   "cell_type": "markdown",
   "metadata": {},
   "source": [
    "**LONGITUDE** dan **LATITUDE** range antara nilai max dan min tidak terlalu besar. tidak perlu hapus outlier-nya"
   ]
  },
  {
   "cell_type": "code",
   "execution_count": 22,
   "metadata": {
    "ExecuteTime": {
     "end_time": "2021-06-27T14:40:05.041576Z",
     "start_time": "2021-06-27T14:40:04.922582Z"
    }
   },
   "outputs": [
    {
     "data": {
      "image/png": "[encoded data removed]",
      "text/plain": [
       "<Figure size 432x288 with 1 Axes>"
      ]
     },
     "metadata": {
      "needs_background": "light"
     },
     "output_type": "display_data"
    }
   ],
   "source": [
    "plt.boxplot(data[\"LONGITUDE\"])\n",
    "plt.show()"
   ]
  },
  {
   "cell_type": "code",
   "execution_count": 23,
   "metadata": {
    "ExecuteTime": {
     "end_time": "2021-06-27T14:40:05.532561Z",
     "start_time": "2021-06-27T14:40:05.394562Z"
    }
   },
   "outputs": [
    {
     "data": {
      "image/png": "[encoded data removed]",
      "text/plain": [
       "<Figure size 432x288 with 1 Axes>"
      ]
     },
     "metadata": {
      "needs_background": "light"
     },
     "output_type": "display_data"
    }
   ],
   "source": [
    "plt.boxplot(data[\"LATITUDE\"])\n",
    "plt.show()"
   ]
  },
  {
   "cell_type": "code",
   "execution_count": 24,
   "metadata": {
    "ExecuteTime": {
     "end_time": "2021-06-27T14:40:07.006869Z",
     "start_time": "2021-06-27T14:40:06.988895Z"
    }
   },
   "outputs": [
    {
     "data": {
      "text/plain": [
       "['POSTED_BY', 'BHK_OR_RK', 'ADDRESS']"
      ]
     },
     "execution_count": 24,
     "metadata": {},
     "output_type": "execute_result"
    }
   ],
   "source": [
    "cat_features_string"
   ]
  },
  {
   "cell_type": "code",
   "execution_count": 25,
   "metadata": {
    "ExecuteTime": {
     "end_time": "2021-06-27T14:40:07.308867Z",
     "start_time": "2021-06-27T14:40:07.294873Z"
    }
   },
   "outputs": [
    {
     "data": {
      "text/plain": [
       "['POSTED_BY', 'city']"
      ]
     },
     "execution_count": 25,
     "metadata": {},
     "output_type": "execute_result"
    }
   ],
   "source": [
    "# UPDATE cat_features_string\n",
    "'''\n",
    "ADDRESS dihapus karena sudah diganti oleh city\n",
    "BHK_OR_RK dihapus karena nilai RK sangat kecil \n",
    "tambah fitur baru yaitu city\n",
    "'''\n",
    "cat_features_string.remove(\"ADDRESS\")\n",
    "cat_features_string.remove(\"BHK_OR_RK\")\n",
    "cat_features_string+=[\"city\"]\n",
    "cat_features_string"
   ]
  },
  {
   "cell_type": "markdown",
   "metadata": {},
   "source": [
    "## feature engineering"
   ]
  },
  {
   "cell_type": "markdown",
   "metadata": {},
   "source": [
    "cat_features_int : tidak ada preprocess karena data sudah numerikal dan tidak ada yang aneh dengan datanya \n",
    "\n",
    "cat_features_string : OHE\n",
    "\n",
    "num_features : minmax scaler, bulatkan nilainya\n"
   ]
  },
  {
   "cell_type": "code",
   "execution_count": 26,
   "metadata": {
    "ExecuteTime": {
     "end_time": "2021-06-27T14:40:09.532551Z",
     "start_time": "2021-06-27T14:40:09.515528Z"
    }
   },
   "outputs": [],
   "source": [
    "'''\n",
    "pisah antara data fitur dan output\n",
    "output tidak akan mengalami transformasi apapun\n",
    "sedangkan data fitur akan mengalami transformasi \n",
    "'''\n",
    "X,y=data_prep.split_x_y(data)"
   ]
  },
  {
   "cell_type": "code",
   "execution_count": 27,
   "metadata": {
    "ExecuteTime": {
     "end_time": "2021-06-27T14:40:09.835526Z",
     "start_time": "2021-06-27T14:40:09.820530Z"
    }
   },
   "outputs": [],
   "source": [
    "# X_catboost tidak melalui \"feature transform untuk cat_feature_string\"\n",
    "X_catboost=X.copy()"
   ]
  },
  {
   "cell_type": "code",
   "execution_count": 28,
   "metadata": {
    "ExecuteTime": {
     "end_time": "2021-06-27T14:40:10.165416Z",
     "start_time": "2021-06-27T14:40:10.130416Z"
    }
   },
   "outputs": [
    {
     "data": {
      "text/html": [
       "<div>\n",
       "<style scoped>\n",
       "    .dataframe tbody tr th:only-of-type {\n",
       "        vertical-align: middle;\n",
       "    }\n",
       "\n",
       "    .dataframe tbody tr th {\n",
       "        vertical-align: top;\n",
       "    }\n",
       "\n",
       "    .dataframe thead th {\n",
       "        text-align: right;\n",
       "    }\n",
       "</style>\n",
       "<table border=\"1\" class=\"dataframe\">\n",
       "  <thead>\n",
       "    <tr style=\"text-align: right;\">\n",
       "      <th></th>\n",
       "      <th>POSTED_BY</th>\n",
       "      <th>UNDER_CONSTRUCTION</th>\n",
       "      <th>RERA</th>\n",
       "      <th>BHK_NO.</th>\n",
       "      <th>SQUARE_FT</th>\n",
       "      <th>READY_TO_MOVE</th>\n",
       "      <th>RESALE</th>\n",
       "      <th>LONGITUDE</th>\n",
       "      <th>LATITUDE</th>\n",
       "      <th>city</th>\n",
       "    </tr>\n",
       "  </thead>\n",
       "  <tbody>\n",
       "    <tr>\n",
       "      <th>27</th>\n",
       "      <td>Owner</td>\n",
       "      <td>0</td>\n",
       "      <td>0</td>\n",
       "      <td>3</td>\n",
       "      <td>100.000000</td>\n",
       "      <td>1</td>\n",
       "      <td>1</td>\n",
       "      <td>26.445769</td>\n",
       "      <td>80.304593</td>\n",
       "      <td>tier_2</td>\n",
       "    </tr>\n",
       "    <tr>\n",
       "      <th>28</th>\n",
       "      <td>Owner</td>\n",
       "      <td>0</td>\n",
       "      <td>0</td>\n",
       "      <td>2</td>\n",
       "      <td>101.933552</td>\n",
       "      <td>1</td>\n",
       "      <td>1</td>\n",
       "      <td>26.807408</td>\n",
       "      <td>75.838659</td>\n",
       "      <td>tier_2</td>\n",
       "    </tr>\n",
       "    <tr>\n",
       "      <th>29</th>\n",
       "      <td>Owner</td>\n",
       "      <td>0</td>\n",
       "      <td>0</td>\n",
       "      <td>5</td>\n",
       "      <td>107.000508</td>\n",
       "      <td>1</td>\n",
       "      <td>1</td>\n",
       "      <td>28.792047</td>\n",
       "      <td>76.153873</td>\n",
       "      <td>other</td>\n",
       "    </tr>\n",
       "    <tr>\n",
       "      <th>30</th>\n",
       "      <td>Dealer</td>\n",
       "      <td>0</td>\n",
       "      <td>0</td>\n",
       "      <td>2</td>\n",
       "      <td>124.947224</td>\n",
       "      <td>1</td>\n",
       "      <td>1</td>\n",
       "      <td>12.919423</td>\n",
       "      <td>77.522774</td>\n",
       "      <td>tier_1</td>\n",
       "    </tr>\n",
       "    <tr>\n",
       "      <th>31</th>\n",
       "      <td>Owner</td>\n",
       "      <td>0</td>\n",
       "      <td>0</td>\n",
       "      <td>2</td>\n",
       "      <td>150.006819</td>\n",
       "      <td>1</td>\n",
       "      <td>1</td>\n",
       "      <td>27.880000</td>\n",
       "      <td>78.080000</td>\n",
       "      <td>tier_2</td>\n",
       "    </tr>\n",
       "  </tbody>\n",
       "</table>\n",
       "</div>"
      ],
      "text/plain": [
       "   POSTED_BY  UNDER_CONSTRUCTION  RERA  BHK_NO.   SQUARE_FT  READY_TO_MOVE  \\\n",
       "27     Owner                   0     0        3  100.000000              1   \n",
       "28     Owner                   0     0        2  101.933552              1   \n",
       "29     Owner                   0     0        5  107.000508              1   \n",
       "30    Dealer                   0     0        2  124.947224              1   \n",
       "31     Owner                   0     0        2  150.006819              1   \n",
       "\n",
       "    RESALE  LONGITUDE   LATITUDE    city  \n",
       "27       1  26.445769  80.304593  tier_2  \n",
       "28       1  26.807408  75.838659  tier_2  \n",
       "29       1  28.792047  76.153873   other  \n",
       "30       1  12.919423  77.522774  tier_1  \n",
       "31       1  27.880000  78.080000  tier_2  "
      ]
     },
     "execution_count": 28,
     "metadata": {},
     "output_type": "execute_result"
    }
   ],
   "source": [
    "X.head()"
   ]
  },
  {
   "cell_type": "markdown",
   "metadata": {},
   "source": [
    "### feature transform untuk cat_feature_string"
   ]
  },
  {
   "cell_type": "code",
   "execution_count": 29,
   "metadata": {
    "ExecuteTime": {
     "end_time": "2021-06-27T14:40:11.570182Z",
     "start_time": "2021-06-27T14:40:11.563199Z"
    }
   },
   "outputs": [
    {
     "data": {
      "text/plain": [
       "['POSTED_BY', 'city']"
      ]
     },
     "execution_count": 29,
     "metadata": {},
     "output_type": "execute_result"
    }
   ],
   "source": [
    "cat_features_string"
   ]
  },
  {
   "cell_type": "code",
   "execution_count": 30,
   "metadata": {
    "ExecuteTime": {
     "end_time": "2021-06-27T14:40:11.994085Z",
     "start_time": "2021-06-27T14:40:11.915084Z"
    }
   },
   "outputs": [
    {
     "data": {
      "text/html": [
       "<div>\n",
       "<style scoped>\n",
       "    .dataframe tbody tr th:only-of-type {\n",
       "        vertical-align: middle;\n",
       "    }\n",
       "\n",
       "    .dataframe tbody tr th {\n",
       "        vertical-align: top;\n",
       "    }\n",
       "\n",
       "    .dataframe thead th {\n",
       "        text-align: right;\n",
       "    }\n",
       "</style>\n",
       "<table border=\"1\" class=\"dataframe\">\n",
       "  <thead>\n",
       "    <tr style=\"text-align: right;\">\n",
       "      <th></th>\n",
       "      <th>POSTED_BY_1</th>\n",
       "      <th>POSTED_BY_2</th>\n",
       "      <th>POSTED_BY_3</th>\n",
       "      <th>UNDER_CONSTRUCTION</th>\n",
       "      <th>RERA</th>\n",
       "      <th>BHK_NO.</th>\n",
       "      <th>SQUARE_FT</th>\n",
       "      <th>READY_TO_MOVE</th>\n",
       "      <th>RESALE</th>\n",
       "      <th>LONGITUDE</th>\n",
       "      <th>LATITUDE</th>\n",
       "      <th>city</th>\n",
       "    </tr>\n",
       "  </thead>\n",
       "  <tbody>\n",
       "    <tr>\n",
       "      <th>0</th>\n",
       "      <td>0</td>\n",
       "      <td>0</td>\n",
       "      <td>1</td>\n",
       "      <td>0</td>\n",
       "      <td>0</td>\n",
       "      <td>3</td>\n",
       "      <td>100</td>\n",
       "      <td>1</td>\n",
       "      <td>1</td>\n",
       "      <td>26.4458</td>\n",
       "      <td>80.3046</td>\n",
       "      <td>tier_2</td>\n",
       "    </tr>\n",
       "    <tr>\n",
       "      <th>1</th>\n",
       "      <td>0</td>\n",
       "      <td>0</td>\n",
       "      <td>1</td>\n",
       "      <td>0</td>\n",
       "      <td>0</td>\n",
       "      <td>2</td>\n",
       "      <td>101.934</td>\n",
       "      <td>1</td>\n",
       "      <td>1</td>\n",
       "      <td>26.8074</td>\n",
       "      <td>75.8387</td>\n",
       "      <td>tier_2</td>\n",
       "    </tr>\n",
       "    <tr>\n",
       "      <th>2</th>\n",
       "      <td>0</td>\n",
       "      <td>0</td>\n",
       "      <td>1</td>\n",
       "      <td>0</td>\n",
       "      <td>0</td>\n",
       "      <td>5</td>\n",
       "      <td>107.001</td>\n",
       "      <td>1</td>\n",
       "      <td>1</td>\n",
       "      <td>28.792</td>\n",
       "      <td>76.1539</td>\n",
       "      <td>other</td>\n",
       "    </tr>\n",
       "    <tr>\n",
       "      <th>3</th>\n",
       "      <td>0</td>\n",
       "      <td>1</td>\n",
       "      <td>0</td>\n",
       "      <td>0</td>\n",
       "      <td>0</td>\n",
       "      <td>2</td>\n",
       "      <td>124.947</td>\n",
       "      <td>1</td>\n",
       "      <td>1</td>\n",
       "      <td>12.9194</td>\n",
       "      <td>77.5228</td>\n",
       "      <td>tier_1</td>\n",
       "    </tr>\n",
       "    <tr>\n",
       "      <th>4</th>\n",
       "      <td>0</td>\n",
       "      <td>0</td>\n",
       "      <td>1</td>\n",
       "      <td>0</td>\n",
       "      <td>0</td>\n",
       "      <td>2</td>\n",
       "      <td>150.007</td>\n",
       "      <td>1</td>\n",
       "      <td>1</td>\n",
       "      <td>27.88</td>\n",
       "      <td>78.08</td>\n",
       "      <td>tier_2</td>\n",
       "    </tr>\n",
       "  </tbody>\n",
       "</table>\n",
       "</div>"
      ],
      "text/plain": [
       "  POSTED_BY_1 POSTED_BY_2 POSTED_BY_3 UNDER_CONSTRUCTION RERA BHK_NO.  \\\n",
       "0           0           0           1                  0    0       3   \n",
       "1           0           0           1                  0    0       2   \n",
       "2           0           0           1                  0    0       5   \n",
       "3           0           1           0                  0    0       2   \n",
       "4           0           0           1                  0    0       2   \n",
       "\n",
       "  SQUARE_FT READY_TO_MOVE RESALE LONGITUDE LATITUDE    city  \n",
       "0       100             1      1   26.4458  80.3046  tier_2  \n",
       "1   101.934             1      1   26.8074  75.8387  tier_2  \n",
       "2   107.001             1      1    28.792  76.1539   other  \n",
       "3   124.947             1      1   12.9194  77.5228  tier_1  \n",
       "4   150.007             1      1     27.88    78.08  tier_2  "
      ]
     },
     "execution_count": 30,
     "metadata": {},
     "output_type": "execute_result"
    }
   ],
   "source": [
    "# one hot encoding untuk POSTED_BY\n",
    "\n",
    "cat_features_string=['POSTED_BY']\n",
    "X=data_prep.transform_fitur_onehot(X,cat_features_string)\n",
    "X=pd.DataFrame(X)\n",
    "X.columns=[\"POSTED_BY_1\",\"POSTED_BY_2\",\"POSTED_BY_3\",\"UNDER_CONSTRUCTION\",\"RERA\",\"BHK_NO.\",\"SQUARE_FT\",\"READY_TO_MOVE\",\"RESALE\",\"LONGITUDE\",\"LATITUDE\",\"city\"]\n",
    "X.head()\n"
   ]
  },
  {
   "cell_type": "code",
   "execution_count": 31,
   "metadata": {
    "ExecuteTime": {
     "end_time": "2021-06-27T14:40:12.359080Z",
     "start_time": "2021-06-27T14:40:12.275084Z"
    }
   },
   "outputs": [
    {
     "data": {
      "text/html": [
       "<div>\n",
       "<style scoped>\n",
       "    .dataframe tbody tr th:only-of-type {\n",
       "        vertical-align: middle;\n",
       "    }\n",
       "\n",
       "    .dataframe tbody tr th {\n",
       "        vertical-align: top;\n",
       "    }\n",
       "\n",
       "    .dataframe thead th {\n",
       "        text-align: right;\n",
       "    }\n",
       "</style>\n",
       "<table border=\"1\" class=\"dataframe\">\n",
       "  <thead>\n",
       "    <tr style=\"text-align: right;\">\n",
       "      <th></th>\n",
       "      <th>city_1</th>\n",
       "      <th>city_2</th>\n",
       "      <th>city_3</th>\n",
       "      <th>POSTED_BY_1</th>\n",
       "      <th>POSTED_BY_2</th>\n",
       "      <th>POSTED_BY_3</th>\n",
       "      <th>UNDER_CONSTRUCTION</th>\n",
       "      <th>RERA</th>\n",
       "      <th>BHK_NO.</th>\n",
       "      <th>SQUARE_FT</th>\n",
       "      <th>READY_TO_MOVE</th>\n",
       "      <th>RESALE</th>\n",
       "      <th>LONGITUDE</th>\n",
       "      <th>LATITUDE</th>\n",
       "    </tr>\n",
       "  </thead>\n",
       "  <tbody>\n",
       "    <tr>\n",
       "      <th>0</th>\n",
       "      <td>0</td>\n",
       "      <td>0</td>\n",
       "      <td>1</td>\n",
       "      <td>0</td>\n",
       "      <td>0</td>\n",
       "      <td>1</td>\n",
       "      <td>0</td>\n",
       "      <td>0</td>\n",
       "      <td>3</td>\n",
       "      <td>100</td>\n",
       "      <td>1</td>\n",
       "      <td>1</td>\n",
       "      <td>26.4458</td>\n",
       "      <td>80.3046</td>\n",
       "    </tr>\n",
       "    <tr>\n",
       "      <th>1</th>\n",
       "      <td>0</td>\n",
       "      <td>0</td>\n",
       "      <td>1</td>\n",
       "      <td>0</td>\n",
       "      <td>0</td>\n",
       "      <td>1</td>\n",
       "      <td>0</td>\n",
       "      <td>0</td>\n",
       "      <td>2</td>\n",
       "      <td>101.934</td>\n",
       "      <td>1</td>\n",
       "      <td>1</td>\n",
       "      <td>26.8074</td>\n",
       "      <td>75.8387</td>\n",
       "    </tr>\n",
       "    <tr>\n",
       "      <th>2</th>\n",
       "      <td>1</td>\n",
       "      <td>0</td>\n",
       "      <td>0</td>\n",
       "      <td>0</td>\n",
       "      <td>0</td>\n",
       "      <td>1</td>\n",
       "      <td>0</td>\n",
       "      <td>0</td>\n",
       "      <td>5</td>\n",
       "      <td>107.001</td>\n",
       "      <td>1</td>\n",
       "      <td>1</td>\n",
       "      <td>28.792</td>\n",
       "      <td>76.1539</td>\n",
       "    </tr>\n",
       "    <tr>\n",
       "      <th>3</th>\n",
       "      <td>0</td>\n",
       "      <td>1</td>\n",
       "      <td>0</td>\n",
       "      <td>0</td>\n",
       "      <td>1</td>\n",
       "      <td>0</td>\n",
       "      <td>0</td>\n",
       "      <td>0</td>\n",
       "      <td>2</td>\n",
       "      <td>124.947</td>\n",
       "      <td>1</td>\n",
       "      <td>1</td>\n",
       "      <td>12.9194</td>\n",
       "      <td>77.5228</td>\n",
       "    </tr>\n",
       "    <tr>\n",
       "      <th>4</th>\n",
       "      <td>0</td>\n",
       "      <td>0</td>\n",
       "      <td>1</td>\n",
       "      <td>0</td>\n",
       "      <td>0</td>\n",
       "      <td>1</td>\n",
       "      <td>0</td>\n",
       "      <td>0</td>\n",
       "      <td>2</td>\n",
       "      <td>150.007</td>\n",
       "      <td>1</td>\n",
       "      <td>1</td>\n",
       "      <td>27.88</td>\n",
       "      <td>78.08</td>\n",
       "    </tr>\n",
       "  </tbody>\n",
       "</table>\n",
       "</div>"
      ],
      "text/plain": [
       "  city_1 city_2 city_3 POSTED_BY_1 POSTED_BY_2 POSTED_BY_3 UNDER_CONSTRUCTION  \\\n",
       "0      0      0      1           0           0           1                  0   \n",
       "1      0      0      1           0           0           1                  0   \n",
       "2      1      0      0           0           0           1                  0   \n",
       "3      0      1      0           0           1           0                  0   \n",
       "4      0      0      1           0           0           1                  0   \n",
       "\n",
       "  RERA BHK_NO. SQUARE_FT READY_TO_MOVE RESALE LONGITUDE LATITUDE  \n",
       "0    0       3       100             1      1   26.4458  80.3046  \n",
       "1    0       2   101.934             1      1   26.8074  75.8387  \n",
       "2    0       5   107.001             1      1    28.792  76.1539  \n",
       "3    0       2   124.947             1      1   12.9194  77.5228  \n",
       "4    0       2   150.007             1      1     27.88    78.08  "
      ]
     },
     "execution_count": 31,
     "metadata": {},
     "output_type": "execute_result"
    }
   ],
   "source": [
    "# one hot encoding untuk city\n",
    "\n",
    "cat_features_string=['city']\n",
    "X=data_prep.transform_fitur_onehot(X,cat_features_string)\n",
    "X=pd.DataFrame(X)\n",
    "X.columns=[\"city_1\",\"city_2\",\"city_3\",\"POSTED_BY_1\",\"POSTED_BY_2\",\"POSTED_BY_3\",\"UNDER_CONSTRUCTION\",\"RERA\",\"BHK_NO.\",\"SQUARE_FT\",\"READY_TO_MOVE\",\"RESALE\",\"LONGITUDE\",\"LATITUDE\"]\n",
    "X.head()"
   ]
  },
  {
   "cell_type": "markdown",
   "metadata": {},
   "source": [
    "### feature transform untuk num_feature"
   ]
  },
  {
   "cell_type": "code",
   "execution_count": 32,
   "metadata": {
    "ExecuteTime": {
     "end_time": "2021-06-27T14:40:13.772919Z",
     "start_time": "2021-06-27T14:40:13.754941Z"
    }
   },
   "outputs": [
    {
     "data": {
      "text/plain": [
       "['SQUARE_FT', 'LONGITUDE', 'LATITUDE']"
      ]
     },
     "execution_count": 32,
     "metadata": {},
     "output_type": "execute_result"
    }
   ],
   "source": [
    "num_features"
   ]
  },
  {
   "cell_type": "markdown",
   "metadata": {
    "ExecuteTime": {
     "end_time": "2021-06-16T06:56:30.513635Z",
     "start_time": "2021-06-16T06:56:30.493625Z"
    }
   },
   "source": [
    "cek berapa banyak data outlier yang extreme, kalau tidak terlalu banyak hapus saja "
   ]
  },
  {
   "cell_type": "code",
   "execution_count": 33,
   "metadata": {
    "ExecuteTime": {
     "end_time": "2021-06-27T14:40:15.239513Z",
     "start_time": "2021-06-27T14:40:15.165500Z"
    }
   },
   "outputs": [
    {
     "data": {
      "text/html": [
       "<div>\n",
       "<style scoped>\n",
       "    .dataframe tbody tr th:only-of-type {\n",
       "        vertical-align: middle;\n",
       "    }\n",
       "\n",
       "    .dataframe tbody tr th {\n",
       "        vertical-align: top;\n",
       "    }\n",
       "\n",
       "    .dataframe thead th {\n",
       "        text-align: right;\n",
       "    }\n",
       "</style>\n",
       "<table border=\"1\" class=\"dataframe\">\n",
       "  <thead>\n",
       "    <tr style=\"text-align: right;\">\n",
       "      <th></th>\n",
       "      <th>SQUARE_FT</th>\n",
       "      <th>city_1</th>\n",
       "      <th>city_2</th>\n",
       "      <th>city_3</th>\n",
       "      <th>POSTED_BY_1</th>\n",
       "      <th>POSTED_BY_2</th>\n",
       "      <th>POSTED_BY_3</th>\n",
       "      <th>UNDER_CONSTRUCTION</th>\n",
       "      <th>RERA</th>\n",
       "      <th>BHK_NO.</th>\n",
       "      <th>READY_TO_MOVE</th>\n",
       "      <th>RESALE</th>\n",
       "      <th>LONGITUDE</th>\n",
       "      <th>LATITUDE</th>\n",
       "    </tr>\n",
       "  </thead>\n",
       "  <tbody>\n",
       "    <tr>\n",
       "      <th>0</th>\n",
       "      <td>0</td>\n",
       "      <td>0</td>\n",
       "      <td>0</td>\n",
       "      <td>1</td>\n",
       "      <td>0</td>\n",
       "      <td>0</td>\n",
       "      <td>1</td>\n",
       "      <td>0</td>\n",
       "      <td>0</td>\n",
       "      <td>3</td>\n",
       "      <td>1</td>\n",
       "      <td>1</td>\n",
       "      <td>26.4458</td>\n",
       "      <td>80.3046</td>\n",
       "    </tr>\n",
       "    <tr>\n",
       "      <th>1</th>\n",
       "      <td>0.000327721</td>\n",
       "      <td>0</td>\n",
       "      <td>0</td>\n",
       "      <td>1</td>\n",
       "      <td>0</td>\n",
       "      <td>0</td>\n",
       "      <td>1</td>\n",
       "      <td>0</td>\n",
       "      <td>0</td>\n",
       "      <td>2</td>\n",
       "      <td>1</td>\n",
       "      <td>1</td>\n",
       "      <td>26.8074</td>\n",
       "      <td>75.8387</td>\n",
       "    </tr>\n",
       "    <tr>\n",
       "      <th>2</th>\n",
       "      <td>0.00118653</td>\n",
       "      <td>1</td>\n",
       "      <td>0</td>\n",
       "      <td>0</td>\n",
       "      <td>0</td>\n",
       "      <td>0</td>\n",
       "      <td>1</td>\n",
       "      <td>0</td>\n",
       "      <td>0</td>\n",
       "      <td>5</td>\n",
       "      <td>1</td>\n",
       "      <td>1</td>\n",
       "      <td>28.792</td>\n",
       "      <td>76.1539</td>\n",
       "    </tr>\n",
       "    <tr>\n",
       "      <th>3</th>\n",
       "      <td>0.00422834</td>\n",
       "      <td>0</td>\n",
       "      <td>1</td>\n",
       "      <td>0</td>\n",
       "      <td>0</td>\n",
       "      <td>1</td>\n",
       "      <td>0</td>\n",
       "      <td>0</td>\n",
       "      <td>0</td>\n",
       "      <td>2</td>\n",
       "      <td>1</td>\n",
       "      <td>1</td>\n",
       "      <td>12.9194</td>\n",
       "      <td>77.5228</td>\n",
       "    </tr>\n",
       "    <tr>\n",
       "      <th>4</th>\n",
       "      <td>0.00847573</td>\n",
       "      <td>0</td>\n",
       "      <td>0</td>\n",
       "      <td>1</td>\n",
       "      <td>0</td>\n",
       "      <td>0</td>\n",
       "      <td>1</td>\n",
       "      <td>0</td>\n",
       "      <td>0</td>\n",
       "      <td>2</td>\n",
       "      <td>1</td>\n",
       "      <td>1</td>\n",
       "      <td>27.88</td>\n",
       "      <td>78.08</td>\n",
       "    </tr>\n",
       "  </tbody>\n",
       "</table>\n",
       "</div>"
      ],
      "text/plain": [
       "     SQUARE_FT city_1 city_2 city_3 POSTED_BY_1 POSTED_BY_2 POSTED_BY_3  \\\n",
       "0            0      0      0      1           0           0           1   \n",
       "1  0.000327721      0      0      1           0           0           1   \n",
       "2   0.00118653      1      0      0           0           0           1   \n",
       "3   0.00422834      0      1      0           0           1           0   \n",
       "4   0.00847573      0      0      1           0           0           1   \n",
       "\n",
       "  UNDER_CONSTRUCTION RERA BHK_NO. READY_TO_MOVE RESALE LONGITUDE LATITUDE  \n",
       "0                  0    0       3             1      1   26.4458  80.3046  \n",
       "1                  0    0       2             1      1   26.8074  75.8387  \n",
       "2                  0    0       5             1      1    28.792  76.1539  \n",
       "3                  0    0       2             1      1   12.9194  77.5228  \n",
       "4                  0    0       2             1      1     27.88    78.08  "
      ]
     },
     "execution_count": 33,
     "metadata": {},
     "output_type": "execute_result"
    }
   ],
   "source": [
    "# min max scaler SQUARE_FT\n",
    "\n",
    "numerical_col=[\"SQUARE_FT\"]\n",
    "X=data_prep.transform_fitur_minmaxscaler(X,numerical_col)\n",
    "X=pd.DataFrame(X)\n",
    "X.columns=[\"SQUARE_FT\",\"city_1\",\"city_2\",\"city_3\",\"POSTED_BY_1\",\"POSTED_BY_2\",\"POSTED_BY_3\",\"UNDER_CONSTRUCTION\",\"RERA\",\"BHK_NO.\",\"READY_TO_MOVE\",\"RESALE\",\"LONGITUDE\",\"LATITUDE\"]\n",
    "X.head()"
   ]
  },
  {
   "cell_type": "code",
   "execution_count": 34,
   "metadata": {
    "ExecuteTime": {
     "end_time": "2021-06-27T14:40:15.572495Z",
     "start_time": "2021-06-27T14:40:15.530495Z"
    }
   },
   "outputs": [
    {
     "name": "stdout",
     "output_type": "stream",
     "text": [
      "<class 'pandas.core.frame.DataFrame'>\n",
      "RangeIndex: 29166 entries, 0 to 29165\n",
      "Data columns (total 14 columns):\n",
      " #   Column              Non-Null Count  Dtype \n",
      "---  ------              --------------  ----- \n",
      " 0   SQUARE_FT           29166 non-null  object\n",
      " 1   city_1              29166 non-null  object\n",
      " 2   city_2              29166 non-null  object\n",
      " 3   city_3              29166 non-null  object\n",
      " 4   POSTED_BY_1         29166 non-null  object\n",
      " 5   POSTED_BY_2         29166 non-null  object\n",
      " 6   POSTED_BY_3         29166 non-null  object\n",
      " 7   UNDER_CONSTRUCTION  29166 non-null  object\n",
      " 8   RERA                29166 non-null  object\n",
      " 9   BHK_NO.             29166 non-null  object\n",
      " 10  READY_TO_MOVE       29166 non-null  object\n",
      " 11  RESALE              29166 non-null  object\n",
      " 12  LONGITUDE           29166 non-null  object\n",
      " 13  LATITUDE            29166 non-null  object\n",
      "dtypes: object(14)\n",
      "memory usage: 3.1+ MB\n"
     ]
    }
   ],
   "source": [
    "#pembulatan\n",
    "'''\n",
    "ketika di one hot encoding pakai ColumnTransform, return berupa array \n",
    "lalu dari array diubah ke DataFrame. Pandas gk tau tipe datanya. Jadi otomatis tipe data berupa object \n",
    "oleh\n",
    "'''\n",
    "X.info()"
   ]
  },
  {
   "cell_type": "code",
   "execution_count": 35,
   "metadata": {
    "ExecuteTime": {
     "end_time": "2021-06-27T14:40:17.647970Z",
     "start_time": "2021-06-27T14:40:17.635967Z"
    }
   },
   "outputs": [],
   "source": [
    "X[\"SQUARE_FT\"] = X[\"SQUARE_FT\"].astype(float)"
   ]
  },
  {
   "cell_type": "code",
   "execution_count": 36,
   "metadata": {
    "ExecuteTime": {
     "end_time": "2021-06-27T14:40:18.011727Z",
     "start_time": "2021-06-27T14:40:17.970726Z"
    }
   },
   "outputs": [
    {
     "data": {
      "text/html": [
       "<div>\n",
       "<style scoped>\n",
       "    .dataframe tbody tr th:only-of-type {\n",
       "        vertical-align: middle;\n",
       "    }\n",
       "\n",
       "    .dataframe tbody tr th {\n",
       "        vertical-align: top;\n",
       "    }\n",
       "\n",
       "    .dataframe thead th {\n",
       "        text-align: right;\n",
       "    }\n",
       "</style>\n",
       "<table border=\"1\" class=\"dataframe\">\n",
       "  <thead>\n",
       "    <tr style=\"text-align: right;\">\n",
       "      <th></th>\n",
       "      <th>SQUARE_FT</th>\n",
       "      <th>city_1</th>\n",
       "      <th>city_2</th>\n",
       "      <th>city_3</th>\n",
       "      <th>POSTED_BY_1</th>\n",
       "      <th>POSTED_BY_2</th>\n",
       "      <th>POSTED_BY_3</th>\n",
       "      <th>UNDER_CONSTRUCTION</th>\n",
       "      <th>RERA</th>\n",
       "      <th>BHK_NO.</th>\n",
       "      <th>READY_TO_MOVE</th>\n",
       "      <th>RESALE</th>\n",
       "      <th>LONGITUDE</th>\n",
       "      <th>LATITUDE</th>\n",
       "    </tr>\n",
       "  </thead>\n",
       "  <tbody>\n",
       "    <tr>\n",
       "      <th>0</th>\n",
       "      <td>0.00000</td>\n",
       "      <td>0</td>\n",
       "      <td>0</td>\n",
       "      <td>1</td>\n",
       "      <td>0</td>\n",
       "      <td>0</td>\n",
       "      <td>1</td>\n",
       "      <td>0</td>\n",
       "      <td>0</td>\n",
       "      <td>3</td>\n",
       "      <td>1</td>\n",
       "      <td>1</td>\n",
       "      <td>26.4458</td>\n",
       "      <td>80.3046</td>\n",
       "    </tr>\n",
       "    <tr>\n",
       "      <th>1</th>\n",
       "      <td>0.00033</td>\n",
       "      <td>0</td>\n",
       "      <td>0</td>\n",
       "      <td>1</td>\n",
       "      <td>0</td>\n",
       "      <td>0</td>\n",
       "      <td>1</td>\n",
       "      <td>0</td>\n",
       "      <td>0</td>\n",
       "      <td>2</td>\n",
       "      <td>1</td>\n",
       "      <td>1</td>\n",
       "      <td>26.8074</td>\n",
       "      <td>75.8387</td>\n",
       "    </tr>\n",
       "    <tr>\n",
       "      <th>2</th>\n",
       "      <td>0.00119</td>\n",
       "      <td>1</td>\n",
       "      <td>0</td>\n",
       "      <td>0</td>\n",
       "      <td>0</td>\n",
       "      <td>0</td>\n",
       "      <td>1</td>\n",
       "      <td>0</td>\n",
       "      <td>0</td>\n",
       "      <td>5</td>\n",
       "      <td>1</td>\n",
       "      <td>1</td>\n",
       "      <td>28.792</td>\n",
       "      <td>76.1539</td>\n",
       "    </tr>\n",
       "    <tr>\n",
       "      <th>3</th>\n",
       "      <td>0.00423</td>\n",
       "      <td>0</td>\n",
       "      <td>1</td>\n",
       "      <td>0</td>\n",
       "      <td>0</td>\n",
       "      <td>1</td>\n",
       "      <td>0</td>\n",
       "      <td>0</td>\n",
       "      <td>0</td>\n",
       "      <td>2</td>\n",
       "      <td>1</td>\n",
       "      <td>1</td>\n",
       "      <td>12.9194</td>\n",
       "      <td>77.5228</td>\n",
       "    </tr>\n",
       "    <tr>\n",
       "      <th>4</th>\n",
       "      <td>0.00848</td>\n",
       "      <td>0</td>\n",
       "      <td>0</td>\n",
       "      <td>1</td>\n",
       "      <td>0</td>\n",
       "      <td>0</td>\n",
       "      <td>1</td>\n",
       "      <td>0</td>\n",
       "      <td>0</td>\n",
       "      <td>2</td>\n",
       "      <td>1</td>\n",
       "      <td>1</td>\n",
       "      <td>27.88</td>\n",
       "      <td>78.08</td>\n",
       "    </tr>\n",
       "  </tbody>\n",
       "</table>\n",
       "</div>"
      ],
      "text/plain": [
       "   SQUARE_FT city_1 city_2 city_3 POSTED_BY_1 POSTED_BY_2 POSTED_BY_3  \\\n",
       "0    0.00000      0      0      1           0           0           1   \n",
       "1    0.00033      0      0      1           0           0           1   \n",
       "2    0.00119      1      0      0           0           0           1   \n",
       "3    0.00423      0      1      0           0           1           0   \n",
       "4    0.00848      0      0      1           0           0           1   \n",
       "\n",
       "  UNDER_CONSTRUCTION RERA BHK_NO. READY_TO_MOVE RESALE LONGITUDE LATITUDE  \n",
       "0                  0    0       3             1      1   26.4458  80.3046  \n",
       "1                  0    0       2             1      1   26.8074  75.8387  \n",
       "2                  0    0       5             1      1    28.792  76.1539  \n",
       "3                  0    0       2             1      1   12.9194  77.5228  \n",
       "4                  0    0       2             1      1     27.88    78.08  "
      ]
     },
     "execution_count": 36,
     "metadata": {},
     "output_type": "execute_result"
    }
   ],
   "source": [
    "X=X.round({\"SQUARE_FT\":5})\n",
    "X.head()"
   ]
  },
  {
   "cell_type": "code",
   "execution_count": 37,
   "metadata": {
    "ExecuteTime": {
     "end_time": "2021-06-27T14:40:19.263931Z",
     "start_time": "2021-06-27T14:40:19.187911Z"
    }
   },
   "outputs": [
    {
     "data": {
      "text/html": [
       "<div>\n",
       "<style scoped>\n",
       "    .dataframe tbody tr th:only-of-type {\n",
       "        vertical-align: middle;\n",
       "    }\n",
       "\n",
       "    .dataframe tbody tr th {\n",
       "        vertical-align: top;\n",
       "    }\n",
       "\n",
       "    .dataframe thead th {\n",
       "        text-align: right;\n",
       "    }\n",
       "</style>\n",
       "<table border=\"1\" class=\"dataframe\">\n",
       "  <thead>\n",
       "    <tr style=\"text-align: right;\">\n",
       "      <th></th>\n",
       "      <th>LONGITUDE</th>\n",
       "      <th>SQUARE_FT</th>\n",
       "      <th>city_1</th>\n",
       "      <th>city_2</th>\n",
       "      <th>city_3</th>\n",
       "      <th>POSTED_BY_1</th>\n",
       "      <th>POSTED_BY_2</th>\n",
       "      <th>POSTED_BY_3</th>\n",
       "      <th>UNDER_CONSTRUCTION</th>\n",
       "      <th>RERA</th>\n",
       "      <th>BHK_NO.</th>\n",
       "      <th>READY_TO_MOVE</th>\n",
       "      <th>RESALE</th>\n",
       "      <th>LATITUDE</th>\n",
       "    </tr>\n",
       "  </thead>\n",
       "  <tbody>\n",
       "    <tr>\n",
       "      <th>0</th>\n",
       "      <td>0.65719</td>\n",
       "      <td>0</td>\n",
       "      <td>0</td>\n",
       "      <td>0</td>\n",
       "      <td>1</td>\n",
       "      <td>0</td>\n",
       "      <td>0</td>\n",
       "      <td>1</td>\n",
       "      <td>0</td>\n",
       "      <td>0</td>\n",
       "      <td>3</td>\n",
       "      <td>1</td>\n",
       "      <td>1</td>\n",
       "      <td>80.3046</td>\n",
       "    </tr>\n",
       "    <tr>\n",
       "      <th>1</th>\n",
       "      <td>0.660895</td>\n",
       "      <td>0.00033</td>\n",
       "      <td>0</td>\n",
       "      <td>0</td>\n",
       "      <td>1</td>\n",
       "      <td>0</td>\n",
       "      <td>0</td>\n",
       "      <td>1</td>\n",
       "      <td>0</td>\n",
       "      <td>0</td>\n",
       "      <td>2</td>\n",
       "      <td>1</td>\n",
       "      <td>1</td>\n",
       "      <td>75.8387</td>\n",
       "    </tr>\n",
       "    <tr>\n",
       "      <th>2</th>\n",
       "      <td>0.681224</td>\n",
       "      <td>0.00119</td>\n",
       "      <td>1</td>\n",
       "      <td>0</td>\n",
       "      <td>0</td>\n",
       "      <td>0</td>\n",
       "      <td>0</td>\n",
       "      <td>1</td>\n",
       "      <td>0</td>\n",
       "      <td>0</td>\n",
       "      <td>5</td>\n",
       "      <td>1</td>\n",
       "      <td>1</td>\n",
       "      <td>76.1539</td>\n",
       "    </tr>\n",
       "    <tr>\n",
       "      <th>3</th>\n",
       "      <td>0.518637</td>\n",
       "      <td>0.00423</td>\n",
       "      <td>0</td>\n",
       "      <td>1</td>\n",
       "      <td>0</td>\n",
       "      <td>0</td>\n",
       "      <td>1</td>\n",
       "      <td>0</td>\n",
       "      <td>0</td>\n",
       "      <td>0</td>\n",
       "      <td>2</td>\n",
       "      <td>1</td>\n",
       "      <td>1</td>\n",
       "      <td>77.5228</td>\n",
       "    </tr>\n",
       "    <tr>\n",
       "      <th>4</th>\n",
       "      <td>0.671881</td>\n",
       "      <td>0.00848</td>\n",
       "      <td>0</td>\n",
       "      <td>0</td>\n",
       "      <td>1</td>\n",
       "      <td>0</td>\n",
       "      <td>0</td>\n",
       "      <td>1</td>\n",
       "      <td>0</td>\n",
       "      <td>0</td>\n",
       "      <td>2</td>\n",
       "      <td>1</td>\n",
       "      <td>1</td>\n",
       "      <td>78.08</td>\n",
       "    </tr>\n",
       "  </tbody>\n",
       "</table>\n",
       "</div>"
      ],
      "text/plain": [
       "  LONGITUDE SQUARE_FT city_1 city_2 city_3 POSTED_BY_1 POSTED_BY_2  \\\n",
       "0   0.65719         0      0      0      1           0           0   \n",
       "1  0.660895   0.00033      0      0      1           0           0   \n",
       "2  0.681224   0.00119      1      0      0           0           0   \n",
       "3  0.518637   0.00423      0      1      0           0           1   \n",
       "4  0.671881   0.00848      0      0      1           0           0   \n",
       "\n",
       "  POSTED_BY_3 UNDER_CONSTRUCTION RERA BHK_NO. READY_TO_MOVE RESALE LATITUDE  \n",
       "0           1                  0    0       3             1      1  80.3046  \n",
       "1           1                  0    0       2             1      1  75.8387  \n",
       "2           1                  0    0       5             1      1  76.1539  \n",
       "3           0                  0    0       2             1      1  77.5228  \n",
       "4           1                  0    0       2             1      1    78.08  "
      ]
     },
     "execution_count": 37,
     "metadata": {},
     "output_type": "execute_result"
    }
   ],
   "source": [
    "# min max scaler LONGITUDE\n",
    "\n",
    "numerical_col=[\"LONGITUDE\"]\n",
    "X=data_prep.transform_fitur_minmaxscaler(X,numerical_col)\n",
    "X=pd.DataFrame(X)\n",
    "X.columns=[\"LONGITUDE\",\"SQUARE_FT\",\"city_1\",\"city_2\",\"city_3\",\"POSTED_BY_1\",\"POSTED_BY_2\",\"POSTED_BY_3\",\"UNDER_CONSTRUCTION\",\"RERA\",\"BHK_NO.\",\"READY_TO_MOVE\",\"RESALE\",\"LATITUDE\"]\n",
    "X.head()"
   ]
  },
  {
   "cell_type": "code",
   "execution_count": 38,
   "metadata": {
    "ExecuteTime": {
     "end_time": "2021-06-27T14:40:19.801918Z",
     "start_time": "2021-06-27T14:40:19.786916Z"
    }
   },
   "outputs": [],
   "source": [
    "X[\"LONGITUDE\"] = X[\"LONGITUDE\"].astype(float)"
   ]
  },
  {
   "cell_type": "code",
   "execution_count": 39,
   "metadata": {
    "ExecuteTime": {
     "end_time": "2021-06-27T14:40:20.072163Z",
     "start_time": "2021-06-27T14:40:20.018183Z"
    }
   },
   "outputs": [
    {
     "data": {
      "text/html": [
       "<div>\n",
       "<style scoped>\n",
       "    .dataframe tbody tr th:only-of-type {\n",
       "        vertical-align: middle;\n",
       "    }\n",
       "\n",
       "    .dataframe tbody tr th {\n",
       "        vertical-align: top;\n",
       "    }\n",
       "\n",
       "    .dataframe thead th {\n",
       "        text-align: right;\n",
       "    }\n",
       "</style>\n",
       "<table border=\"1\" class=\"dataframe\">\n",
       "  <thead>\n",
       "    <tr style=\"text-align: right;\">\n",
       "      <th></th>\n",
       "      <th>LONGITUDE</th>\n",
       "      <th>SQUARE_FT</th>\n",
       "      <th>city_1</th>\n",
       "      <th>city_2</th>\n",
       "      <th>city_3</th>\n",
       "      <th>POSTED_BY_1</th>\n",
       "      <th>POSTED_BY_2</th>\n",
       "      <th>POSTED_BY_3</th>\n",
       "      <th>UNDER_CONSTRUCTION</th>\n",
       "      <th>RERA</th>\n",
       "      <th>BHK_NO.</th>\n",
       "      <th>READY_TO_MOVE</th>\n",
       "      <th>RESALE</th>\n",
       "      <th>LATITUDE</th>\n",
       "    </tr>\n",
       "  </thead>\n",
       "  <tbody>\n",
       "    <tr>\n",
       "      <th>0</th>\n",
       "      <td>0.657</td>\n",
       "      <td>0</td>\n",
       "      <td>0</td>\n",
       "      <td>0</td>\n",
       "      <td>1</td>\n",
       "      <td>0</td>\n",
       "      <td>0</td>\n",
       "      <td>1</td>\n",
       "      <td>0</td>\n",
       "      <td>0</td>\n",
       "      <td>3</td>\n",
       "      <td>1</td>\n",
       "      <td>1</td>\n",
       "      <td>80.3046</td>\n",
       "    </tr>\n",
       "    <tr>\n",
       "      <th>1</th>\n",
       "      <td>0.661</td>\n",
       "      <td>0.00033</td>\n",
       "      <td>0</td>\n",
       "      <td>0</td>\n",
       "      <td>1</td>\n",
       "      <td>0</td>\n",
       "      <td>0</td>\n",
       "      <td>1</td>\n",
       "      <td>0</td>\n",
       "      <td>0</td>\n",
       "      <td>2</td>\n",
       "      <td>1</td>\n",
       "      <td>1</td>\n",
       "      <td>75.8387</td>\n",
       "    </tr>\n",
       "    <tr>\n",
       "      <th>2</th>\n",
       "      <td>0.681</td>\n",
       "      <td>0.00119</td>\n",
       "      <td>1</td>\n",
       "      <td>0</td>\n",
       "      <td>0</td>\n",
       "      <td>0</td>\n",
       "      <td>0</td>\n",
       "      <td>1</td>\n",
       "      <td>0</td>\n",
       "      <td>0</td>\n",
       "      <td>5</td>\n",
       "      <td>1</td>\n",
       "      <td>1</td>\n",
       "      <td>76.1539</td>\n",
       "    </tr>\n",
       "    <tr>\n",
       "      <th>3</th>\n",
       "      <td>0.519</td>\n",
       "      <td>0.00423</td>\n",
       "      <td>0</td>\n",
       "      <td>1</td>\n",
       "      <td>0</td>\n",
       "      <td>0</td>\n",
       "      <td>1</td>\n",
       "      <td>0</td>\n",
       "      <td>0</td>\n",
       "      <td>0</td>\n",
       "      <td>2</td>\n",
       "      <td>1</td>\n",
       "      <td>1</td>\n",
       "      <td>77.5228</td>\n",
       "    </tr>\n",
       "    <tr>\n",
       "      <th>4</th>\n",
       "      <td>0.672</td>\n",
       "      <td>0.00848</td>\n",
       "      <td>0</td>\n",
       "      <td>0</td>\n",
       "      <td>1</td>\n",
       "      <td>0</td>\n",
       "      <td>0</td>\n",
       "      <td>1</td>\n",
       "      <td>0</td>\n",
       "      <td>0</td>\n",
       "      <td>2</td>\n",
       "      <td>1</td>\n",
       "      <td>1</td>\n",
       "      <td>78.08</td>\n",
       "    </tr>\n",
       "  </tbody>\n",
       "</table>\n",
       "</div>"
      ],
      "text/plain": [
       "   LONGITUDE SQUARE_FT city_1 city_2 city_3 POSTED_BY_1 POSTED_BY_2  \\\n",
       "0      0.657         0      0      0      1           0           0   \n",
       "1      0.661   0.00033      0      0      1           0           0   \n",
       "2      0.681   0.00119      1      0      0           0           0   \n",
       "3      0.519   0.00423      0      1      0           0           1   \n",
       "4      0.672   0.00848      0      0      1           0           0   \n",
       "\n",
       "  POSTED_BY_3 UNDER_CONSTRUCTION RERA BHK_NO. READY_TO_MOVE RESALE LATITUDE  \n",
       "0           1                  0    0       3             1      1  80.3046  \n",
       "1           1                  0    0       2             1      1  75.8387  \n",
       "2           1                  0    0       5             1      1  76.1539  \n",
       "3           0                  0    0       2             1      1  77.5228  \n",
       "4           1                  0    0       2             1      1    78.08  "
      ]
     },
     "execution_count": 39,
     "metadata": {},
     "output_type": "execute_result"
    }
   ],
   "source": [
    "X=X.round({\"LONGITUDE\":3})\n",
    "X.head()"
   ]
  },
  {
   "cell_type": "code",
   "execution_count": 40,
   "metadata": {
    "ExecuteTime": {
     "end_time": "2021-06-27T14:40:21.241608Z",
     "start_time": "2021-06-27T14:40:21.147611Z"
    }
   },
   "outputs": [
    {
     "data": {
      "text/html": [
       "<div>\n",
       "<style scoped>\n",
       "    .dataframe tbody tr th:only-of-type {\n",
       "        vertical-align: middle;\n",
       "    }\n",
       "\n",
       "    .dataframe tbody tr th {\n",
       "        vertical-align: top;\n",
       "    }\n",
       "\n",
       "    .dataframe thead th {\n",
       "        text-align: right;\n",
       "    }\n",
       "</style>\n",
       "<table border=\"1\" class=\"dataframe\">\n",
       "  <thead>\n",
       "    <tr style=\"text-align: right;\">\n",
       "      <th></th>\n",
       "      <th>LATITUDE</th>\n",
       "      <th>LONGITUDE</th>\n",
       "      <th>SQUARE_FT</th>\n",
       "      <th>city_1</th>\n",
       "      <th>city_2</th>\n",
       "      <th>city_3</th>\n",
       "      <th>POSTED_BY_1</th>\n",
       "      <th>POSTED_BY_2</th>\n",
       "      <th>POSTED_BY_3</th>\n",
       "      <th>UNDER_CONSTRUCTION</th>\n",
       "      <th>RERA</th>\n",
       "      <th>BHK_NO.</th>\n",
       "      <th>READY_TO_MOVE</th>\n",
       "      <th>RESALE</th>\n",
       "    </tr>\n",
       "  </thead>\n",
       "  <tbody>\n",
       "    <tr>\n",
       "      <th>0</th>\n",
       "      <td>0.735523</td>\n",
       "      <td>0.657</td>\n",
       "      <td>0</td>\n",
       "      <td>0</td>\n",
       "      <td>0</td>\n",
       "      <td>1</td>\n",
       "      <td>0</td>\n",
       "      <td>0</td>\n",
       "      <td>1</td>\n",
       "      <td>0</td>\n",
       "      <td>0</td>\n",
       "      <td>3</td>\n",
       "      <td>1</td>\n",
       "      <td>1</td>\n",
       "    </tr>\n",
       "    <tr>\n",
       "      <th>1</th>\n",
       "      <td>0.719267</td>\n",
       "      <td>0.661</td>\n",
       "      <td>0.00033</td>\n",
       "      <td>0</td>\n",
       "      <td>0</td>\n",
       "      <td>1</td>\n",
       "      <td>0</td>\n",
       "      <td>0</td>\n",
       "      <td>1</td>\n",
       "      <td>0</td>\n",
       "      <td>0</td>\n",
       "      <td>2</td>\n",
       "      <td>1</td>\n",
       "      <td>1</td>\n",
       "    </tr>\n",
       "    <tr>\n",
       "      <th>2</th>\n",
       "      <td>0.720415</td>\n",
       "      <td>0.681</td>\n",
       "      <td>0.00119</td>\n",
       "      <td>1</td>\n",
       "      <td>0</td>\n",
       "      <td>0</td>\n",
       "      <td>0</td>\n",
       "      <td>0</td>\n",
       "      <td>1</td>\n",
       "      <td>0</td>\n",
       "      <td>0</td>\n",
       "      <td>5</td>\n",
       "      <td>1</td>\n",
       "      <td>1</td>\n",
       "    </tr>\n",
       "    <tr>\n",
       "      <th>3</th>\n",
       "      <td>0.725397</td>\n",
       "      <td>0.519</td>\n",
       "      <td>0.00423</td>\n",
       "      <td>0</td>\n",
       "      <td>1</td>\n",
       "      <td>0</td>\n",
       "      <td>0</td>\n",
       "      <td>1</td>\n",
       "      <td>0</td>\n",
       "      <td>0</td>\n",
       "      <td>0</td>\n",
       "      <td>2</td>\n",
       "      <td>1</td>\n",
       "      <td>1</td>\n",
       "    </tr>\n",
       "    <tr>\n",
       "      <th>4</th>\n",
       "      <td>0.727426</td>\n",
       "      <td>0.672</td>\n",
       "      <td>0.00848</td>\n",
       "      <td>0</td>\n",
       "      <td>0</td>\n",
       "      <td>1</td>\n",
       "      <td>0</td>\n",
       "      <td>0</td>\n",
       "      <td>1</td>\n",
       "      <td>0</td>\n",
       "      <td>0</td>\n",
       "      <td>2</td>\n",
       "      <td>1</td>\n",
       "      <td>1</td>\n",
       "    </tr>\n",
       "  </tbody>\n",
       "</table>\n",
       "</div>"
      ],
      "text/plain": [
       "   LATITUDE LONGITUDE SQUARE_FT city_1 city_2 city_3 POSTED_BY_1 POSTED_BY_2  \\\n",
       "0  0.735523     0.657         0      0      0      1           0           0   \n",
       "1  0.719267     0.661   0.00033      0      0      1           0           0   \n",
       "2  0.720415     0.681   0.00119      1      0      0           0           0   \n",
       "3  0.725397     0.519   0.00423      0      1      0           0           1   \n",
       "4  0.727426     0.672   0.00848      0      0      1           0           0   \n",
       "\n",
       "  POSTED_BY_3 UNDER_CONSTRUCTION RERA BHK_NO. READY_TO_MOVE RESALE  \n",
       "0           1                  0    0       3             1      1  \n",
       "1           1                  0    0       2             1      1  \n",
       "2           1                  0    0       5             1      1  \n",
       "3           0                  0    0       2             1      1  \n",
       "4           1                  0    0       2             1      1  "
      ]
     },
     "execution_count": 40,
     "metadata": {},
     "output_type": "execute_result"
    }
   ],
   "source": [
    "# min max scaler LATITUDE\n",
    "\n",
    "numerical_col=[\"LATITUDE\"]\n",
    "X=data_prep.transform_fitur_minmaxscaler(X,numerical_col)\n",
    "X=pd.DataFrame(X)\n",
    "X.columns=[\"LATITUDE\",\"LONGITUDE\",\"SQUARE_FT\",\"city_1\",\"city_2\",\"city_3\",\"POSTED_BY_1\",\"POSTED_BY_2\",\"POSTED_BY_3\",\"UNDER_CONSTRUCTION\",\"RERA\",\"BHK_NO.\",\"READY_TO_MOVE\",\"RESALE\"]\n",
    "X.head()"
   ]
  },
  {
   "cell_type": "code",
   "execution_count": 41,
   "metadata": {
    "ExecuteTime": {
     "end_time": "2021-06-27T14:40:21.509610Z",
     "start_time": "2021-06-27T14:40:21.467626Z"
    }
   },
   "outputs": [
    {
     "data": {
      "text/html": [
       "<div>\n",
       "<style scoped>\n",
       "    .dataframe tbody tr th:only-of-type {\n",
       "        vertical-align: middle;\n",
       "    }\n",
       "\n",
       "    .dataframe tbody tr th {\n",
       "        vertical-align: top;\n",
       "    }\n",
       "\n",
       "    .dataframe thead th {\n",
       "        text-align: right;\n",
       "    }\n",
       "</style>\n",
       "<table border=\"1\" class=\"dataframe\">\n",
       "  <thead>\n",
       "    <tr style=\"text-align: right;\">\n",
       "      <th></th>\n",
       "      <th>LATITUDE</th>\n",
       "      <th>LONGITUDE</th>\n",
       "      <th>SQUARE_FT</th>\n",
       "      <th>city_1</th>\n",
       "      <th>city_2</th>\n",
       "      <th>city_3</th>\n",
       "      <th>POSTED_BY_1</th>\n",
       "      <th>POSTED_BY_2</th>\n",
       "      <th>POSTED_BY_3</th>\n",
       "      <th>UNDER_CONSTRUCTION</th>\n",
       "      <th>RERA</th>\n",
       "      <th>BHK_NO.</th>\n",
       "      <th>READY_TO_MOVE</th>\n",
       "      <th>RESALE</th>\n",
       "    </tr>\n",
       "  </thead>\n",
       "  <tbody>\n",
       "    <tr>\n",
       "      <th>0</th>\n",
       "      <td>0.736</td>\n",
       "      <td>0.657</td>\n",
       "      <td>0</td>\n",
       "      <td>0</td>\n",
       "      <td>0</td>\n",
       "      <td>1</td>\n",
       "      <td>0</td>\n",
       "      <td>0</td>\n",
       "      <td>1</td>\n",
       "      <td>0</td>\n",
       "      <td>0</td>\n",
       "      <td>3</td>\n",
       "      <td>1</td>\n",
       "      <td>1</td>\n",
       "    </tr>\n",
       "    <tr>\n",
       "      <th>1</th>\n",
       "      <td>0.719</td>\n",
       "      <td>0.661</td>\n",
       "      <td>0.00033</td>\n",
       "      <td>0</td>\n",
       "      <td>0</td>\n",
       "      <td>1</td>\n",
       "      <td>0</td>\n",
       "      <td>0</td>\n",
       "      <td>1</td>\n",
       "      <td>0</td>\n",
       "      <td>0</td>\n",
       "      <td>2</td>\n",
       "      <td>1</td>\n",
       "      <td>1</td>\n",
       "    </tr>\n",
       "    <tr>\n",
       "      <th>2</th>\n",
       "      <td>0.720</td>\n",
       "      <td>0.681</td>\n",
       "      <td>0.00119</td>\n",
       "      <td>1</td>\n",
       "      <td>0</td>\n",
       "      <td>0</td>\n",
       "      <td>0</td>\n",
       "      <td>0</td>\n",
       "      <td>1</td>\n",
       "      <td>0</td>\n",
       "      <td>0</td>\n",
       "      <td>5</td>\n",
       "      <td>1</td>\n",
       "      <td>1</td>\n",
       "    </tr>\n",
       "    <tr>\n",
       "      <th>3</th>\n",
       "      <td>0.725</td>\n",
       "      <td>0.519</td>\n",
       "      <td>0.00423</td>\n",
       "      <td>0</td>\n",
       "      <td>1</td>\n",
       "      <td>0</td>\n",
       "      <td>0</td>\n",
       "      <td>1</td>\n",
       "      <td>0</td>\n",
       "      <td>0</td>\n",
       "      <td>0</td>\n",
       "      <td>2</td>\n",
       "      <td>1</td>\n",
       "      <td>1</td>\n",
       "    </tr>\n",
       "    <tr>\n",
       "      <th>4</th>\n",
       "      <td>0.727</td>\n",
       "      <td>0.672</td>\n",
       "      <td>0.00848</td>\n",
       "      <td>0</td>\n",
       "      <td>0</td>\n",
       "      <td>1</td>\n",
       "      <td>0</td>\n",
       "      <td>0</td>\n",
       "      <td>1</td>\n",
       "      <td>0</td>\n",
       "      <td>0</td>\n",
       "      <td>2</td>\n",
       "      <td>1</td>\n",
       "      <td>1</td>\n",
       "    </tr>\n",
       "  </tbody>\n",
       "</table>\n",
       "</div>"
      ],
      "text/plain": [
       "   LATITUDE LONGITUDE SQUARE_FT city_1 city_2 city_3 POSTED_BY_1 POSTED_BY_2  \\\n",
       "0     0.736     0.657         0      0      0      1           0           0   \n",
       "1     0.719     0.661   0.00033      0      0      1           0           0   \n",
       "2     0.720     0.681   0.00119      1      0      0           0           0   \n",
       "3     0.725     0.519   0.00423      0      1      0           0           1   \n",
       "4     0.727     0.672   0.00848      0      0      1           0           0   \n",
       "\n",
       "  POSTED_BY_3 UNDER_CONSTRUCTION RERA BHK_NO. READY_TO_MOVE RESALE  \n",
       "0           1                  0    0       3             1      1  \n",
       "1           1                  0    0       2             1      1  \n",
       "2           1                  0    0       5             1      1  \n",
       "3           0                  0    0       2             1      1  \n",
       "4           1                  0    0       2             1      1  "
      ]
     },
     "execution_count": 41,
     "metadata": {},
     "output_type": "execute_result"
    }
   ],
   "source": [
    "X[\"LATITUDE\"] = X[\"LATITUDE\"].astype(float)\n",
    "X=X.round({\"LATITUDE\":3})\n",
    "X.head()"
   ]
  },
  {
   "cell_type": "code",
   "execution_count": 42,
   "metadata": {
    "ExecuteTime": {
     "end_time": "2021-06-27T14:40:23.129910Z",
     "start_time": "2021-06-27T14:40:23.083931Z"
    }
   },
   "outputs": [
    {
     "data": {
      "text/html": [
       "<div>\n",
       "<style scoped>\n",
       "    .dataframe tbody tr th:only-of-type {\n",
       "        vertical-align: middle;\n",
       "    }\n",
       "\n",
       "    .dataframe tbody tr th {\n",
       "        vertical-align: top;\n",
       "    }\n",
       "\n",
       "    .dataframe thead th {\n",
       "        text-align: right;\n",
       "    }\n",
       "</style>\n",
       "<table border=\"1\" class=\"dataframe\">\n",
       "  <thead>\n",
       "    <tr style=\"text-align: right;\">\n",
       "      <th></th>\n",
       "      <th>LATITUDE</th>\n",
       "      <th>LONGITUDE</th>\n",
       "      <th>SQUARE_FT</th>\n",
       "      <th>UNDER_CONSTRUCTION</th>\n",
       "      <th>RERA</th>\n",
       "      <th>BHK_NO.</th>\n",
       "      <th>READY_TO_MOVE</th>\n",
       "      <th>RESALE</th>\n",
       "    </tr>\n",
       "  </thead>\n",
       "  <tbody>\n",
       "    <tr>\n",
       "      <th>0</th>\n",
       "      <td>0.736</td>\n",
       "      <td>0.657</td>\n",
       "      <td>0</td>\n",
       "      <td>0</td>\n",
       "      <td>0</td>\n",
       "      <td>3</td>\n",
       "      <td>1</td>\n",
       "      <td>1</td>\n",
       "    </tr>\n",
       "    <tr>\n",
       "      <th>1</th>\n",
       "      <td>0.719</td>\n",
       "      <td>0.661</td>\n",
       "      <td>0.00033</td>\n",
       "      <td>0</td>\n",
       "      <td>0</td>\n",
       "      <td>2</td>\n",
       "      <td>1</td>\n",
       "      <td>1</td>\n",
       "    </tr>\n",
       "    <tr>\n",
       "      <th>2</th>\n",
       "      <td>0.720</td>\n",
       "      <td>0.681</td>\n",
       "      <td>0.00119</td>\n",
       "      <td>0</td>\n",
       "      <td>0</td>\n",
       "      <td>5</td>\n",
       "      <td>1</td>\n",
       "      <td>1</td>\n",
       "    </tr>\n",
       "    <tr>\n",
       "      <th>3</th>\n",
       "      <td>0.725</td>\n",
       "      <td>0.519</td>\n",
       "      <td>0.00423</td>\n",
       "      <td>0</td>\n",
       "      <td>0</td>\n",
       "      <td>2</td>\n",
       "      <td>1</td>\n",
       "      <td>1</td>\n",
       "    </tr>\n",
       "    <tr>\n",
       "      <th>4</th>\n",
       "      <td>0.727</td>\n",
       "      <td>0.672</td>\n",
       "      <td>0.00848</td>\n",
       "      <td>0</td>\n",
       "      <td>0</td>\n",
       "      <td>2</td>\n",
       "      <td>1</td>\n",
       "      <td>1</td>\n",
       "    </tr>\n",
       "  </tbody>\n",
       "</table>\n",
       "</div>"
      ],
      "text/plain": [
       "   LATITUDE LONGITUDE SQUARE_FT UNDER_CONSTRUCTION RERA BHK_NO. READY_TO_MOVE  \\\n",
       "0     0.736     0.657         0                  0    0       3             1   \n",
       "1     0.719     0.661   0.00033                  0    0       2             1   \n",
       "2     0.720     0.681   0.00119                  0    0       5             1   \n",
       "3     0.725     0.519   0.00423                  0    0       2             1   \n",
       "4     0.727     0.672   0.00848                  0    0       2             1   \n",
       "\n",
       "  RESALE  \n",
       "0      1  \n",
       "1      1  \n",
       "2      1  \n",
       "3      1  \n",
       "4      1  "
      ]
     },
     "execution_count": 42,
     "metadata": {},
     "output_type": "execute_result"
    }
   ],
   "source": [
    "# untuk yang catboost \n",
    "\n",
    "X_catboost=X.copy()\n",
    "X_catboost.drop([\"city_1\",\"city_2\",\"city_3\",\"POSTED_BY_1\",\"POSTED_BY_2\",\"POSTED_BY_3\"],axis=1,inplace=True)\n",
    "X_catboost.head()"
   ]
  },
  {
   "cell_type": "code",
   "execution_count": 43,
   "metadata": {
    "ExecuteTime": {
     "end_time": "2021-06-27T14:40:23.570288Z",
     "start_time": "2021-06-27T14:40:23.555285Z"
    }
   },
   "outputs": [],
   "source": [
    "X_catboost[\"city\"]=city\n",
    "X_catboost[\"POSTED_BY\"]=posted_by\n"
   ]
  },
  {
   "cell_type": "code",
   "execution_count": 44,
   "metadata": {
    "ExecuteTime": {
     "end_time": "2021-06-27T14:40:23.851746Z",
     "start_time": "2021-06-27T14:40:23.826745Z"
    }
   },
   "outputs": [
    {
     "data": {
      "text/html": [
       "<div>\n",
       "<style scoped>\n",
       "    .dataframe tbody tr th:only-of-type {\n",
       "        vertical-align: middle;\n",
       "    }\n",
       "\n",
       "    .dataframe tbody tr th {\n",
       "        vertical-align: top;\n",
       "    }\n",
       "\n",
       "    .dataframe thead th {\n",
       "        text-align: right;\n",
       "    }\n",
       "</style>\n",
       "<table border=\"1\" class=\"dataframe\">\n",
       "  <thead>\n",
       "    <tr style=\"text-align: right;\">\n",
       "      <th></th>\n",
       "      <th>LATITUDE</th>\n",
       "      <th>LONGITUDE</th>\n",
       "      <th>SQUARE_FT</th>\n",
       "      <th>UNDER_CONSTRUCTION</th>\n",
       "      <th>RERA</th>\n",
       "      <th>BHK_NO.</th>\n",
       "      <th>READY_TO_MOVE</th>\n",
       "      <th>RESALE</th>\n",
       "      <th>city</th>\n",
       "      <th>POSTED_BY</th>\n",
       "    </tr>\n",
       "  </thead>\n",
       "  <tbody>\n",
       "    <tr>\n",
       "      <th>0</th>\n",
       "      <td>0.736</td>\n",
       "      <td>0.657</td>\n",
       "      <td>0</td>\n",
       "      <td>0</td>\n",
       "      <td>0</td>\n",
       "      <td>3</td>\n",
       "      <td>1</td>\n",
       "      <td>1</td>\n",
       "      <td>other</td>\n",
       "      <td>Owner</td>\n",
       "    </tr>\n",
       "    <tr>\n",
       "      <th>1</th>\n",
       "      <td>0.719</td>\n",
       "      <td>0.661</td>\n",
       "      <td>0.00033</td>\n",
       "      <td>0</td>\n",
       "      <td>0</td>\n",
       "      <td>2</td>\n",
       "      <td>1</td>\n",
       "      <td>1</td>\n",
       "      <td>tier_2</td>\n",
       "      <td>Owner</td>\n",
       "    </tr>\n",
       "    <tr>\n",
       "      <th>2</th>\n",
       "      <td>0.720</td>\n",
       "      <td>0.681</td>\n",
       "      <td>0.00119</td>\n",
       "      <td>0</td>\n",
       "      <td>0</td>\n",
       "      <td>5</td>\n",
       "      <td>1</td>\n",
       "      <td>1</td>\n",
       "      <td>tier_2</td>\n",
       "      <td>Owner</td>\n",
       "    </tr>\n",
       "    <tr>\n",
       "      <th>3</th>\n",
       "      <td>0.725</td>\n",
       "      <td>0.519</td>\n",
       "      <td>0.00423</td>\n",
       "      <td>0</td>\n",
       "      <td>0</td>\n",
       "      <td>2</td>\n",
       "      <td>1</td>\n",
       "      <td>1</td>\n",
       "      <td>other</td>\n",
       "      <td>Owner</td>\n",
       "    </tr>\n",
       "    <tr>\n",
       "      <th>4</th>\n",
       "      <td>0.727</td>\n",
       "      <td>0.672</td>\n",
       "      <td>0.00848</td>\n",
       "      <td>0</td>\n",
       "      <td>0</td>\n",
       "      <td>2</td>\n",
       "      <td>1</td>\n",
       "      <td>1</td>\n",
       "      <td>tier_2</td>\n",
       "      <td>Owner</td>\n",
       "    </tr>\n",
       "  </tbody>\n",
       "</table>\n",
       "</div>"
      ],
      "text/plain": [
       "   LATITUDE LONGITUDE SQUARE_FT UNDER_CONSTRUCTION RERA BHK_NO. READY_TO_MOVE  \\\n",
       "0     0.736     0.657         0                  0    0       3             1   \n",
       "1     0.719     0.661   0.00033                  0    0       2             1   \n",
       "2     0.720     0.681   0.00119                  0    0       5             1   \n",
       "3     0.725     0.519   0.00423                  0    0       2             1   \n",
       "4     0.727     0.672   0.00848                  0    0       2             1   \n",
       "\n",
       "  RESALE    city POSTED_BY  \n",
       "0      1   other     Owner  \n",
       "1      1  tier_2     Owner  \n",
       "2      1  tier_2     Owner  \n",
       "3      1   other     Owner  \n",
       "4      1  tier_2     Owner  "
      ]
     },
     "execution_count": 44,
     "metadata": {},
     "output_type": "execute_result"
    }
   ],
   "source": [
    "X_catboost.head()"
   ]
  },
  {
   "cell_type": "code",
   "execution_count": 45,
   "metadata": {
    "ExecuteTime": {
     "end_time": "2021-06-27T14:40:25.286971Z",
     "start_time": "2021-06-27T14:40:25.266985Z"
    }
   },
   "outputs": [
    {
     "data": {
      "text/plain": [
       "(29166, 10)"
      ]
     },
     "execution_count": 45,
     "metadata": {},
     "output_type": "execute_result"
    }
   ],
   "source": [
    "X_catboost.shape"
   ]
  },
  {
   "cell_type": "code",
   "execution_count": 46,
   "metadata": {
    "ExecuteTime": {
     "end_time": "2021-06-27T14:40:25.621964Z",
     "start_time": "2021-06-27T14:40:25.586968Z"
    }
   },
   "outputs": [
    {
     "data": {
      "text/html": [
       "<div>\n",
       "<style scoped>\n",
       "    .dataframe tbody tr th:only-of-type {\n",
       "        vertical-align: middle;\n",
       "    }\n",
       "\n",
       "    .dataframe tbody tr th {\n",
       "        vertical-align: top;\n",
       "    }\n",
       "\n",
       "    .dataframe thead th {\n",
       "        text-align: right;\n",
       "    }\n",
       "</style>\n",
       "<table border=\"1\" class=\"dataframe\">\n",
       "  <thead>\n",
       "    <tr style=\"text-align: right;\">\n",
       "      <th></th>\n",
       "      <th>LATITUDE</th>\n",
       "      <th>LONGITUDE</th>\n",
       "      <th>SQUARE_FT</th>\n",
       "      <th>city_1</th>\n",
       "      <th>city_2</th>\n",
       "      <th>city_3</th>\n",
       "      <th>POSTED_BY_1</th>\n",
       "      <th>POSTED_BY_2</th>\n",
       "      <th>POSTED_BY_3</th>\n",
       "      <th>UNDER_CONSTRUCTION</th>\n",
       "      <th>RERA</th>\n",
       "      <th>BHK_NO.</th>\n",
       "      <th>READY_TO_MOVE</th>\n",
       "      <th>RESALE</th>\n",
       "    </tr>\n",
       "  </thead>\n",
       "  <tbody>\n",
       "    <tr>\n",
       "      <th>0</th>\n",
       "      <td>0.736</td>\n",
       "      <td>0.657</td>\n",
       "      <td>0</td>\n",
       "      <td>0</td>\n",
       "      <td>0</td>\n",
       "      <td>1</td>\n",
       "      <td>0</td>\n",
       "      <td>0</td>\n",
       "      <td>1</td>\n",
       "      <td>0</td>\n",
       "      <td>0</td>\n",
       "      <td>3</td>\n",
       "      <td>1</td>\n",
       "      <td>1</td>\n",
       "    </tr>\n",
       "    <tr>\n",
       "      <th>1</th>\n",
       "      <td>0.719</td>\n",
       "      <td>0.661</td>\n",
       "      <td>0.00033</td>\n",
       "      <td>0</td>\n",
       "      <td>0</td>\n",
       "      <td>1</td>\n",
       "      <td>0</td>\n",
       "      <td>0</td>\n",
       "      <td>1</td>\n",
       "      <td>0</td>\n",
       "      <td>0</td>\n",
       "      <td>2</td>\n",
       "      <td>1</td>\n",
       "      <td>1</td>\n",
       "    </tr>\n",
       "    <tr>\n",
       "      <th>2</th>\n",
       "      <td>0.720</td>\n",
       "      <td>0.681</td>\n",
       "      <td>0.00119</td>\n",
       "      <td>1</td>\n",
       "      <td>0</td>\n",
       "      <td>0</td>\n",
       "      <td>0</td>\n",
       "      <td>0</td>\n",
       "      <td>1</td>\n",
       "      <td>0</td>\n",
       "      <td>0</td>\n",
       "      <td>5</td>\n",
       "      <td>1</td>\n",
       "      <td>1</td>\n",
       "    </tr>\n",
       "    <tr>\n",
       "      <th>3</th>\n",
       "      <td>0.725</td>\n",
       "      <td>0.519</td>\n",
       "      <td>0.00423</td>\n",
       "      <td>0</td>\n",
       "      <td>1</td>\n",
       "      <td>0</td>\n",
       "      <td>0</td>\n",
       "      <td>1</td>\n",
       "      <td>0</td>\n",
       "      <td>0</td>\n",
       "      <td>0</td>\n",
       "      <td>2</td>\n",
       "      <td>1</td>\n",
       "      <td>1</td>\n",
       "    </tr>\n",
       "    <tr>\n",
       "      <th>4</th>\n",
       "      <td>0.727</td>\n",
       "      <td>0.672</td>\n",
       "      <td>0.00848</td>\n",
       "      <td>0</td>\n",
       "      <td>0</td>\n",
       "      <td>1</td>\n",
       "      <td>0</td>\n",
       "      <td>0</td>\n",
       "      <td>1</td>\n",
       "      <td>0</td>\n",
       "      <td>0</td>\n",
       "      <td>2</td>\n",
       "      <td>1</td>\n",
       "      <td>1</td>\n",
       "    </tr>\n",
       "  </tbody>\n",
       "</table>\n",
       "</div>"
      ],
      "text/plain": [
       "   LATITUDE LONGITUDE SQUARE_FT city_1 city_2 city_3 POSTED_BY_1 POSTED_BY_2  \\\n",
       "0     0.736     0.657         0      0      0      1           0           0   \n",
       "1     0.719     0.661   0.00033      0      0      1           0           0   \n",
       "2     0.720     0.681   0.00119      1      0      0           0           0   \n",
       "3     0.725     0.519   0.00423      0      1      0           0           1   \n",
       "4     0.727     0.672   0.00848      0      0      1           0           0   \n",
       "\n",
       "  POSTED_BY_3 UNDER_CONSTRUCTION RERA BHK_NO. READY_TO_MOVE RESALE  \n",
       "0           1                  0    0       3             1      1  \n",
       "1           1                  0    0       2             1      1  \n",
       "2           1                  0    0       5             1      1  \n",
       "3           0                  0    0       2             1      1  \n",
       "4           1                  0    0       2             1      1  "
      ]
     },
     "execution_count": 46,
     "metadata": {},
     "output_type": "execute_result"
    }
   ],
   "source": [
    "X.head()"
   ]
  },
  {
   "cell_type": "code",
   "execution_count": 47,
   "metadata": {
    "ExecuteTime": {
     "end_time": "2021-06-27T14:40:28.183225Z",
     "start_time": "2021-06-27T14:40:28.172227Z"
    }
   },
   "outputs": [
    {
     "data": {
      "text/plain": [
       "(29166, 14)"
      ]
     },
     "execution_count": 47,
     "metadata": {},
     "output_type": "execute_result"
    }
   ],
   "source": [
    "X.shape"
   ]
  },
  {
   "cell_type": "code",
   "execution_count": 48,
   "metadata": {
    "ExecuteTime": {
     "end_time": "2021-06-27T14:40:32.171170Z",
     "start_time": "2021-06-27T14:40:32.163165Z"
    }
   },
   "outputs": [
    {
     "data": {
      "text/plain": [
       "(29166, 1)"
      ]
     },
     "execution_count": 48,
     "metadata": {},
     "output_type": "execute_result"
    }
   ],
   "source": [
    "y.shape"
   ]
  },
  {
   "cell_type": "code",
   "execution_count": 54,
   "metadata": {
    "ExecuteTime": {
     "end_time": "2021-06-27T14:41:27.048017Z",
     "start_time": "2021-06-27T14:41:27.037024Z"
    }
   },
   "outputs": [
    {
     "data": {
      "text/plain": [
       "0.25"
      ]
     },
     "execution_count": 54,
     "metadata": {},
     "output_type": "execute_result"
    }
   ],
   "source": [
    "y[\"TARGET(PRICE_IN_LACS)\"].min()"
   ]
  },
  {
   "cell_type": "code",
   "execution_count": 53,
   "metadata": {
    "ExecuteTime": {
     "end_time": "2021-06-27T14:41:19.600097Z",
     "start_time": "2021-06-27T14:41:19.590111Z"
    }
   },
   "outputs": [
    {
     "data": {
      "text/plain": [
       "6000.0"
      ]
     },
     "execution_count": 53,
     "metadata": {},
     "output_type": "execute_result"
    }
   ],
   "source": [
    "y[\"TARGET(PRICE_IN_LACS)\"].max()"
   ]
  },
  {
   "cell_type": "code",
   "execution_count": 1624,
   "metadata": {
    "ExecuteTime": {
     "end_time": "2021-06-16T17:14:55.998996Z",
     "start_time": "2021-06-16T17:14:55.489999Z"
    }
   },
   "outputs": [],
   "source": [
    "X.to_csv('dataset_ready/'+'X_house_price'+'.csv',index=False,header=None)\n",
    "X_catboost.to_csv('dataset_ready/'+'X_house_price_catboost'+'.csv',index=False,header=None)\n",
    "y.to_csv('dataset_ready/'+'y_house_price'+'.csv',index=False,header=None)"
   ]
  },
  {
   "cell_type": "code",
   "execution_count": null,
   "metadata": {},
   "outputs": [],
   "source": []
  },
  {
   "cell_type": "code",
   "execution_count": null,
   "metadata": {},
   "outputs": [],
   "source": []
  }
 ],
 "metadata": {
  "kernelspec": {
   "display_name": "Python 3",
   "language": "python",
   "name": "python3"
  },
  "language_info": {
   "codemirror_mode": {
    "name": "ipython",
    "version": 3
   },
   "file_extension": ".py",
   "mimetype": "text/x-python",
   "name": "python",
   "nbconvert_exporter": "python",
   "pygments_lexer": "ipython3",
   "version": "3.7.4"
  },
  "varInspector": {
   "cols": {
    "lenName": 16,
    "lenType": 16,
    "lenVar": 40
   },
   "kernels_config": {
    "python": {
     "delete_cmd_postfix": "",
     "delete_cmd_prefix": "del ",
     "library": "var_list.py",
     "varRefreshCmd": "print(var_dic_list())"
    },
    "r": {
     "delete_cmd_postfix": ") ",
     "delete_cmd_prefix": "rm(",
     "library": "var_list.r",
     "varRefreshCmd": "cat(var_dic_list()) "
    }
   },
   "types_to_exclude": [
    "module",
    "function",
    "builtin_function_or_method",
    "instance",
    "_Feature"
   ],
   "window_display": false
  }
 },
 "nbformat": 4,
 "nbformat_minor": 2
}
