{
 "metadata": {
  "language_info": {
   "codemirror_mode": {
    "name": "ipython",
    "version": 3
   },
   "file_extension": ".py",
   "mimetype": "text/x-python",
   "name": "python",
   "nbconvert_exporter": "python",
   "pygments_lexer": "ipython3",
   "version": "3.7.3"
  },
  "orig_nbformat": 2,
  "kernelspec": {
   "name": "python373jvsc74a57bd0e5905b2412e539e95ab18e33735395546488e92bdb674c135c04dc4a0c072cf7",
   "display_name": "Python 3.7.3 64-bit ('base': conda)"
  }
 },
 "nbformat": 4,
 "nbformat_minor": 2,
 "cells": [
  {
   "cell_type": "code",
   "execution_count": 193,
   "metadata": {},
   "outputs": [],
   "source": [
    "import pandas as pd\n",
    "import numpy as np\n",
    "import matplotlib.pyplot as plt \n",
    "import warnings\n",
    "warnings.filterwarnings(\"ignore\")"
   ]
  },
  {
   "source": [
    "# DATASET 1 "
   ],
   "cell_type": "markdown",
   "metadata": {}
  },
  {
   "cell_type": "code",
   "execution_count": null,
   "metadata": {},
   "outputs": [],
   "source": [
    "# dataset 1 \n",
    "\n",
    "#%%\n",
    "'''import libraries'''\n",
    "import pandas as pd\n",
    "import numpy as np\n",
    "from service import *\n",
    "\n",
    "#%%\n",
    "'''baca file'''  \n",
    "data_bank=pd.read_csv(r\"/home/yusuf/hyperparameter-tuning-benchmark/Data_Preprocessing/dataset-raw/bank-full.csv\",sep=';')\n",
    "data_bank.info()\n",
    "\n",
    "#%%\n",
    "'''hapus kolom duration'''\n",
    "data_bank=data_bank.drop(['duration'],axis=1)\n",
    "# berdasarkan https://archive.ics.uci.edu/ml/datasets/Bank+Marketing, disarankan duration dihapus \n",
    "\n",
    "#%% \n",
    "'''banyak nilai kategori di tiap fitur kategorikal''' \n",
    "# banyak_tiap_kategori(data_bank)\n",
    "\n",
    "#%% \n",
    "'''ubah nilai unknown menjadi nilai yang paling sering muncul'''\n",
    "data_bank['job']=data_bank['job'].replace(['unknown'],'blue-collar')\n",
    "data_bank['education']=data_bank['education'].replace(['unknown'],'secondary')\n",
    "data_bank['contact']=data_bank['contact'].replace(['unknown'],'cellular')\n",
    "\n",
    "#%%\n",
    "'''hapus kolom poutcome'''\n",
    "data_bank=data_bank.drop(['poutcome'],axis=1)\n",
    "\n",
    "#%%\n",
    "'''pengelompokan nilai kategori pada fitur job'''\n",
    "data_bank['job']=data_bank['job'].replace(['management','entrepreneur'],'high')\n",
    "data_bank['job']=data_bank['job'].replace(['blue-collar','technician','services','self-employed'],'mid')\n",
    "data_bank['job']=data_bank['job'].replace(['unemployed','housemaid','student','admin.','retired'],'low')\n",
    "\n",
    "'''pengelompokan nilai kategori pada fitur month'''\n",
    "data_bank['month']=data_bank['month'].replace(['jan','feb','mar','apr','may','jun'],'semester-1')\n",
    "data_bank['month']=data_bank['month'].replace(['jul','aug','sep','oct','nov','dec'],'semester-2')\n",
    "\n",
    "#%%\n",
    "## untuk catboost ini tidak perlu dilakukan...\n",
    "'''label encoding pada fitur education'''\n",
    "kategori=['primary','secondary','tertiary']\n",
    "label=[1,2,3]\n",
    "data_bank['education']=data_bank['education'].replace(kategori,label)\n",
    "\n",
    "#%%\n",
    "'''dimensi data sebelum transformasi'''\n",
    "X,y=pisah_x_y(data_bank)\n",
    "# print(\"before transform\")\n",
    "# print(\"y= \",y.shape)\n",
    "# print(\"X= \",X.shape)\n",
    "#%%\n",
    "'''transformasi data'''\n",
    "numerical_minmax=['age','balance','day','campaign','pdays','previous']\n",
    "categorical_onehot=['job','marital','default','housing','loan','contact','month']\n",
    "y=transform_kelas(y)\n",
    "X=transform_fitur(X,numerical_minmax,categorical_onehot) # xgboost dan lightgbm\n",
    "\n",
    "\n",
    "#%%\n",
    "# print(\"dimensi data setelah transformasi\")\n",
    "# print(\"y= \",y.shape)\n",
    "# print(\"X= \",X.shape)\n",
    "\n",
    "#%%\n",
    "'''export data'''\n",
    "#ekspor_data(X,y,\"X-bank\",\"y-bank\")\n",
    "\n"
   ]
  },
  {
   "cell_type": "code",
   "execution_count": null,
   "metadata": {},
   "outputs": [],
   "source": [
    "# "
   ]
  },
  {
   "cell_type": "code",
   "execution_count": 194,
   "metadata": {},
   "outputs": [],
   "source": [
    "data=pd.read_csv(r\"/home/yusuf/hyperparameter-tuning-benchmark/Data_Preprocessing/dataset-raw/cus_seg.csv\")"
   ]
  },
  {
   "source": [
    "## EDA"
   ],
   "cell_type": "markdown",
   "metadata": {}
  },
  {
   "cell_type": "code",
   "execution_count": 195,
   "metadata": {},
   "outputs": [
    {
     "output_type": "execute_result",
     "data": {
      "text/plain": [
       "       ID  Gender Ever_Married  Age Graduated     Profession  Work_Experience  \\\n",
       "0  462809    Male           No   22        No     Healthcare              1.0   \n",
       "1  462643  Female          Yes   38       Yes       Engineer              NaN   \n",
       "2  466315  Female          Yes   67       Yes       Engineer              1.0   \n",
       "3  461735    Male          Yes   67       Yes         Lawyer              0.0   \n",
       "4  462669  Female          Yes   40       Yes  Entertainment              NaN   \n",
       "5  461319    Male          Yes   56        No         Artist              0.0   \n",
       "6  460156    Male           No   32       Yes     Healthcare              1.0   \n",
       "7  464347  Female           No   33       Yes     Healthcare              1.0   \n",
       "8  465015  Female          Yes   61       Yes       Engineer              0.0   \n",
       "9  465176  Female          Yes   55       Yes         Artist              1.0   \n",
       "\n",
       "  Spending_Score  Family_Size  Var_1 Segmentation  \n",
       "0            Low          4.0  Cat_4            D  \n",
       "1        Average          3.0  Cat_4            A  \n",
       "2            Low          1.0  Cat_6            B  \n",
       "3           High          2.0  Cat_6            B  \n",
       "4           High          6.0  Cat_6            A  \n",
       "5        Average          2.0  Cat_6            C  \n",
       "6            Low          3.0  Cat_6            C  \n",
       "7            Low          3.0  Cat_6            D  \n",
       "8            Low          3.0  Cat_7            D  \n",
       "9        Average          4.0  Cat_6            C  "
      ],
      "text/html": "<div>\n<style scoped>\n    .dataframe tbody tr th:only-of-type {\n        vertical-align: middle;\n    }\n\n    .dataframe tbody tr th {\n        vertical-align: top;\n    }\n\n    .dataframe thead th {\n        text-align: right;\n    }\n</style>\n<table border=\"1\" class=\"dataframe\">\n  <thead>\n    <tr style=\"text-align: right;\">\n      <th></th>\n      <th>ID</th>\n      <th>Gender</th>\n      <th>Ever_Married</th>\n      <th>Age</th>\n      <th>Graduated</th>\n      <th>Profession</th>\n      <th>Work_Experience</th>\n      <th>Spending_Score</th>\n      <th>Family_Size</th>\n      <th>Var_1</th>\n      <th>Segmentation</th>\n    </tr>\n  </thead>\n  <tbody>\n    <tr>\n      <th>0</th>\n      <td>462809</td>\n      <td>Male</td>\n      <td>No</td>\n      <td>22</td>\n      <td>No</td>\n      <td>Healthcare</td>\n      <td>1.0</td>\n      <td>Low</td>\n      <td>4.0</td>\n      <td>Cat_4</td>\n      <td>D</td>\n    </tr>\n    <tr>\n      <th>1</th>\n      <td>462643</td>\n      <td>Female</td>\n      <td>Yes</td>\n      <td>38</td>\n      <td>Yes</td>\n      <td>Engineer</td>\n      <td>NaN</td>\n      <td>Average</td>\n      <td>3.0</td>\n      <td>Cat_4</td>\n      <td>A</td>\n    </tr>\n    <tr>\n      <th>2</th>\n      <td>466315</td>\n      <td>Female</td>\n      <td>Yes</td>\n      <td>67</td>\n      <td>Yes</td>\n      <td>Engineer</td>\n      <td>1.0</td>\n      <td>Low</td>\n      <td>1.0</td>\n      <td>Cat_6</td>\n      <td>B</td>\n    </tr>\n    <tr>\n      <th>3</th>\n      <td>461735</td>\n      <td>Male</td>\n      <td>Yes</td>\n      <td>67</td>\n      <td>Yes</td>\n      <td>Lawyer</td>\n      <td>0.0</td>\n      <td>High</td>\n      <td>2.0</td>\n      <td>Cat_6</td>\n      <td>B</td>\n    </tr>\n    <tr>\n      <th>4</th>\n      <td>462669</td>\n      <td>Female</td>\n      <td>Yes</td>\n      <td>40</td>\n      <td>Yes</td>\n      <td>Entertainment</td>\n      <td>NaN</td>\n      <td>High</td>\n      <td>6.0</td>\n      <td>Cat_6</td>\n      <td>A</td>\n    </tr>\n    <tr>\n      <th>5</th>\n      <td>461319</td>\n      <td>Male</td>\n      <td>Yes</td>\n      <td>56</td>\n      <td>No</td>\n      <td>Artist</td>\n      <td>0.0</td>\n      <td>Average</td>\n      <td>2.0</td>\n      <td>Cat_6</td>\n      <td>C</td>\n    </tr>\n    <tr>\n      <th>6</th>\n      <td>460156</td>\n      <td>Male</td>\n      <td>No</td>\n      <td>32</td>\n      <td>Yes</td>\n      <td>Healthcare</td>\n      <td>1.0</td>\n      <td>Low</td>\n      <td>3.0</td>\n      <td>Cat_6</td>\n      <td>C</td>\n    </tr>\n    <tr>\n      <th>7</th>\n      <td>464347</td>\n      <td>Female</td>\n      <td>No</td>\n      <td>33</td>\n      <td>Yes</td>\n      <td>Healthcare</td>\n      <td>1.0</td>\n      <td>Low</td>\n      <td>3.0</td>\n      <td>Cat_6</td>\n      <td>D</td>\n    </tr>\n    <tr>\n      <th>8</th>\n      <td>465015</td>\n      <td>Female</td>\n      <td>Yes</td>\n      <td>61</td>\n      <td>Yes</td>\n      <td>Engineer</td>\n      <td>0.0</td>\n      <td>Low</td>\n      <td>3.0</td>\n      <td>Cat_7</td>\n      <td>D</td>\n    </tr>\n    <tr>\n      <th>9</th>\n      <td>465176</td>\n      <td>Female</td>\n      <td>Yes</td>\n      <td>55</td>\n      <td>Yes</td>\n      <td>Artist</td>\n      <td>1.0</td>\n      <td>Average</td>\n      <td>4.0</td>\n      <td>Cat_6</td>\n      <td>C</td>\n    </tr>\n  </tbody>\n</table>\n</div>"
     },
     "metadata": {},
     "execution_count": 195
    }
   ],
   "source": [
    "data.head(10)"
   ]
  },
  {
   "cell_type": "code",
   "execution_count": 196,
   "metadata": {},
   "outputs": [
    {
     "output_type": "execute_result",
     "data": {
      "text/plain": [
       "88748"
      ]
     },
     "metadata": {},
     "execution_count": 196
    }
   ],
   "source": [
    "data.size"
   ]
  },
  {
   "cell_type": "code",
   "execution_count": 197,
   "metadata": {},
   "outputs": [
    {
     "output_type": "stream",
     "name": "stdout",
     "text": [
      "['D' 'A' 'B' 'C']\n"
     ]
    }
   ],
   "source": [
    "\n",
    "print(data['Segmentation'].unique())"
   ]
  },
  {
   "cell_type": "code",
   "execution_count": 198,
   "metadata": {},
   "outputs": [
    {
     "output_type": "stream",
     "name": "stdout",
     "text": [
      "D    2268\nA    1972\nC    1970\nB    1858\nName: Segmentation, dtype: int64\n"
     ]
    }
   ],
   "source": [
    "print(data['Segmentation'].value_counts())"
   ]
  },
  {
   "cell_type": "code",
   "execution_count": 199,
   "metadata": {},
   "outputs": [],
   "source": [
    "A=(data['Segmentation']=='A').sum()\n",
    "B=(data['Segmentation']=='B').sum()\n",
    "C=(data['Segmentation']=='C').sum()\n",
    "D=(data['Segmentation']=='D').sum()"
   ]
  },
  {
   "cell_type": "code",
   "execution_count": 200,
   "metadata": {},
   "outputs": [
    {
     "output_type": "display_data",
     "data": {
      "text/plain": "<Figure size 720x504 with 1 Axes>",
      "image/svg+xml": "<?xml version=\"1.0\" encoding=\"utf-8\" standalone=\"no\"?>\n<!DOCTYPE svg PUBLIC \"-//W3C//DTD SVG 1.1//EN\"\n  \"http://www.w3.org/Graphics/SVG/1.1/DTD/svg11.dtd\">\n<!-- Created with matplotlib (https://matplotlib.org/) -->\n<svg height=\"401.92pt\" version=\"1.1\" viewBox=\"0 0 401.92 401.92\" width=\"401.92pt\" xmlns=\"http://www.w3.org/2000/svg\" xmlns:xlink=\"http://www.w3.org/1999/xlink\">\n <defs>\n  <style type=\"text/css\">\n*{stroke-linecap:butt;stroke-linejoin:round;}\n  </style>\n </defs>\n <g id=\"figure_1\">\n  <g id=\"patch_1\">\n   <path d=\"M 0 401.92 \nL 401.92 401.92 \nL 401.92 0 \nL 0 0 \nz\n\" style=\"fill:none;\"/>\n  </g>\n  <g id=\"axes_1\">\n   <g id=\"patch_2\">\n    <path d=\"M 353.168 200.96 \nC 353.168 161.529131 337.845612 123.601109 310.456593 95.23502 \nC 283.067574 66.86893 245.699704 50.227032 206.293046 48.845458 \nL 200.96 200.96 \nL 353.168 200.96 \nz\n\" style=\"fill:#1f77b4;\"/>\n   </g>\n   <g id=\"patch_3\">\n    <path d=\"M 206.293046 48.845458 \nC 169.213691 47.545478 132.908847 59.84698 104.257169 83.419208 \nC 75.605492 106.991436 56.538507 140.245289 50.668824 176.880181 \nL 200.96 200.96 \nL 206.293046 48.845458 \nz\n\" style=\"fill:#ff7f0e;\"/>\n   </g>\n   <g id=\"patch_4\">\n    <path d=\"M 50.668824 176.880181 \nC 44.437203 215.774062 53.540625 255.607692 76.048527 287.933555 \nC 98.556429 320.259418 132.756699 342.618576 171.396486 350.269323 \nL 200.96 200.96 \nL 50.668824 176.880181 \nz\n\" style=\"fill:#2ca02c;\"/>\n   </g>\n   <g id=\"patch_5\">\n    <path d=\"M 171.396486 350.269323 \nC 193.462079 354.63835 216.224266 354.06211 238.040527 348.582186 \nC 259.856787 343.102262 280.189432 332.853711 297.571256 318.576072 \nC 314.95308 304.298433 328.955687 286.343594 338.568647 266.007178 \nC 348.181608 245.670763 353.167998 223.453987 353.168 200.960014 \nL 200.96 200.96 \nL 171.396486 350.269323 \nz\n\" style=\"fill:#d62728;\"/>\n   </g>\n   <g id=\"matplotlib.axis_1\"/>\n   <g id=\"matplotlib.axis_2\"/>\n   <g id=\"text_1\">\n    <!-- A -->\n    <defs>\n     <path d=\"M 34.1875 63.1875 \nL 20.796875 26.90625 \nL 47.609375 26.90625 \nz\nM 28.609375 72.90625 \nL 39.796875 72.90625 \nL 67.578125 0 \nL 57.328125 0 \nL 50.6875 18.703125 \nL 17.828125 18.703125 \nL 11.1875 0 \nL 0.78125 0 \nz\n\" id=\"DejaVuSans-65\"/>\n    </defs>\n    <g transform=\"translate(321.406252 87.421897)scale(0.1 -0.1)\">\n     <use xlink:href=\"#DejaVuSans-65\"/>\n    </g>\n   </g>\n   <g id=\"text_2\">\n    <!-- 24.4% -->\n    <defs>\n     <path d=\"M 19.1875 8.296875 \nL 53.609375 8.296875 \nL 53.609375 0 \nL 7.328125 0 \nL 7.328125 8.296875 \nQ 12.9375 14.109375 22.625 23.890625 \nQ 32.328125 33.6875 34.8125 36.53125 \nQ 39.546875 41.84375 41.421875 45.53125 \nQ 43.3125 49.21875 43.3125 52.78125 \nQ 43.3125 58.59375 39.234375 62.25 \nQ 35.15625 65.921875 28.609375 65.921875 \nQ 23.96875 65.921875 18.8125 64.3125 \nQ 13.671875 62.703125 7.8125 59.421875 \nL 7.8125 69.390625 \nQ 13.765625 71.78125 18.9375 73 \nQ 24.125 74.21875 28.421875 74.21875 \nQ 39.75 74.21875 46.484375 68.546875 \nQ 53.21875 62.890625 53.21875 53.421875 \nQ 53.21875 48.921875 51.53125 44.890625 \nQ 49.859375 40.875 45.40625 35.40625 \nQ 44.1875 33.984375 37.640625 27.21875 \nQ 31.109375 20.453125 19.1875 8.296875 \nz\n\" id=\"DejaVuSans-50\"/>\n     <path d=\"M 37.796875 64.3125 \nL 12.890625 25.390625 \nL 37.796875 25.390625 \nz\nM 35.203125 72.90625 \nL 47.609375 72.90625 \nL 47.609375 25.390625 \nL 58.015625 25.390625 \nL 58.015625 17.1875 \nL 47.609375 17.1875 \nL 47.609375 0 \nL 37.796875 0 \nL 37.796875 17.1875 \nL 4.890625 17.1875 \nL 4.890625 26.703125 \nz\n\" id=\"DejaVuSans-52\"/>\n     <path d=\"M 10.6875 12.40625 \nL 21 12.40625 \nL 21 0 \nL 10.6875 0 \nz\n\" id=\"DejaVuSans-46\"/>\n     <path d=\"M 72.703125 32.078125 \nQ 68.453125 32.078125 66.03125 28.46875 \nQ 63.625 24.859375 63.625 18.40625 \nQ 63.625 12.0625 66.03125 8.421875 \nQ 68.453125 4.78125 72.703125 4.78125 \nQ 76.859375 4.78125 79.265625 8.421875 \nQ 81.6875 12.0625 81.6875 18.40625 \nQ 81.6875 24.8125 79.265625 28.4375 \nQ 76.859375 32.078125 72.703125 32.078125 \nz\nM 72.703125 38.28125 \nQ 80.421875 38.28125 84.953125 32.90625 \nQ 89.5 27.546875 89.5 18.40625 \nQ 89.5 9.28125 84.9375 3.921875 \nQ 80.375 -1.421875 72.703125 -1.421875 \nQ 64.890625 -1.421875 60.34375 3.921875 \nQ 55.8125 9.28125 55.8125 18.40625 \nQ 55.8125 27.59375 60.375 32.9375 \nQ 64.9375 38.28125 72.703125 38.28125 \nz\nM 22.3125 68.015625 \nQ 18.109375 68.015625 15.6875 64.375 \nQ 13.28125 60.75 13.28125 54.390625 \nQ 13.28125 47.953125 15.671875 44.328125 \nQ 18.0625 40.71875 22.3125 40.71875 \nQ 26.5625 40.71875 28.96875 44.328125 \nQ 31.390625 47.953125 31.390625 54.390625 \nQ 31.390625 60.6875 28.953125 64.34375 \nQ 26.515625 68.015625 22.3125 68.015625 \nz\nM 66.40625 74.21875 \nL 74.21875 74.21875 \nL 28.609375 -1.421875 \nL 20.796875 -1.421875 \nz\nM 22.3125 74.21875 \nQ 30.03125 74.21875 34.609375 68.875 \nQ 39.203125 63.53125 39.203125 54.390625 \nQ 39.203125 45.171875 34.640625 39.84375 \nQ 30.078125 34.515625 22.3125 34.515625 \nQ 14.546875 34.515625 10.03125 39.859375 \nQ 5.515625 45.21875 5.515625 54.390625 \nQ 5.515625 63.484375 10.046875 68.84375 \nQ 14.59375 74.21875 22.3125 74.21875 \nz\n\" id=\"DejaVuSans-37\"/>\n    </defs>\n    <g transform=\"translate(250.774362 140.284387)scale(0.1 -0.1)\">\n     <use xlink:href=\"#DejaVuSans-50\"/>\n     <use x=\"63.623047\" xlink:href=\"#DejaVuSans-52\"/>\n     <use x=\"127.246094\" xlink:href=\"#DejaVuSans-46\"/>\n     <use x=\"159.033203\" xlink:href=\"#DejaVuSans-52\"/>\n     <use x=\"222.65625\" xlink:href=\"#DejaVuSans-37\"/>\n    </g>\n   </g>\n   <g id=\"text_3\">\n    <!-- B -->\n    <defs>\n     <path d=\"M 19.671875 34.8125 \nL 19.671875 8.109375 \nL 35.5 8.109375 \nQ 43.453125 8.109375 47.28125 11.40625 \nQ 51.125 14.703125 51.125 21.484375 \nQ 51.125 28.328125 47.28125 31.5625 \nQ 43.453125 34.8125 35.5 34.8125 \nz\nM 19.671875 64.796875 \nL 19.671875 42.828125 \nL 34.28125 42.828125 \nQ 41.5 42.828125 45.03125 45.53125 \nQ 48.578125 48.25 48.578125 53.8125 \nQ 48.578125 59.328125 45.03125 62.0625 \nQ 41.5 64.796875 34.28125 64.796875 \nz\nM 9.8125 72.90625 \nL 35.015625 72.90625 \nQ 46.296875 72.90625 52.390625 68.21875 \nQ 58.5 63.53125 58.5 54.890625 \nQ 58.5 48.1875 55.375 44.234375 \nQ 52.25 40.28125 46.1875 39.3125 \nQ 53.46875 37.75 57.5 32.78125 \nQ 61.53125 27.828125 61.53125 20.40625 \nQ 61.53125 10.640625 54.890625 5.3125 \nQ 48.25 0 35.984375 0 \nL 9.8125 0 \nz\n\" id=\"DejaVuSans-66\"/>\n    </defs>\n    <g transform=\"translate(87.725949 74.424504)scale(0.1 -0.1)\">\n     <use xlink:href=\"#DejaVuSans-66\"/>\n    </g>\n   </g>\n   <g id=\"text_4\">\n    <!-- 23.0% -->\n    <defs>\n     <path d=\"M 40.578125 39.3125 \nQ 47.65625 37.796875 51.625 33 \nQ 55.609375 28.21875 55.609375 21.1875 \nQ 55.609375 10.40625 48.1875 4.484375 \nQ 40.765625 -1.421875 27.09375 -1.421875 \nQ 22.515625 -1.421875 17.65625 -0.515625 \nQ 12.796875 0.390625 7.625 2.203125 \nL 7.625 11.71875 \nQ 11.71875 9.328125 16.59375 8.109375 \nQ 21.484375 6.890625 26.8125 6.890625 \nQ 36.078125 6.890625 40.9375 10.546875 \nQ 45.796875 14.203125 45.796875 21.1875 \nQ 45.796875 27.640625 41.28125 31.265625 \nQ 36.765625 34.90625 28.71875 34.90625 \nL 20.21875 34.90625 \nL 20.21875 43.015625 \nL 29.109375 43.015625 \nQ 36.375 43.015625 40.234375 45.921875 \nQ 44.09375 48.828125 44.09375 54.296875 \nQ 44.09375 59.90625 40.109375 62.90625 \nQ 36.140625 65.921875 28.71875 65.921875 \nQ 24.65625 65.921875 20.015625 65.03125 \nQ 15.375 64.15625 9.8125 62.3125 \nL 9.8125 71.09375 \nQ 15.4375 72.65625 20.34375 73.4375 \nQ 25.25 74.21875 29.59375 74.21875 \nQ 40.828125 74.21875 47.359375 69.109375 \nQ 53.90625 64.015625 53.90625 55.328125 \nQ 53.90625 49.265625 50.4375 45.09375 \nQ 46.96875 40.921875 40.578125 39.3125 \nz\n\" id=\"DejaVuSans-51\"/>\n     <path d=\"M 31.78125 66.40625 \nQ 24.171875 66.40625 20.328125 58.90625 \nQ 16.5 51.421875 16.5 36.375 \nQ 16.5 21.390625 20.328125 13.890625 \nQ 24.171875 6.390625 31.78125 6.390625 \nQ 39.453125 6.390625 43.28125 13.890625 \nQ 47.125 21.390625 47.125 36.375 \nQ 47.125 51.421875 43.28125 58.90625 \nQ 39.453125 66.40625 31.78125 66.40625 \nz\nM 31.78125 74.21875 \nQ 44.046875 74.21875 50.515625 64.515625 \nQ 56.984375 54.828125 56.984375 36.375 \nQ 56.984375 17.96875 50.515625 8.265625 \nQ 44.046875 -1.421875 31.78125 -1.421875 \nQ 19.53125 -1.421875 13.0625 8.265625 \nQ 6.59375 17.96875 6.59375 36.375 \nQ 6.59375 54.828125 13.0625 64.515625 \nQ 19.53125 74.21875 31.78125 74.21875 \nz\n\" id=\"DejaVuSans-48\"/>\n    </defs>\n    <g transform=\"translate(127.054708 133.1949)scale(0.1 -0.1)\">\n     <use xlink:href=\"#DejaVuSans-50\"/>\n     <use x=\"63.623047\" xlink:href=\"#DejaVuSans-51\"/>\n     <use x=\"127.246094\" xlink:href=\"#DejaVuSans-46\"/>\n     <use x=\"159.033203\" xlink:href=\"#DejaVuSans-48\"/>\n     <use x=\"222.65625\" xlink:href=\"#DejaVuSans-37\"/>\n    </g>\n   </g>\n   <g id=\"text_5\">\n    <!-- C -->\n    <defs>\n     <path d=\"M 64.40625 67.28125 \nL 64.40625 56.890625 \nQ 59.421875 61.53125 53.78125 63.8125 \nQ 48.140625 66.109375 41.796875 66.109375 \nQ 29.296875 66.109375 22.65625 58.46875 \nQ 16.015625 50.828125 16.015625 36.375 \nQ 16.015625 21.96875 22.65625 14.328125 \nQ 29.296875 6.6875 41.796875 6.6875 \nQ 48.140625 6.6875 53.78125 8.984375 \nQ 59.421875 11.28125 64.40625 15.921875 \nL 64.40625 5.609375 \nQ 59.234375 2.09375 53.4375 0.328125 \nQ 47.65625 -1.421875 41.21875 -1.421875 \nQ 24.65625 -1.421875 15.125 8.703125 \nQ 5.609375 18.84375 5.609375 36.375 \nQ 5.609375 53.953125 15.125 64.078125 \nQ 24.65625 74.21875 41.21875 74.21875 \nQ 47.75 74.21875 53.53125 72.484375 \nQ 59.328125 70.75 64.40625 67.28125 \nz\n\" id=\"DejaVuSans-67\"/>\n    </defs>\n    <g transform=\"translate(56.574568 299.390285)scale(0.1 -0.1)\">\n     <use xlink:href=\"#DejaVuSans-67\"/>\n    </g>\n   </g>\n   <g id=\"text_6\">\n    <!-- 24.4% -->\n    <g transform=\"translate(110.129523 255.903508)scale(0.1 -0.1)\">\n     <use xlink:href=\"#DejaVuSans-50\"/>\n     <use x=\"63.623047\" xlink:href=\"#DejaVuSans-52\"/>\n     <use x=\"127.246094\" xlink:href=\"#DejaVuSans-46\"/>\n     <use x=\"159.033203\" xlink:href=\"#DejaVuSans-52\"/>\n     <use x=\"222.65625\" xlink:href=\"#DejaVuSans-37\"/>\n    </g>\n   </g>\n   <g id=\"text_7\">\n    <!-- D -->\n    <defs>\n     <path d=\"M 19.671875 64.796875 \nL 19.671875 8.109375 \nL 31.59375 8.109375 \nQ 46.6875 8.109375 53.6875 14.9375 \nQ 60.6875 21.78125 60.6875 36.53125 \nQ 60.6875 51.171875 53.6875 57.984375 \nQ 46.6875 64.796875 31.59375 64.796875 \nz\nM 9.8125 72.90625 \nL 30.078125 72.90625 \nQ 51.265625 72.90625 61.171875 64.09375 \nQ 71.09375 55.28125 71.09375 36.53125 \nQ 71.09375 17.671875 61.125 8.828125 \nQ 51.171875 0 30.078125 0 \nL 9.8125 0 \nz\n\" id=\"DejaVuSans-68\"/>\n    </defs>\n    <g transform=\"translate(307.232382 333.097054)scale(0.1 -0.1)\">\n     <use xlink:href=\"#DejaVuSans-68\"/>\n    </g>\n   </g>\n   <g id=\"text_8\">\n    <!-- 28.1% -->\n    <defs>\n     <path d=\"M 31.78125 34.625 \nQ 24.75 34.625 20.71875 30.859375 \nQ 16.703125 27.09375 16.703125 20.515625 \nQ 16.703125 13.921875 20.71875 10.15625 \nQ 24.75 6.390625 31.78125 6.390625 \nQ 38.8125 6.390625 42.859375 10.171875 \nQ 46.921875 13.96875 46.921875 20.515625 \nQ 46.921875 27.09375 42.890625 30.859375 \nQ 38.875 34.625 31.78125 34.625 \nz\nM 21.921875 38.8125 \nQ 15.578125 40.375 12.03125 44.71875 \nQ 8.5 49.078125 8.5 55.328125 \nQ 8.5 64.0625 14.71875 69.140625 \nQ 20.953125 74.21875 31.78125 74.21875 \nQ 42.671875 74.21875 48.875 69.140625 \nQ 55.078125 64.0625 55.078125 55.328125 \nQ 55.078125 49.078125 51.53125 44.71875 \nQ 48 40.375 41.703125 38.8125 \nQ 48.828125 37.15625 52.796875 32.3125 \nQ 56.78125 27.484375 56.78125 20.515625 \nQ 56.78125 9.90625 50.3125 4.234375 \nQ 43.84375 -1.421875 31.78125 -1.421875 \nQ 19.734375 -1.421875 13.25 4.234375 \nQ 6.78125 9.90625 6.78125 20.515625 \nQ 6.78125 27.484375 10.78125 32.3125 \nQ 14.796875 37.15625 21.921875 38.8125 \nz\nM 18.3125 54.390625 \nQ 18.3125 48.734375 21.84375 45.5625 \nQ 25.390625 42.390625 31.78125 42.390625 \nQ 38.140625 42.390625 41.71875 45.5625 \nQ 45.3125 48.734375 45.3125 54.390625 \nQ 45.3125 60.0625 41.71875 63.234375 \nQ 38.140625 66.40625 31.78125 66.40625 \nQ 25.390625 66.40625 21.84375 63.234375 \nQ 18.3125 60.0625 18.3125 54.390625 \nz\n\" id=\"DejaVuSans-56\"/>\n     <path d=\"M 12.40625 8.296875 \nL 28.515625 8.296875 \nL 28.515625 63.921875 \nL 10.984375 60.40625 \nL 10.984375 69.390625 \nL 28.421875 72.90625 \nL 38.28125 72.90625 \nL 38.28125 8.296875 \nL 54.390625 8.296875 \nL 54.390625 0 \nL 12.40625 0 \nz\n\" id=\"DejaVuSans-49\"/>\n    </defs>\n    <g transform=\"translate(243.04316 274.289018)scale(0.1 -0.1)\">\n     <use xlink:href=\"#DejaVuSans-50\"/>\n     <use x=\"63.623047\" xlink:href=\"#DejaVuSans-56\"/>\n     <use x=\"127.246094\" xlink:href=\"#DejaVuSans-46\"/>\n     <use x=\"159.033203\" xlink:href=\"#DejaVuSans-49\"/>\n     <use x=\"222.65625\" xlink:href=\"#DejaVuSans-37\"/>\n    </g>\n   </g>\n  </g>\n </g>\n</svg>\n",
      "image/png": "[encoded data removed]"
     },
     "metadata": {}
    }
   ],
   "source": [
    "y=np.array([A,B,C,D])\n",
    "mylabels=[\"A\",\"B\",\"C\",\"D\"]\n",
    "fig = plt.figure(figsize =(10, 7)) \n",
    "plt.pie(y,labels=mylabels,autopct='%1.1f%%')\n",
    "plt.show()"
   ]
  },
  {
   "cell_type": "code",
   "execution_count": 201,
   "metadata": {},
   "outputs": [
    {
     "output_type": "stream",
     "name": "stdout",
     "text": [
      "<class 'pandas.core.frame.DataFrame'>\nRangeIndex: 8068 entries, 0 to 8067\nData columns (total 11 columns):\nID                 8068 non-null int64\nGender             8068 non-null object\nEver_Married       7928 non-null object\nAge                8068 non-null int64\nGraduated          7990 non-null object\nProfession         7944 non-null object\nWork_Experience    7239 non-null float64\nSpending_Score     8068 non-null object\nFamily_Size        7733 non-null float64\nVar_1              7992 non-null object\nSegmentation       8068 non-null object\ndtypes: float64(2), int64(2), object(7)\nmemory usage: 693.4+ KB\n"
     ]
    }
   ],
   "source": [
    "data.info()"
   ]
  },
  {
   "cell_type": "code",
   "execution_count": 202,
   "metadata": {},
   "outputs": [
    {
     "output_type": "execute_result",
     "data": {
      "text/plain": [
       "ID                   0\n",
       "Gender               0\n",
       "Ever_Married       140\n",
       "Age                  0\n",
       "Graduated           78\n",
       "Profession         124\n",
       "Work_Experience    829\n",
       "Spending_Score       0\n",
       "Family_Size        335\n",
       "Var_1               76\n",
       "Segmentation         0\n",
       "dtype: int64"
      ]
     },
     "metadata": {},
     "execution_count": 202
    }
   ],
   "source": [
    "data.isnull().sum()"
   ]
  },
  {
   "source": [
    "# feature column, ID dan segmentation bukan feature \n",
    "feature_cols=data.columns.tolist()\n",
    "feature_cols.remove('ID')\n",
    "feature_cols.remove('Segmentation')\n",
    "feature_cols"
   ],
   "cell_type": "code",
   "metadata": {},
   "execution_count": 203,
   "outputs": [
    {
     "output_type": "execute_result",
     "data": {
      "text/plain": [
       "['Gender',\n",
       " 'Ever_Married',\n",
       " 'Age',\n",
       " 'Graduated',\n",
       " 'Profession',\n",
       " 'Work_Experience',\n",
       " 'Spending_Score',\n",
       " 'Family_Size',\n",
       " 'Var_1']"
      ]
     },
     "metadata": {},
     "execution_count": 203
    }
   ]
  },
  {
   "cell_type": "code",
   "execution_count": 204,
   "metadata": {},
   "outputs": [],
   "source": [
    "# ada 9 fitur dan dari 9 fitur ada 6 fitur yang memiliki nilai NaN"
   ]
  },
  {
   "source": [
    "# Handle Missing Values"
   ],
   "cell_type": "markdown",
   "metadata": {}
  },
  {
   "source": [
    "## 1. Ever_Married"
   ],
   "cell_type": "markdown",
   "metadata": {}
  },
  {
   "cell_type": "code",
   "execution_count": 205,
   "metadata": {},
   "outputs": [
    {
     "output_type": "stream",
     "name": "stdout",
     "text": [
      "Nilai unik=  ['No' 'Yes' nan] \n\nYes    4643\nNo     3285\nName: Ever_Married, dtype: int64 \n\njumlah NaN values=  140 \n\nYes    4783\nNo     3285\nName: Ever_Married, dtype: int64 \n\n"
     ]
    }
   ],
   "source": [
    "# ubah NaN jadi nilai yang most frequent  \n",
    "print(\"Nilai unik= \",data[\"Ever_Married\"].unique(),\"\\n\")\n",
    "print(data['Ever_Married'].value_counts(),\"\\n\")\n",
    "print(\"jumlah NaN values= \",data['Ever_Married'].isna().sum(),\"\\n\")\n",
    "data['Ever_Married']=data['Ever_Married'].fillna('Yes')\n",
    "print(data['Ever_Married'].value_counts(),\"\\n\")"
   ]
  },
  {
   "source": [
    "## 2. Graduated"
   ],
   "cell_type": "markdown",
   "metadata": {}
  },
  {
   "cell_type": "code",
   "execution_count": 206,
   "metadata": {},
   "outputs": [
    {
     "output_type": "stream",
     "name": "stdout",
     "text": [
      "Nilai unik=  ['No' 'Yes' nan] \n",
      "\n",
      "Yes    4968\n",
      "No     3022\n",
      "Name: Graduated, dtype: int64 \n",
      "\n",
      "jumlah NaN values=  78 \n",
      "\n",
      "Yes    5046\n",
      "No     3022\n",
      "Name: Graduated, dtype: int64 \n",
      "\n"
     ]
    }
   ],
   "source": [
    "# ubah NaN jadi nilai yang most frequent  \n",
    "print(\"Nilai unik= \",data[\"Graduated\"].unique(),\"\\n\")\n",
    "print(data['Graduated'].value_counts(),\"\\n\")\n",
    "print(\"jumlah NaN values= \",data['Graduated'].isna().sum(),\"\\n\")\n",
    "data['Graduated']=data['Graduated'].fillna('Yes')\n",
    "print(data['Graduated'].value_counts(),\"\\n\")"
   ]
  },
  {
   "source": [
    "## 3. Profession"
   ],
   "cell_type": "markdown",
   "metadata": {}
  },
  {
   "cell_type": "code",
   "execution_count": 207,
   "metadata": {},
   "outputs": [
    {
     "output_type": "stream",
     "name": "stdout",
     "text": [
      "Nilai unik=  ['Healthcare' 'Engineer' 'Lawyer' 'Entertainment' 'Artist' 'Executive'\n 'Doctor' 'Homemaker' 'Marketing' nan] \n\nArtist           2516\nHealthcare       1332\nEntertainment     949\nEngineer          699\nDoctor            688\nLawyer            623\nExecutive         599\nMarketing         292\nHomemaker         246\nName: Profession, dtype: int64 \n\njumlah NaN values=  124 \n\nArtist           2640\nHealthcare       1332\nEntertainment     949\nEngineer          699\nDoctor            688\nLawyer            623\nExecutive         599\nMarketing         292\nHomemaker         246\nName: Profession, dtype: int64 \n\n"
     ]
    }
   ],
   "source": [
    "# ubah NaN jadi nilai yang most frequent  \n",
    "print(\"Nilai unik= \",data[\"Profession\"].unique(),\"\\n\")\n",
    "print(data['Profession'].value_counts(),\"\\n\")\n",
    "print(\"jumlah NaN values= \",data['Profession'].isna().sum(),\"\\n\")\n",
    "data['Profession']=data['Profession'].fillna('Artist')\n",
    "print(data['Profession'].value_counts(),\"\\n\")"
   ]
  },
  {
   "source": [
    "## 4. Work Experience"
   ],
   "cell_type": "markdown",
   "metadata": {}
  },
  {
   "cell_type": "code",
   "execution_count": 208,
   "metadata": {},
   "outputs": [
    {
     "output_type": "stream",
     "name": "stdout",
     "text": [
      "Nilai unik=  [ 1. nan  0.  4.  9. 12.  3. 13.  5.  8. 14.  7.  2.  6. 10. 11.] \n\n1.0     2354\n0.0     2318\n9.0      474\n8.0      463\n2.0      286\n3.0      255\n4.0      253\n6.0      204\n7.0      196\n5.0      194\n10.0      53\n11.0      50\n12.0      48\n13.0      46\n14.0      45\nName: Work_Experience, dtype: int64 \n\n"
     ]
    }
   ],
   "source": [
    "# ubah nilai NaN jadi nilai rata2nya \n",
    "kolom='Work_Experience'\n",
    "print(\"Nilai unik= \",data[kolom].unique(),\"\\n\")\n",
    "print(data[kolom].value_counts(),\"\\n\")"
   ]
  },
  {
   "cell_type": "code",
   "execution_count": 209,
   "metadata": {},
   "outputs": [
    {
     "output_type": "stream",
     "name": "stdout",
     "text": [
      "jumlah NaN values=  829 \n\n"
     ]
    }
   ],
   "source": [
    "print(\"jumlah NaN values= \",data[kolom].isna().sum(),\"\\n\")"
   ]
  },
  {
   "cell_type": "code",
   "execution_count": 210,
   "metadata": {},
   "outputs": [
    {
     "output_type": "stream",
     "name": "stdout",
     "text": [
      "nilai rata-rata=  2.6 \n",
      "\n",
      "1.0     2354\n",
      "0.0     2318\n",
      "2.6      829\n",
      "9.0      474\n",
      "8.0      463\n",
      "2.0      286\n",
      "3.0      255\n",
      "4.0      253\n",
      "6.0      204\n",
      "7.0      196\n",
      "5.0      194\n",
      "10.0      53\n",
      "11.0      50\n",
      "12.0      48\n",
      "13.0      46\n",
      "14.0      45\n",
      "Name: Work_Experience, dtype: int64 \n",
      "\n"
     ]
    }
   ],
   "source": [
    "rata_rata=round(data[kolom].mean(),1)\n",
    "print(\"nilai rata-rata= \", rata_rata,\"\\n\")\n",
    "data[kolom]=data[kolom].fillna(rata_rata)\n",
    "print(data[kolom].value_counts(),\"\\n\")"
   ]
  },
  {
   "source": [
    "## 5. Family Size "
   ],
   "cell_type": "markdown",
   "metadata": {}
  },
  {
   "cell_type": "code",
   "execution_count": 211,
   "metadata": {},
   "outputs": [
    {
     "output_type": "stream",
     "name": "stdout",
     "text": [
      "Nilai unik=  [ 4.  3.  1.  2.  6. nan  5.  8.  7.  9.] \n",
      "\n",
      "2.0    2390\n",
      "3.0    1497\n",
      "1.0    1453\n",
      "4.0    1379\n",
      "5.0     612\n",
      "6.0     212\n",
      "7.0      96\n",
      "8.0      50\n",
      "9.0      44\n",
      "Name: Family_Size, dtype: int64 \n",
      "\n"
     ]
    }
   ],
   "source": [
    "# ubah nilai NaN jadi nilai rata2nya \n",
    "kolom='Family_Size'\n",
    "print(\"Nilai unik= \",data[kolom].unique(),\"\\n\")\n",
    "print(data[kolom].value_counts(),\"\\n\")\n"
   ]
  },
  {
   "cell_type": "code",
   "execution_count": 212,
   "metadata": {},
   "outputs": [
    {
     "output_type": "stream",
     "name": "stdout",
     "text": [
      "jumlah NaN values=  335 \n\n"
     ]
    }
   ],
   "source": [
    "print(\"jumlah NaN values= \",data[kolom].isna().sum(),\"\\n\")"
   ]
  },
  {
   "cell_type": "code",
   "execution_count": 213,
   "metadata": {},
   "outputs": [
    {
     "output_type": "stream",
     "name": "stdout",
     "text": [
      "nilai rata-rata=  2.9 \n\n2.0    2390\n3.0    1497\n1.0    1453\n4.0    1379\n5.0     612\n2.9     335\n6.0     212\n7.0      96\n8.0      50\n9.0      44\nName: Family_Size, dtype: int64 \n\n"
     ]
    }
   ],
   "source": [
    "rata_rata=round(data[kolom].mean(),1)\n",
    "print(\"nilai rata-rata= \", rata_rata,\"\\n\")\n",
    "data[kolom]=data[kolom].fillna(rata_rata)\n",
    "print(data[kolom].value_counts(),\"\\n\")"
   ]
  },
  {
   "source": [
    "## 6. Var_1"
   ],
   "cell_type": "markdown",
   "metadata": {}
  },
  {
   "cell_type": "code",
   "execution_count": 214,
   "metadata": {},
   "outputs": [
    {
     "output_type": "stream",
     "name": "stdout",
     "text": [
      "Nilai unik=  ['Cat_4' 'Cat_6' 'Cat_7' 'Cat_3' 'Cat_1' 'Cat_2' nan 'Cat_5'] \n\nCat_6    5238\nCat_4    1089\nCat_3     822\nCat_2     422\nCat_7     203\nCat_1     133\nCat_5      85\nName: Var_1, dtype: int64 \n\n"
     ]
    }
   ],
   "source": [
    "# ubah NaN jadi nilai yang most frequent  \n",
    "kolom='Var_1'\n",
    "print(\"Nilai unik= \",data[kolom].unique(),\"\\n\")\n",
    "print(data[kolom].value_counts(),\"\\n\")"
   ]
  },
  {
   "cell_type": "code",
   "execution_count": 215,
   "metadata": {},
   "outputs": [
    {
     "output_type": "stream",
     "name": "stdout",
     "text": [
      "jumlah NaN values=  76 \n\n"
     ]
    }
   ],
   "source": [
    "print(\"jumlah NaN values= \",data[kolom].isna().sum(),\"\\n\")"
   ]
  },
  {
   "cell_type": "code",
   "execution_count": 216,
   "metadata": {},
   "outputs": [
    {
     "output_type": "stream",
     "name": "stdout",
     "text": [
      "Cat_6    5314\nCat_4    1089\nCat_3     822\nCat_2     422\nCat_7     203\nCat_1     133\nCat_5      85\nName: Var_1, dtype: int64 \n\n"
     ]
    }
   ],
   "source": [
    "data[kolom]=data[kolom].fillna('Cat_6')\n",
    "print(data[kolom].value_counts(),\"\\n\")"
   ]
  },
  {
   "cell_type": "code",
   "execution_count": 217,
   "metadata": {},
   "outputs": [
    {
     "output_type": "stream",
     "name": "stdout",
     "text": [
      "<class 'pandas.core.frame.DataFrame'>\nRangeIndex: 8068 entries, 0 to 8067\nData columns (total 11 columns):\nID                 8068 non-null int64\nGender             8068 non-null object\nEver_Married       8068 non-null object\nAge                8068 non-null int64\nGraduated          8068 non-null object\nProfession         8068 non-null object\nWork_Experience    8068 non-null float64\nSpending_Score     8068 non-null object\nFamily_Size        8068 non-null float64\nVar_1              8068 non-null object\nSegmentation       8068 non-null object\ndtypes: float64(2), int64(2), object(7)\nmemory usage: 693.4+ KB\n"
     ]
    }
   ],
   "source": [
    "data.info()"
   ]
  },
  {
   "source": [
    "# Normalization and Encoding"
   ],
   "cell_type": "markdown",
   "metadata": {}
  },
  {
   "cell_type": "code",
   "execution_count": 218,
   "metadata": {},
   "outputs": [],
   "source": [
    "# untuk data numerical = min max scaler \n",
    "# untuk data kategorikal = label and one hot encoding \n",
    "# khusus untuk catboost = gk perlu one hot encoding, biarkan apa adanya, gk perlu diubah jadi numerikal jg "
   ]
  },
  {
   "cell_type": "code",
   "execution_count": 219,
   "metadata": {},
   "outputs": [],
   "source": [
    "df_fitur=data.drop(columns=['ID', 'Segmentation'])\n",
    "df_kelas=data[['Segmentation']]"
   ]
  },
  {
   "cell_type": "code",
   "execution_count": 220,
   "metadata": {},
   "outputs": [
    {
     "output_type": "stream",
     "name": "stdout",
     "text": [
      "<class 'pandas.core.frame.DataFrame'>\nRangeIndex: 8068 entries, 0 to 8067\nData columns (total 9 columns):\nGender             8068 non-null object\nEver_Married       8068 non-null object\nAge                8068 non-null int64\nGraduated          8068 non-null object\nProfession         8068 non-null object\nWork_Experience    8068 non-null float64\nSpending_Score     8068 non-null object\nFamily_Size        8068 non-null float64\nVar_1              8068 non-null object\ndtypes: float64(2), int64(1), object(6)\nmemory usage: 567.4+ KB\n"
     ]
    }
   ],
   "source": [
    "df_fitur.info()"
   ]
  },
  {
   "cell_type": "code",
   "execution_count": 221,
   "metadata": {},
   "outputs": [
    {
     "output_type": "stream",
     "name": "stdout",
     "text": [
      "<class 'pandas.core.frame.DataFrame'>\nRangeIndex: 8068 entries, 0 to 8067\nData columns (total 1 columns):\nSegmentation    8068 non-null object\ndtypes: object(1)\nmemory usage: 63.1+ KB\n"
     ]
    }
   ],
   "source": [
    "df_kelas.info()"
   ]
  },
  {
   "cell_type": "code",
   "execution_count": 222,
   "metadata": {},
   "outputs": [],
   "source": [
    "y=LabelEncoder().fit_transform(df_kelas)"
   ]
  },
  {
   "cell_type": "code",
   "execution_count": 223,
   "metadata": {},
   "outputs": [
    {
     "output_type": "execute_result",
     "data": {
      "text/plain": [
       "array([3, 0, 1, ..., 3, 1, 1])"
      ]
     },
     "metadata": {},
     "execution_count": 223
    }
   ],
   "source": [
    "y"
   ]
  },
  {
   "cell_type": "code",
   "execution_count": 224,
   "metadata": {},
   "outputs": [
    {
     "output_type": "stream",
     "name": "stdout",
     "text": [
      "Gender = 2  kategori\nEver_Married = 2  kategori\nGraduated = 2  kategori\nProfession = 9  kategori\nSpending_Score = 3  kategori\nVar_1 = 7  kategori\n\ntotal kategori=  25\n"
     ]
    }
   ],
   "source": [
    "# hitung banyak kategori tiap fitur kategorikal \n",
    "categorical_ix = df_fitur.select_dtypes(include=['object']).columns \n",
    "sum=0\n",
    "for i in categorical_ix:\n",
    "    print(i,\"=\",len(df_fitur[i].unique()),\" kategori\")\n",
    "    sum=sum+len(df_fitur[i].unique())\n",
    "print(\"\\ntotal kategori= \",sum)"
   ]
  },
  {
   "cell_type": "code",
   "execution_count": 225,
   "metadata": {},
   "outputs": [
    {
     "output_type": "execute_result",
     "data": {
      "text/plain": [
       "array(['Healthcare', 'Engineer', 'Lawyer', 'Entertainment', 'Artist',\n",
       "       'Executive', 'Doctor', 'Homemaker', 'Marketing'], dtype=object)"
      ]
     },
     "metadata": {},
     "execution_count": 225
    }
   ],
   "source": [
    "# cek \n",
    "df_fitur['Profession'].unique()"
   ]
  },
  {
   "cell_type": "code",
   "execution_count": 226,
   "metadata": {},
   "outputs": [
    {
     "output_type": "stream",
     "name": "stdout",
     "text": [
      "<class 'pandas.core.frame.DataFrame'>\nRangeIndex: 8068 entries, 0 to 8067\nData columns (total 9 columns):\nGender             8068 non-null object\nEver_Married       8068 non-null object\nAge                8068 non-null int64\nGraduated          8068 non-null object\nProfession         8068 non-null object\nWork_Experience    8068 non-null float64\nSpending_Score     8068 non-null object\nFamily_Size        8068 non-null float64\nVar_1              8068 non-null object\ndtypes: float64(2), int64(1), object(6)\nmemory usage: 567.4+ KB\n"
     ]
    }
   ],
   "source": [
    "df_fitur.info()"
   ]
  },
  {
   "cell_type": "code",
   "execution_count": 227,
   "metadata": {},
   "outputs": [],
   "source": [
    "categorical_onehot=[\"Gender\",\"Ever_Married\",\"Graduated\",\"Profession\",\"Spending_Score\",\"Var_1\"]\n",
    "numerical_col=[\"Age\",\"Work_Experience\",\"Family_Size\"]\n",
    "\n",
    "t = [('cat', OneHotEncoder(sparse=False), categorical_onehot),('num', MinMaxScaler(), numerical_col)]\n",
    "col_transform = ColumnTransformer(transformers=t,remainder='passthrough')\n",
    "X=col_transform.fit_transform(df_fitur)"
   ]
  },
  {
   "cell_type": "code",
   "execution_count": 228,
   "metadata": {},
   "outputs": [],
   "source": [
    "# untuk catboost \n",
    "t = [('num', MinMaxScaler(), numerical_col)]\n",
    "col_transform = ColumnTransformer(transformers=t,remainder='passthrough')\n",
    "X_catboost=col_transform.fit_transform(df_fitur)"
   ]
  },
  {
   "cell_type": "code",
   "execution_count": 229,
   "metadata": {},
   "outputs": [
    {
     "output_type": "execute_result",
     "data": {
      "text/plain": [
       "(8068, 9)"
      ]
     },
     "metadata": {},
     "execution_count": 229
    }
   ],
   "source": [
    "X_catboost.shape"
   ]
  },
  {
   "cell_type": "code",
   "execution_count": 230,
   "metadata": {},
   "outputs": [
    {
     "output_type": "execute_result",
     "data": {
      "text/plain": [
       "(8068, 28)"
      ]
     },
     "metadata": {},
     "execution_count": 230
    }
   ],
   "source": [
    "X.shape"
   ]
  },
  {
   "cell_type": "code",
   "execution_count": 231,
   "metadata": {},
   "outputs": [
    {
     "output_type": "execute_result",
     "data": {
      "text/plain": [
       "(8068,)"
      ]
     },
     "metadata": {},
     "execution_count": 231
    }
   ],
   "source": [
    "y.shape"
   ]
  },
  {
   "source": [
    "# Save File"
   ],
   "cell_type": "markdown",
   "metadata": {}
  },
  {
   "cell_type": "code",
   "execution_count": 232,
   "metadata": {},
   "outputs": [],
   "source": [
    "X=pd.DataFrame(X)\n",
    "y=pd.DataFrame(y)\n",
    "\n",
    "X.to_csv('dataset-ready/'+'X_cus_seg'+'.csv',index=False,header=None)\n",
    "y.to_csv('dataset-ready/'+'y_cus_seg'+'.csv',index=False,header=None)"
   ]
  },
  {
   "cell_type": "code",
   "execution_count": 233,
   "metadata": {},
   "outputs": [],
   "source": [
    "X_catboost=pd.DataFrame(X_catboost)\n",
    "\n",
    "X_catboost.to_csv('dataset-ready/'+'X_cus_seg_catboost'+'.csv',index=False,header=None)"
   ]
  },
  {
   "cell_type": "code",
   "execution_count": null,
   "metadata": {},
   "outputs": [],
   "source": []
  }
 ]
}