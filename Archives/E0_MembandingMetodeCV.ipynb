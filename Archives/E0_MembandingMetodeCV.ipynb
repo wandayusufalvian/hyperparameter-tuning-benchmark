{
 "cells": [
  {
   "cell_type": "markdown",
   "metadata": {},
   "source": [
    "# Experiment Objective\n",
    "•\tmembandingkan metode CV <br>"
   ]
  },
  {
   "cell_type": "markdown",
   "metadata": {},
   "source": [
    "# Hasil dan Analisa : \n",
    "-\tSaya salah hitung, sudah benar 243 kandidat yang dicek karena banyak kandidat = 3^5=243 <br>\n",
    "-\tGunakan parameter n_job=-1. Ini akan otomatis membagi “job” secara merata ke seluruh thread pada CPU <br>\n",
    "-\tKetika input integer pada cv maka otomatis akan menggunakan stratifiedCV <br>\n",
    "-\tUntuk imbalance dataset, stratifiedKFold lebih tepat digunakan dibandingkan KFold. read more : https://machinelearningmastery.com/cross-validation-for-imbalanced-classification/  <br>\n",
    "-\tPakai 10 fold hasilnya lebih baik. tp pasti lebih lama waktu eksekusinya\n",
    "-\tHasil KFold vs StratifiedKFold berbeda \n",
    "-\tNilai AUC score dengan KFold lebih tinggi \n",
    "-\tBerdasarkan studi literatur, StratifiedKFold lebih cocok digunakan untuk imbalance dataset \n",
    "-\tParameter cv beberapa kasus ketika input berupa integer akan menggunakan metode StratifiedKFold \n",
    "-\t10 fold lebih tinggi skor nya dibanding 5 fold. Tp waktu nya lebih lama dengan skor yang tidak jauh berbeda \n"
   ]
  },
  {
   "cell_type": "markdown",
   "metadata": {},
   "source": [
    "# Code :"
   ]
  },
  {
   "cell_type": "code",
   "execution_count": 1,
   "metadata": {
    "ExecuteTime": {
     "end_time": "2020-10-30T15:26:01.755289Z",
     "start_time": "2020-10-30T15:25:59.985470Z"
    }
   },
   "outputs": [],
   "source": [
    "import pandas as pd \n",
    "import numpy as np \n",
    "import pickle\n",
    "from xgboost import XGBClassifier \n",
    "from sklearn.model_selection import KFold\n",
    "from sklearn.model_selection import StratifiedKFold\n",
    "from sklearn.model_selection import cross_val_score\n",
    "from sklearn.model_selection import RandomizedSearchCV"
   ]
  },
  {
   "cell_type": "code",
   "execution_count": 2,
   "metadata": {
    "ExecuteTime": {
     "end_time": "2020-10-30T15:26:02.167917Z",
     "start_time": "2020-10-30T15:26:01.774254Z"
    },
    "scrolled": false
   },
   "outputs": [],
   "source": [
    "X_bank=pd.read_csv('dataset/X_bank_preprocessed.csv').to_numpy()\n",
    "y_bank=pd.read_csv('dataset/y_bank_preprocessed.csv').to_numpy().ravel()"
   ]
  },
  {
   "cell_type": "markdown",
   "metadata": {},
   "source": [
    "ravel() merubah array dari (n,1) menjadi (n,)"
   ]
  },
  {
   "cell_type": "code",
   "execution_count": 3,
   "metadata": {
    "ExecuteTime": {
     "end_time": "2020-10-30T15:26:04.038729Z",
     "start_time": "2020-10-30T15:26:04.022719Z"
    }
   },
   "outputs": [],
   "source": [
    "model=XGBClassifier()"
   ]
  },
  {
   "cell_type": "markdown",
   "metadata": {},
   "source": [
    "### default hyperparameter XGBoost "
   ]
  },
  {
   "cell_type": "code",
   "execution_count": 36,
   "metadata": {
    "ExecuteTime": {
     "end_time": "2020-10-28T07:11:37.774837Z",
     "start_time": "2020-10-28T07:11:34.220839Z"
    }
   },
   "outputs": [
    {
     "name": "stdout",
     "output_type": "stream",
     "text": [
      "{'objective': 'binary:logistic', 'base_score': 0.5, 'booster': 'gbtree', 'colsample_bylevel': 1, 'colsample_bynode': 1, 'colsample_bytree': 1, 'gamma': 0, 'gpu_id': -1, 'interaction_constraints': '', 'learning_rate': 0.300000012, 'max_delta_step': 0, 'max_depth': 6, 'min_child_weight': 1, 'monotone_constraints': '()', 'n_jobs': 0, 'num_parallel_tree': 1, 'random_state': 0, 'reg_alpha': 0, 'reg_lambda': 1, 'scale_pos_weight': 1, 'subsample': 1, 'tree_method': 'exact', 'validate_parameters': 1, 'verbosity': None}\n"
     ]
    }
   ],
   "source": [
    "model.fit(X_bank, y_bank, eval_metric='auc', verbose=True)\n",
    "pickle.dump(model, open(\"xgb_temp.pkl\", \"wb\"))\n",
    "clf2 = pickle.load(open(\"xgb_temp.pkl\", \"rb\"))\n",
    "assert np.allclose(model.predict(X_bank), clf2.predict(X_bank))\n",
    "print(clf2.get_xgb_params())"
   ]
  },
  {
   "cell_type": "markdown",
   "metadata": {},
   "source": [
    "### KFold"
   ]
  },
  {
   "cell_type": "code",
   "execution_count": 14,
   "metadata": {
    "ExecuteTime": {
     "end_time": "2020-10-28T04:30:35.747954Z",
     "start_time": "2020-10-28T04:30:22.095955Z"
    }
   },
   "outputs": [
    {
     "name": "stdout",
     "output_type": "stream",
     "text": [
      "AUC: 0.8562, std: 0.0558\n"
     ]
    }
   ],
   "source": [
    "kfold=KFold(n_splits=5)\n",
    "results=cross_val_score(model,X_bank,y_bank,cv=kfold,scoring=\"roc_auc\")\n",
    "print(f\"AUC: {round(results.mean(),4)}, std: {round(results.std(),4)}\")"
   ]
  },
  {
   "cell_type": "markdown",
   "metadata": {},
   "source": [
    "### StratifiedKFold"
   ]
  },
  {
   "cell_type": "code",
   "execution_count": 7,
   "metadata": {
    "ExecuteTime": {
     "end_time": "2020-10-28T18:02:11.126609Z",
     "start_time": "2020-10-28T18:02:00.040773Z"
    }
   },
   "outputs": [
    {
     "name": "stdout",
     "output_type": "stream",
     "text": [
      "AUC: 0.4837, std: 0.1006\n"
     ]
    }
   ],
   "source": [
    "skf=StratifiedKFold(n_splits=5)\n",
    "results=cross_val_score(model,X_bank,y_bank,cv=skf,scoring=\"roc_auc\")\n",
    "print(f\"AUC: {round(results.mean(),4)}, std: {round(results.std(),4)}\")"
   ]
  },
  {
   "cell_type": "markdown",
   "metadata": {},
   "source": [
    "### CV with integer input (5 fold vs 10 fold)"
   ]
  },
  {
   "cell_type": "code",
   "execution_count": 6,
   "metadata": {
    "ExecuteTime": {
     "end_time": "2020-10-28T17:56:55.333924Z",
     "start_time": "2020-10-28T17:56:44.528931Z"
    }
   },
   "outputs": [
    {
     "name": "stdout",
     "output_type": "stream",
     "text": [
      "AUC: 0.4837, std: 0.1006\n"
     ]
    }
   ],
   "source": [
    "results=cross_val_score(model,X_bank,y_bank,cv=5,scoring=\"roc_auc\")\n",
    "print(f\"AUC: {round(results.mean(),4)}, std: {round(results.std(),4)}\")"
   ]
  },
  {
   "cell_type": "code",
   "execution_count": 8,
   "metadata": {
    "ExecuteTime": {
     "end_time": "2020-10-29T01:03:43.229299Z",
     "start_time": "2020-10-29T01:03:16.809296Z"
    }
   },
   "outputs": [
    {
     "name": "stdout",
     "output_type": "stream",
     "text": [
      "AUC: 0.5397, std: 0.1814\n"
     ]
    }
   ],
   "source": [
    "results=cross_val_score(model,X_bank,y_bank,cv=10,scoring=\"roc_auc\")\n",
    "print(f\"AUC: {round(results.mean(),4)}, std: {round(results.std(),4)}\")"
   ]
  },
  {
   "cell_type": "code",
   "execution_count": null,
   "metadata": {},
   "outputs": [],
   "source": []
  }
 ],
 "metadata": {
  "kernelspec": {
   "display_name": "Python 3",
   "language": "python",
   "name": "python3"
  },
  "language_info": {
   "codemirror_mode": {
    "name": "ipython",
    "version": 3
   },
   "file_extension": ".py",
   "mimetype": "text/x-python",
   "name": "python",
   "nbconvert_exporter": "python",
   "pygments_lexer": "ipython3",
   "version": "3.7.4"
  },
  "toc": {
   "base_numbering": 1,
   "nav_menu": {},
   "number_sections": false,
   "sideBar": true,
   "skip_h1_title": false,
   "title_cell": "Table of Contents",
   "title_sidebar": "Contents",
   "toc_cell": false,
   "toc_position": {},
   "toc_section_display": true,
   "toc_window_display": false
  },
  "varInspector": {
   "cols": {
    "lenName": 16,
    "lenType": 16,
    "lenVar": 40
   },
   "kernels_config": {
    "python": {
     "delete_cmd_postfix": "",
     "delete_cmd_prefix": "del ",
     "library": "var_list.py",
     "varRefreshCmd": "print(var_dic_list())"
    },
    "r": {
     "delete_cmd_postfix": ") ",
     "delete_cmd_prefix": "rm(",
     "library": "var_list.r",
     "varRefreshCmd": "cat(var_dic_list()) "
    }
   },
   "types_to_exclude": [
    "module",
    "function",
    "builtin_function_or_method",
    "instance",
    "_Feature"
   ],
   "window_display": false
  }
 },
 "nbformat": 4,
 "nbformat_minor": 2
}
