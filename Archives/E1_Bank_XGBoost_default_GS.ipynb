{
 "cells": [
  {
   "cell_type": "markdown",
   "metadata": {
    "heading_collapsed": true
   },
   "source": [
    "# Hasil dan Analisa : "
   ]
  },
  {
   "cell_type": "markdown",
   "metadata": {
    "hidden": true
   },
   "source": [
    "- XGBoost + GS lebih baik dibandingkan XGBoost menggunakan default hyperparameter\n",
    "- Nilai AUC dari XGBoost + GS -> 0.738 <br>\n",
    "- Nilai AUC dari XGBoost + default hyperparameter -> 0.483\n",
    "- Run di google colab waktunya lebih lama. Kalau lokal(windows) run xgboost =13 detik. kalau di google colab(CPU) =23 detik. google colab(GPU)=19 detik.\n",
    "- Nilai subsample mempengaruhi waktu eksekusi. Subsample besar (paling besar 1) waktu eksekusi lebih lama"
   ]
  },
  {
   "cell_type": "markdown",
   "metadata": {
    "id": "v7t-TlRr9Z92"
   },
   "source": [
    "# Code :"
   ]
  },
  {
   "cell_type": "code",
   "execution_count": 1,
   "metadata": {
    "ExecuteTime": {
     "end_time": "2020-12-23T14:27:39.513110Z",
     "start_time": "2020-12-23T14:27:36.997735Z"
    },
    "executionInfo": {
     "elapsed": 2341,
     "status": "ok",
     "timestamp": 1604455720643,
     "user": {
      "displayName": "Wanda Yusuf",
      "photoUrl": "https://lh3.googleusercontent.com/a-/AOh14GgJrx0xL5wpWKGiNdG3UyN7_fpYQ8YgemNQ3G6Psg=s64",
      "userId": "07463165475135105621"
     },
     "user_tz": -420
    },
    "id": "RHPuaiAg9Z93"
   },
   "outputs": [],
   "source": [
    "import time\n",
    "import pandas as pd\n",
    "import matplotlib.pyplot as plt\n",
    "from sklearn.model_selection import GridSearchCV\n",
    "from sklearn.model_selection import StratifiedKFold\n",
    "from sklearn.model_selection import cross_val_score\n",
    "from xgboost import XGBClassifier "
   ]
  },
  {
   "cell_type": "code",
   "execution_count": 2,
   "metadata": {
    "ExecuteTime": {
     "end_time": "2020-12-23T14:27:41.660713Z",
     "start_time": "2020-12-23T14:27:41.529937Z"
    },
    "id": "4lXy3oZ_9Z97"
   },
   "outputs": [
    {
     "ename": "FileNotFoundError",
     "evalue": "[Errno 2] No such file or directory: 'dataset/X_bank_preprocessed.csv'",
     "output_type": "error",
     "traceback": [
      "\u001b[0;31m---------------------------------------------------------------------------\u001b[0m",
      "\u001b[0;31mFileNotFoundError\u001b[0m                         Traceback (most recent call last)",
      "\u001b[0;32m<ipython-input-2-772e1db3e279>\u001b[0m in \u001b[0;36m<module>\u001b[0;34m\u001b[0m\n\u001b[0;32m----> 1\u001b[0;31m \u001b[0mX_bank\u001b[0m\u001b[0;34m=\u001b[0m\u001b[0mpd\u001b[0m\u001b[0;34m.\u001b[0m\u001b[0mread_csv\u001b[0m\u001b[0;34m(\u001b[0m\u001b[0;34m'dataset/X_bank_preprocessed.csv'\u001b[0m\u001b[0;34m)\u001b[0m\u001b[0;34m.\u001b[0m\u001b[0mto_numpy\u001b[0m\u001b[0;34m(\u001b[0m\u001b[0;34m)\u001b[0m\u001b[0;34m\u001b[0m\u001b[0;34m\u001b[0m\u001b[0m\n\u001b[0m\u001b[1;32m      2\u001b[0m \u001b[0my_bank\u001b[0m\u001b[0;34m=\u001b[0m\u001b[0mpd\u001b[0m\u001b[0;34m.\u001b[0m\u001b[0mread_csv\u001b[0m\u001b[0;34m(\u001b[0m\u001b[0;34m'dataset/y_bank_preprocessed.csv'\u001b[0m\u001b[0;34m)\u001b[0m\u001b[0;34m.\u001b[0m\u001b[0mto_numpy\u001b[0m\u001b[0;34m(\u001b[0m\u001b[0;34m)\u001b[0m\u001b[0;34m.\u001b[0m\u001b[0mravel\u001b[0m\u001b[0;34m(\u001b[0m\u001b[0;34m)\u001b[0m\u001b[0;34m\u001b[0m\u001b[0;34m\u001b[0m\u001b[0m\n",
      "\u001b[0;32m~/miniconda3/lib/python3.8/site-packages/pandas/io/parsers.py\u001b[0m in \u001b[0;36mread_csv\u001b[0;34m(filepath_or_buffer, sep, delimiter, header, names, index_col, usecols, squeeze, prefix, mangle_dupe_cols, dtype, engine, converters, true_values, false_values, skipinitialspace, skiprows, skipfooter, nrows, na_values, keep_default_na, na_filter, verbose, skip_blank_lines, parse_dates, infer_datetime_format, keep_date_col, date_parser, dayfirst, cache_dates, iterator, chunksize, compression, thousands, decimal, lineterminator, quotechar, quoting, doublequote, escapechar, comment, encoding, dialect, error_bad_lines, warn_bad_lines, delim_whitespace, low_memory, memory_map, float_precision)\u001b[0m\n\u001b[1;32m    684\u001b[0m     )\n\u001b[1;32m    685\u001b[0m \u001b[0;34m\u001b[0m\u001b[0m\n\u001b[0;32m--> 686\u001b[0;31m     \u001b[0;32mreturn\u001b[0m \u001b[0m_read\u001b[0m\u001b[0;34m(\u001b[0m\u001b[0mfilepath_or_buffer\u001b[0m\u001b[0;34m,\u001b[0m \u001b[0mkwds\u001b[0m\u001b[0;34m)\u001b[0m\u001b[0;34m\u001b[0m\u001b[0;34m\u001b[0m\u001b[0m\n\u001b[0m\u001b[1;32m    687\u001b[0m \u001b[0;34m\u001b[0m\u001b[0m\n\u001b[1;32m    688\u001b[0m \u001b[0;34m\u001b[0m\u001b[0m\n",
      "\u001b[0;32m~/miniconda3/lib/python3.8/site-packages/pandas/io/parsers.py\u001b[0m in \u001b[0;36m_read\u001b[0;34m(filepath_or_buffer, kwds)\u001b[0m\n\u001b[1;32m    450\u001b[0m \u001b[0;34m\u001b[0m\u001b[0m\n\u001b[1;32m    451\u001b[0m     \u001b[0;31m# Create the parser.\u001b[0m\u001b[0;34m\u001b[0m\u001b[0;34m\u001b[0m\u001b[0;34m\u001b[0m\u001b[0m\n\u001b[0;32m--> 452\u001b[0;31m     \u001b[0mparser\u001b[0m \u001b[0;34m=\u001b[0m \u001b[0mTextFileReader\u001b[0m\u001b[0;34m(\u001b[0m\u001b[0mfp_or_buf\u001b[0m\u001b[0;34m,\u001b[0m \u001b[0;34m**\u001b[0m\u001b[0mkwds\u001b[0m\u001b[0;34m)\u001b[0m\u001b[0;34m\u001b[0m\u001b[0;34m\u001b[0m\u001b[0m\n\u001b[0m\u001b[1;32m    453\u001b[0m \u001b[0;34m\u001b[0m\u001b[0m\n\u001b[1;32m    454\u001b[0m     \u001b[0;32mif\u001b[0m \u001b[0mchunksize\u001b[0m \u001b[0;32mor\u001b[0m \u001b[0miterator\u001b[0m\u001b[0;34m:\u001b[0m\u001b[0;34m\u001b[0m\u001b[0;34m\u001b[0m\u001b[0m\n",
      "\u001b[0;32m~/miniconda3/lib/python3.8/site-packages/pandas/io/parsers.py\u001b[0m in \u001b[0;36m__init__\u001b[0;34m(self, f, engine, **kwds)\u001b[0m\n\u001b[1;32m    934\u001b[0m             \u001b[0mself\u001b[0m\u001b[0;34m.\u001b[0m\u001b[0moptions\u001b[0m\u001b[0;34m[\u001b[0m\u001b[0;34m\"has_index_names\"\u001b[0m\u001b[0;34m]\u001b[0m \u001b[0;34m=\u001b[0m \u001b[0mkwds\u001b[0m\u001b[0;34m[\u001b[0m\u001b[0;34m\"has_index_names\"\u001b[0m\u001b[0;34m]\u001b[0m\u001b[0;34m\u001b[0m\u001b[0;34m\u001b[0m\u001b[0m\n\u001b[1;32m    935\u001b[0m \u001b[0;34m\u001b[0m\u001b[0m\n\u001b[0;32m--> 936\u001b[0;31m         \u001b[0mself\u001b[0m\u001b[0;34m.\u001b[0m\u001b[0m_make_engine\u001b[0m\u001b[0;34m(\u001b[0m\u001b[0mself\u001b[0m\u001b[0;34m.\u001b[0m\u001b[0mengine\u001b[0m\u001b[0;34m)\u001b[0m\u001b[0;34m\u001b[0m\u001b[0;34m\u001b[0m\u001b[0m\n\u001b[0m\u001b[1;32m    937\u001b[0m \u001b[0;34m\u001b[0m\u001b[0m\n\u001b[1;32m    938\u001b[0m     \u001b[0;32mdef\u001b[0m \u001b[0mclose\u001b[0m\u001b[0;34m(\u001b[0m\u001b[0mself\u001b[0m\u001b[0;34m)\u001b[0m\u001b[0;34m:\u001b[0m\u001b[0;34m\u001b[0m\u001b[0;34m\u001b[0m\u001b[0m\n",
      "\u001b[0;32m~/miniconda3/lib/python3.8/site-packages/pandas/io/parsers.py\u001b[0m in \u001b[0;36m_make_engine\u001b[0;34m(self, engine)\u001b[0m\n\u001b[1;32m   1166\u001b[0m     \u001b[0;32mdef\u001b[0m \u001b[0m_make_engine\u001b[0m\u001b[0;34m(\u001b[0m\u001b[0mself\u001b[0m\u001b[0;34m,\u001b[0m \u001b[0mengine\u001b[0m\u001b[0;34m=\u001b[0m\u001b[0;34m\"c\"\u001b[0m\u001b[0;34m)\u001b[0m\u001b[0;34m:\u001b[0m\u001b[0;34m\u001b[0m\u001b[0;34m\u001b[0m\u001b[0m\n\u001b[1;32m   1167\u001b[0m         \u001b[0;32mif\u001b[0m \u001b[0mengine\u001b[0m \u001b[0;34m==\u001b[0m \u001b[0;34m\"c\"\u001b[0m\u001b[0;34m:\u001b[0m\u001b[0;34m\u001b[0m\u001b[0;34m\u001b[0m\u001b[0m\n\u001b[0;32m-> 1168\u001b[0;31m             \u001b[0mself\u001b[0m\u001b[0;34m.\u001b[0m\u001b[0m_engine\u001b[0m \u001b[0;34m=\u001b[0m \u001b[0mCParserWrapper\u001b[0m\u001b[0;34m(\u001b[0m\u001b[0mself\u001b[0m\u001b[0;34m.\u001b[0m\u001b[0mf\u001b[0m\u001b[0;34m,\u001b[0m \u001b[0;34m**\u001b[0m\u001b[0mself\u001b[0m\u001b[0;34m.\u001b[0m\u001b[0moptions\u001b[0m\u001b[0;34m)\u001b[0m\u001b[0;34m\u001b[0m\u001b[0;34m\u001b[0m\u001b[0m\n\u001b[0m\u001b[1;32m   1169\u001b[0m         \u001b[0;32melse\u001b[0m\u001b[0;34m:\u001b[0m\u001b[0;34m\u001b[0m\u001b[0;34m\u001b[0m\u001b[0m\n\u001b[1;32m   1170\u001b[0m             \u001b[0;32mif\u001b[0m \u001b[0mengine\u001b[0m \u001b[0;34m==\u001b[0m \u001b[0;34m\"python\"\u001b[0m\u001b[0;34m:\u001b[0m\u001b[0;34m\u001b[0m\u001b[0;34m\u001b[0m\u001b[0m\n",
      "\u001b[0;32m~/miniconda3/lib/python3.8/site-packages/pandas/io/parsers.py\u001b[0m in \u001b[0;36m__init__\u001b[0;34m(self, src, **kwds)\u001b[0m\n\u001b[1;32m   1996\u001b[0m         \u001b[0mkwds\u001b[0m\u001b[0;34m[\u001b[0m\u001b[0;34m\"usecols\"\u001b[0m\u001b[0;34m]\u001b[0m \u001b[0;34m=\u001b[0m \u001b[0mself\u001b[0m\u001b[0;34m.\u001b[0m\u001b[0musecols\u001b[0m\u001b[0;34m\u001b[0m\u001b[0;34m\u001b[0m\u001b[0m\n\u001b[1;32m   1997\u001b[0m \u001b[0;34m\u001b[0m\u001b[0m\n\u001b[0;32m-> 1998\u001b[0;31m         \u001b[0mself\u001b[0m\u001b[0;34m.\u001b[0m\u001b[0m_reader\u001b[0m \u001b[0;34m=\u001b[0m \u001b[0mparsers\u001b[0m\u001b[0;34m.\u001b[0m\u001b[0mTextReader\u001b[0m\u001b[0;34m(\u001b[0m\u001b[0msrc\u001b[0m\u001b[0;34m,\u001b[0m \u001b[0;34m**\u001b[0m\u001b[0mkwds\u001b[0m\u001b[0;34m)\u001b[0m\u001b[0;34m\u001b[0m\u001b[0;34m\u001b[0m\u001b[0m\n\u001b[0m\u001b[1;32m   1999\u001b[0m         \u001b[0mself\u001b[0m\u001b[0;34m.\u001b[0m\u001b[0munnamed_cols\u001b[0m \u001b[0;34m=\u001b[0m \u001b[0mself\u001b[0m\u001b[0;34m.\u001b[0m\u001b[0m_reader\u001b[0m\u001b[0;34m.\u001b[0m\u001b[0munnamed_cols\u001b[0m\u001b[0;34m\u001b[0m\u001b[0;34m\u001b[0m\u001b[0m\n\u001b[1;32m   2000\u001b[0m \u001b[0;34m\u001b[0m\u001b[0m\n",
      "\u001b[0;32mpandas/_libs/parsers.pyx\u001b[0m in \u001b[0;36mpandas._libs.parsers.TextReader.__cinit__\u001b[0;34m()\u001b[0m\n",
      "\u001b[0;32mpandas/_libs/parsers.pyx\u001b[0m in \u001b[0;36mpandas._libs.parsers.TextReader._setup_parser_source\u001b[0;34m()\u001b[0m\n",
      "\u001b[0;31mFileNotFoundError\u001b[0m: [Errno 2] No such file or directory: 'dataset/X_bank_preprocessed.csv'"
     ]
    }
   ],
   "source": [
    "X_bank=pd.read_csv('dataset/X_bank_preprocessed.csv').to_numpy()\n",
    "y_bank=pd.read_csv('dataset/y_bank_preprocessed.csv').to_numpy().ravel()"
   ]
  },
  {
   "cell_type": "markdown",
   "metadata": {
    "id": "wuufpZad9Z9-"
   },
   "source": [
    "## Experiment 1\n",
    "- default hyperparameter\n",
    "- pengaruh subsample terhadap waktu eksekusi\n",
    "- pengaruh feature importance"
   ]
  },
  {
   "cell_type": "markdown",
   "metadata": {},
   "source": [
    "### Default hyperparameter"
   ]
  },
  {
   "cell_type": "code",
   "execution_count": 14,
   "metadata": {
    "ExecuteTime": {
     "end_time": "2020-11-10T10:40:33.756759Z",
     "start_time": "2020-11-10T10:40:23.050782Z"
    }
   },
   "outputs": [
    {
     "name": "stdout",
     "output_type": "stream",
     "text": [
      "AUC: 0.4837, std: 0.1006\n"
     ]
    }
   ],
   "source": [
    "# AUC dengan default hyperparameter\n",
    "start_time = time.time()\n",
    "model=XGBClassifier()\n",
    "skf=StratifiedKFold(n_splits=5)\n",
    "results=cross_val_score(model,X_bank,y_bank,cv=skf,scoring=\"roc_auc\")\n",
    "print(f\"AUC: {round(results.mean(),4)}, std: {round(results.std(),4)}\")\n",
    "end_time = time.time()\n",
    "print(\"waktu:\",end_time-start_time)"
   ]
  },
  {
   "cell_type": "code",
   "execution_count": null,
   "metadata": {},
   "outputs": [],
   "source": [
    "import time\n",
    "def sum_of_n_numbers(n):\n",
    "    \n",
    "    s = 0\n",
    "    for i in range(1,n+1):\n",
    "        s = s + i\n",
    "    \n",
    "    return s,"
   ]
  },
  {
   "cell_type": "code",
   "execution_count": 15,
   "metadata": {
    "ExecuteTime": {
     "end_time": "2020-11-10T10:40:39.517779Z",
     "start_time": "2020-11-10T10:40:36.721758Z"
    }
   },
   "outputs": [
    {
     "data": {
      "image/png": "[encoded data removed]",
      "text/plain": [
       "<Figure size 432x288 with 1 Axes>"
      ]
     },
     "metadata": {
      "needs_background": "light"
     },
     "output_type": "display_data"
    }
   ],
   "source": [
    "# feature importance \n",
    "from xgboost import plot_importance\n",
    "from matplotlib import pyplot\n",
    "model.fit(X_bank,y_bank)\n",
    "pyplot.bar(range(len(model.feature_importances_)), model.feature_importances_)\n",
    "pyplot.show()"
   ]
  },
  {
   "cell_type": "code",
   "execution_count": 16,
   "metadata": {
    "ExecuteTime": {
     "end_time": "2020-11-10T10:40:49.048834Z",
     "start_time": "2020-11-10T10:40:40.896837Z"
    }
   },
   "outputs": [
    {
     "name": "stdout",
     "output_type": "stream",
     "text": [
      "AUC: 0.4668, std: 0.1083\n"
     ]
    }
   ],
   "source": [
    "# menggunakan sebagian fitur \n",
    "model=XGBClassifier()\n",
    "skf=StratifiedKFold(n_splits=5)\n",
    "results=cross_val_score(model,X_bank[:,20:],y_bank,cv=skf,scoring=\"roc_auc\")\n",
    "print(f\"AUC: {round(results.mean(),4)}, std: {round(results.std(),4)}\")"
   ]
  },
  {
   "cell_type": "markdown",
   "metadata": {},
   "source": [
    "### Default hyperparameter (subsample=1) di run sebanyak 5 x "
   ]
  },
  {
   "cell_type": "code",
   "execution_count": 15,
   "metadata": {
    "ExecuteTime": {
     "end_time": "2020-11-09T01:21:27.820026Z",
     "start_time": "2020-11-09T01:20:18.942329Z"
    }
   },
   "outputs": [
    {
     "name": "stdout",
     "output_type": "stream",
     "text": [
      "[0.4836605879579482, 0.4836605879579482, 0.4836605879579482, 0.4836605879579482, 0.4836605879579482]\n",
      "[0.10055120010896905, 0.10055120010896905, 0.10055120010896905, 0.10055120010896905, 0.10055120010896905]\n",
      "[14.393108606338501, 13.281588315963745, 12.875, 13.267998218536377, 15.044999599456787]\n",
      "13.772538948059083\n",
      "0.8130723023590982\n"
     ]
    }
   ],
   "source": [
    "auc=[]\n",
    "std=[]\n",
    "waktu=[]\n",
    "for i in range(0,5): \n",
    "    start_time = time.time()\n",
    "    model=XGBClassifier()\n",
    "    skf=StratifiedKFold(n_splits=5)\n",
    "    results=cross_val_score(model,X_bank,y_bank,cv=skf,scoring=\"roc_auc\")\n",
    "    end_time = time.time()\n",
    "    \n",
    "    total=end_time-start_time \n",
    "    waktu.append(total)\n",
    "    auc.append(results.mean())\n",
    "    std.append(results.std())"
   ]
  },
  {
   "cell_type": "code",
   "execution_count": 18,
   "metadata": {
    "ExecuteTime": {
     "end_time": "2020-11-09T01:23:21.300191Z",
     "start_time": "2020-11-09T01:23:21.285188Z"
    }
   },
   "outputs": [
    {
     "name": "stdout",
     "output_type": "stream",
     "text": [
      "mean of AUC:  [0.4836605879579482, 0.4836605879579482, 0.4836605879579482, 0.4836605879579482, 0.4836605879579482]\n",
      "std of AUC:  [0.10055120010896905, 0.10055120010896905, 0.10055120010896905, 0.10055120010896905, 0.10055120010896905]\n",
      "time:  [14.393108606338501, 13.281588315963745, 12.875, 13.267998218536377, 15.044999599456787]\n",
      "mean of time:  13.772538948059083\n",
      "std of time:  0.8130723023590982\n"
     ]
    }
   ],
   "source": [
    "print(\"mean of AUC: \",auc)\n",
    "print(\"std of AUC: \",std)\n",
    "print(\"time: \",waktu)\n",
    "print(\"mean of time: \",np.array(waktu).mean())\n",
    "print(\"std of time: \",np.array(waktu).std())"
   ]
  },
  {
   "cell_type": "markdown",
   "metadata": {
    "heading_collapsed": true
   },
   "source": [
    "### Subsample=0.1 di run sebanyak 5 x "
   ]
  },
  {
   "cell_type": "code",
   "execution_count": 19,
   "metadata": {
    "ExecuteTime": {
     "end_time": "2020-11-09T01:25:24.435859Z",
     "start_time": "2020-11-09T01:24:26.060863Z"
    },
    "hidden": true,
    "id": "OAgT4LhS9Z9-"
   },
   "outputs": [],
   "source": [
    "waktu=[]\n",
    "for i in range(0,5): \n",
    "    start_time = time.time()\n",
    "    model=XGBClassifier(subsample=0.1)\n",
    "    skf=StratifiedKFold(n_splits=5)\n",
    "    results=cross_val_score(model,X_bank,y_bank,cv=skf,scoring=\"roc_auc\")\n",
    "    end_time = time.time()\n",
    "    \n",
    "    total=end_time-start_time \n",
    "    waktu.append(total)"
   ]
  },
  {
   "cell_type": "code",
   "execution_count": 20,
   "metadata": {
    "ExecuteTime": {
     "end_time": "2020-11-09T01:26:12.288828Z",
     "start_time": "2020-11-09T01:26:12.275826Z"
    },
    "hidden": true
   },
   "outputs": [
    {
     "name": "stdout",
     "output_type": "stream",
     "text": [
      "time:  [11.994995355606079, 11.531998872756958, 11.507001399993896, 11.672998666763306, 11.66200065612793]\n",
      "mean of time:  11.673798990249633\n",
      "std of time:  0.1739170237555707\n"
     ]
    }
   ],
   "source": [
    "print(\"time: \",waktu)\n",
    "print(\"mean of time: \",np.array(waktu).mean())\n",
    "print(\"std of time: \",np.array(waktu).std())"
   ]
  },
  {
   "cell_type": "markdown",
   "metadata": {
    "id": "vKYFTo4C9Z-E"
   },
   "source": [
    "## Experiment 2\n",
    "- xgboost + GS"
   ]
  },
  {
   "cell_type": "code",
   "execution_count": 6,
   "metadata": {
    "ExecuteTime": {
     "end_time": "2020-11-11T22:45:35.712815Z",
     "start_time": "2020-11-11T22:45:35.693820Z"
    },
    "id": "o0jJJVmP9Z-F"
   },
   "outputs": [],
   "source": [
    "model=XGBClassifier()\n",
    "params={\n",
    "    'eta': [0.001,0.01,0.1], # learning rate \n",
    "    'subsample': [0.1,0.4,0.8],\n",
    "    'max_depth': [10,20,30],\n",
    "    'gamma':[0.1,0.4,0.8],\n",
    "    'min_child_weight':[2,5,11]\n",
    "}"
   ]
  },
  {
   "cell_type": "code",
   "execution_count": 7,
   "metadata": {
    "ExecuteTime": {
     "end_time": "2020-11-12T00:03:09.350055Z",
     "start_time": "2020-11-11T22:45:51.788805Z"
    },
    "id": "NDNxbyA29Z-I"
   },
   "outputs": [
    {
     "name": "stdout",
     "output_type": "stream",
     "text": [
      "Fitting 5 folds for each of 243 candidates, totalling 1215 fits\n"
     ]
    },
    {
     "name": "stderr",
     "output_type": "stream",
     "text": [
      "[Parallel(n_jobs=-1)]: Using backend LokyBackend with 8 concurrent workers.\n",
      "[Parallel(n_jobs=-1)]: Done  34 tasks      | elapsed:  1.6min\n",
      "[Parallel(n_jobs=-1)]: Done 184 tasks      | elapsed: 10.7min\n",
      "[Parallel(n_jobs=-1)]: Done 434 tasks      | elapsed: 26.6min\n",
      "[Parallel(n_jobs=-1)]: Done 784 tasks      | elapsed: 49.3min\n",
      "[Parallel(n_jobs=-1)]: Done 1215 out of 1215 | elapsed: 77.2min finished\n"
     ]
    }
   ],
   "source": [
    "auc=[]\n",
    "std=[]\n",
    "\n",
    "grid_search= GridSearchCV(\n",
    "    estimator=model,\n",
    "    param_grid=params,\n",
    "    scoring = 'roc_auc',\n",
    "    n_jobs = -1,\n",
    "    cv = 5,\n",
    "    verbose= 1\n",
    ")\n",
    "grid_search.fit(X_bank,y_bank)\n",
    "\n",
    "best_index=grid_search.best_index_\n",
    "auc.append(grid_search.cv_results_['mean_test_score'])\n",
    "std.append(grid_search.cv_results_['std_test_score'])\n",
    "best_param=grid_search.best_params_"
   ]
  },
  {
   "cell_type": "code",
   "execution_count": 8,
   "metadata": {
    "ExecuteTime": {
     "end_time": "2020-11-12T00:03:15.687296Z",
     "start_time": "2020-11-12T00:03:15.663284Z"
    }
   },
   "outputs": [
    {
     "name": "stdout",
     "output_type": "stream",
     "text": [
      "All AUC:  [0.67428204 0.61508934 0.59593974 0.69096685 0.61972547 0.60539629\n",
      " 0.73291815 0.64763957 0.59346375 0.67349381 0.58654434 0.53825234\n",
      " 0.69233967 0.6080572  0.55751935 0.73277439 0.65086719 0.58640441\n",
      " 0.67349356 0.58642905 0.53763079 0.69233967 0.60809046 0.55738382\n",
      " 0.73277439 0.65086662 0.58638629 0.67406894 0.61612885 0.59695143\n",
      " 0.69094542 0.62073438 0.60536294 0.73319082 0.64771237 0.59241147\n",
      " 0.6732532  0.58733571 0.53920278 0.6924315  0.60831791 0.55926982\n",
      " 0.73307518 0.65131709 0.58684724 0.67325264 0.58738979 0.5389379\n",
      " 0.6924315  0.60834343 0.55929031 0.73307518 0.65131662 0.58682115\n",
      " 0.67408067 0.6139185  0.59738879 0.69037278 0.6212186  0.60425353\n",
      " 0.73319734 0.64805879 0.59154419 0.67299987 0.58853148 0.53929083\n",
      " 0.69189269 0.60857245 0.55981182 0.73292801 0.65194459 0.58579335\n",
      " 0.67299929 0.58832012 0.53920779 0.69189269 0.6085702  0.55976945\n",
      " 0.73292801 0.65194378 0.58580074 0.68056201 0.60528774 0.56795538\n",
      " 0.70286871 0.62482011 0.58862944 0.73771445 0.64305736 0.59056686\n",
      " 0.67374058 0.57411301 0.52147723 0.70198816 0.60522283 0.54998027\n",
      " 0.73696715 0.64167604 0.58158568 0.67363068 0.57413658 0.52151485\n",
      " 0.70198816 0.6046375  0.5514364  0.73696715 0.64167489 0.58128882\n",
      " 0.68111706 0.60645729 0.56847742 0.70332481 0.62514787 0.5885426\n",
      " 0.73826748 0.64404553 0.59056472 0.67340643 0.57453523 0.52169611\n",
      " 0.70270178 0.60841016 0.54977193 0.73759012 0.64223682 0.58194329\n",
      " 0.67339641 0.57476147 0.52142518 0.70270178 0.60860165 0.55243436\n",
      " 0.73759012 0.64223669 0.58181814 0.68104756 0.60622295 0.57069217\n",
      " 0.70368303 0.6250249  0.58818138 0.73789562 0.64492537 0.59101623\n",
      " 0.67316677 0.57505375 0.52404304 0.70220883 0.6070252  0.5498419\n",
      " 0.73752093 0.63995709 0.58188845 0.67315102 0.57311684 0.52336087\n",
      " 0.70220883 0.6072774  0.55133111 0.73752093 0.63995709 0.58156033\n",
      " 0.65348124 0.52516015 0.50144416 0.67246261 0.55968038 0.50923168\n",
      " 0.70066837 0.61338068 0.54609256 0.63614896 0.52303024 0.49997351\n",
      " 0.67759421 0.54939664 0.49428958 0.6998192  0.6154781  0.53278165\n",
      " 0.63904343 0.52329508 0.49573917 0.67759421 0.54974103 0.50012792\n",
      " 0.6998192  0.61105094 0.53561166 0.6537229  0.53169002 0.50339261\n",
      " 0.67240081 0.55376712 0.50840374 0.70167524 0.6117566  0.55543292\n",
      " 0.6459511  0.52213732 0.49215692 0.66657549 0.54510227 0.50058722\n",
      " 0.69947769 0.60784061 0.52855754 0.64295895 0.52662113 0.49237627\n",
      " 0.66657549 0.54703918 0.49386145 0.69947769 0.60485015 0.52915988\n",
      " 0.63864999 0.53243732 0.49715335 0.67216239 0.56512434 0.50531007\n",
      " 0.69787447 0.60883652 0.54914197 0.64671693 0.52567188 0.49283821\n",
      " 0.66560414 0.54929313 0.50487532 0.69449208 0.60934927 0.5342498\n",
      " 0.65097613 0.52552722 0.48570614 0.66560414 0.54218458 0.49506479\n",
      " 0.69449208 0.6038785  0.52944279] \n",
      "\n",
      "All std:  [0.1514257  0.1041649  0.09861896 0.15731266 0.10050062 0.0990087\n",
      " 0.12977337 0.10840251 0.08089499 0.14865037 0.09735913 0.07219332\n",
      " 0.15561507 0.10319178 0.08986654 0.12958065 0.11281817 0.08847623\n",
      " 0.14865183 0.09705687 0.07250733 0.15561507 0.10318134 0.0899139\n",
      " 0.12958065 0.11281787 0.08849482 0.1517759  0.10461496 0.09877058\n",
      " 0.15782963 0.10156067 0.09913942 0.12997874 0.10882499 0.08092008\n",
      " 0.1491022  0.09908145 0.07222142 0.15624983 0.10371546 0.09266382\n",
      " 0.12979308 0.11336405 0.08934543 0.14910328 0.09875068 0.07278668\n",
      " 0.15624983 0.10370595 0.09273612 0.12979308 0.1133638  0.08938545\n",
      " 0.1524545  0.10206421 0.09997874 0.15823401 0.10233795 0.09974637\n",
      " 0.12999945 0.10958018 0.08123665 0.14948307 0.10060421 0.07250069\n",
      " 0.15678906 0.10377058 0.0953188  0.12991299 0.11381795 0.09212445\n",
      " 0.14948409 0.10020537 0.07310065 0.15678906 0.10375086 0.09541238\n",
      " 0.12991299 0.11381753 0.09210418 0.14687627 0.08331184 0.06712005\n",
      " 0.15292123 0.09733581 0.07030922 0.12264672 0.10723903 0.06566852\n",
      " 0.14261428 0.08489535 0.06206401 0.15209484 0.0987519  0.07030909\n",
      " 0.12293219 0.11224076 0.07211702 0.14244661 0.08502389 0.06285151\n",
      " 0.15209484 0.09792371 0.07249123 0.12293219 0.11223877 0.07203999\n",
      " 0.1464053  0.08402341 0.06724451 0.15363549 0.09820519 0.07033284\n",
      " 0.12269999 0.10854549 0.06553591 0.14254879 0.08404327 0.06182606\n",
      " 0.15251926 0.10579336 0.07181251 0.12251854 0.11340683 0.07258778\n",
      " 0.14255088 0.08476108 0.06309052 0.15251926 0.10600561 0.07243586\n",
      " 0.12251854 0.11340661 0.0724712  0.14699822 0.08518216 0.06853391\n",
      " 0.15441299 0.09610353 0.07072575 0.12331442 0.1100739  0.06585909\n",
      " 0.14256721 0.08604626 0.06349139 0.15344404 0.10451351 0.07195082\n",
      " 0.12299417 0.11132033 0.07177086 0.14255066 0.08258121 0.06439259\n",
      " 0.15344404 0.10457323 0.07248492 0.12299417 0.11132033 0.0713023\n",
      " 0.11864883 0.07749539 0.07801877 0.13348132 0.07891509 0.06955469\n",
      " 0.1284411  0.09260343 0.07646321 0.10613047 0.06617039 0.08057694\n",
      " 0.13535341 0.07834229 0.07189351 0.12508096 0.10279469 0.06296031\n",
      " 0.10609453 0.07892129 0.08585398 0.13535341 0.0775832  0.07281348\n",
      " 0.12508096 0.09573437 0.06535059 0.12576247 0.07441776 0.08192349\n",
      " 0.13327187 0.08330143 0.06755026 0.12332689 0.1051354  0.06983139\n",
      " 0.12367378 0.07542708 0.08695084 0.12770042 0.07486942 0.07527312\n",
      " 0.12101701 0.09990585 0.07401635 0.11913483 0.07157492 0.07888716\n",
      " 0.12770042 0.0767283  0.07305213 0.12101701 0.10347692 0.0659951\n",
      " 0.12440432 0.07491908 0.079338   0.12560186 0.07660976 0.06669352\n",
      " 0.12632627 0.10023263 0.07070573 0.10997386 0.07150676 0.08194393\n",
      " 0.13015134 0.07306636 0.07458944 0.1221476  0.1040856  0.07135716\n",
      " 0.10746604 0.0756851  0.08484408 0.13015134 0.075294   0.06988271\n",
      " 0.1221476  0.0978182  0.07501079] \n",
      "\n",
      "Best Hyperparameter:  {'eta': 0.01, 'gamma': 0.4, 'max_depth': 10, 'min_child_weight': 11, 'subsample': 0.1} \n",
      "\n",
      "Best index/iterasi :  114\n",
      "Best AUC : 0.7382674790807361 ( std: 0.12269998614087489 ) \n",
      "\n"
     ]
    }
   ],
   "source": [
    "print(\"All AUC: \",auc[0],'\\n')\n",
    "print(\"All std: \",std[0],'\\n')\n",
    "print(\"Best Hyperparameter: \",best_param,'\\n')\n",
    "print(\"Best index/iterasi : \",best_index)\n",
    "print(\"Best AUC :\",auc[0][best_index],\"( std:\",std[0][best_index],\")\",'\\n')\n"
   ]
  },
  {
   "cell_type": "code",
   "execution_count": 10,
   "metadata": {
    "ExecuteTime": {
     "end_time": "2020-11-12T00:03:41.098532Z",
     "start_time": "2020-11-12T00:03:40.685190Z"
    }
   },
   "outputs": [
    {
     "data": {
      "image/png": "[encoded data removed]",
      "text/plain": [
       "<Figure size 1440x360 with 1 Axes>"
      ]
     },
     "metadata": {
      "needs_background": "light"
     },
     "output_type": "display_data"
    }
   ],
   "source": [
    "iteration=243\n",
    "fig=plt.figure(figsize=(20,5))\n",
    "x=range(1,iteration+1)\n",
    "y=auc[0]\n",
    "error=std[0]\n",
    "plt.plot(x,y,'or')\n",
    "plt.plot(x,y,color='gray')\n",
    "plt.plot(x[best_index],y[best_index],marker='*',markersize=22,markerfacecolor='yellow')\n",
    "fig=plt.xticks(range(1,iteration+1))\n",
    "fig=plt.xlabel('iterasi')\n",
    "fig=plt.ylabel('AUC')\n",
    "fig=plt.xticks(range(0,210,10))"
   ]
  },
  {
   "cell_type": "code",
   "execution_count": 13,
   "metadata": {
    "ExecuteTime": {
     "end_time": "2020-11-12T00:15:59.001012Z",
     "start_time": "2020-11-12T00:15:58.646994Z"
    }
   },
   "outputs": [
    {
     "data": {
      "image/png": "[encoded data removed]",
      "text/plain": [
       "<Figure size 1440x360 with 1 Axes>"
      ]
     },
     "metadata": {
      "needs_background": "light"
     },
     "output_type": "display_data"
    }
   ],
   "source": [
    "fig=plt.figure(figsize=(20,5))\n",
    "x=range(1,iteration+1)\n",
    "y=auc[0]\n",
    "error=std[0]\n",
    "plt.scatter(x,y)\n",
    "plt.plot(x[best_index],y[best_index],marker='*',markersize=22,markerfacecolor='yellow')\n",
    "fig=plt.xticks(range(1,iteration+1))\n",
    "fig=plt.xlabel('iterasi')\n",
    "fig=plt.ylabel('AUC')\n",
    "fig=plt.xticks(range(0,244,10))"
   ]
  },
  {
   "cell_type": "code",
   "execution_count": 11,
   "metadata": {
    "ExecuteTime": {
     "end_time": "2020-11-12T00:03:46.405252Z",
     "start_time": "2020-11-12T00:03:46.005236Z"
    }
   },
   "outputs": [
    {
     "data": {
      "image/png": "[encoded data removed]",
      "text/plain": [
       "<Figure size 432x288 with 1 Axes>"
      ]
     },
     "metadata": {
      "needs_background": "light"
     },
     "output_type": "display_data"
    }
   ],
   "source": [
    "fig=plt.figure()\n",
    "x=range(1,iteration+1)\n",
    "y=auc[0]\n",
    "error=std[0]\n",
    "plt.scatter(x,y)\n",
    "plt.plot(x[best_index],y[best_index],marker='*',markersize=22,markerfacecolor='yellow')\n",
    "fig=plt.xticks(range(1,iteration+1))\n",
    "fig=plt.xlabel('iterasi')\n",
    "fig=plt.ylabel('AUC')\n",
    "fig=plt.xticks(range(0,210,50))"
   ]
  },
  {
   "cell_type": "markdown",
   "metadata": {
    "id": "NfsIoVXi9Z-L"
   },
   "source": [
    "Bersumber dari https://scikit-learn.org/stable/modules/generated/sklearn.model_selection.GridSearchCV.html, default metode cv yang digunakan ketika input value berupa integer adalah StratifiedKFold "
   ]
  },
  {
   "cell_type": "code",
   "execution_count": null,
   "metadata": {
    "ExecuteTime": {
     "end_time": "2020-10-29T04:28:46.380381Z",
     "start_time": "2020-10-29T03:06:38.916153Z"
    },
    "id": "QV_jL5qe9Z-L",
    "outputId": "84c4ddc8-bbfd-4556-adf8-9575927b8c19"
   },
   "outputs": [
    {
     "name": "stdout",
     "output_type": "stream",
     "text": [
      "Fitting 5 folds for each of 243 candidates, totalling 1215 fits\n"
     ]
    },
    {
     "name": "stderr",
     "output_type": "stream",
     "text": [
      "[Parallel(n_jobs=-1)]: Using backend LokyBackend with 8 concurrent workers.\n",
      "[Parallel(n_jobs=-1)]: Done  34 tasks      | elapsed:  1.7min\n",
      "[Parallel(n_jobs=-1)]: Done 184 tasks      | elapsed: 12.0min\n",
      "[Parallel(n_jobs=-1)]: Done 434 tasks      | elapsed: 30.0min\n",
      "[Parallel(n_jobs=-1)]: Done 784 tasks      | elapsed: 53.4min\n",
      "[Parallel(n_jobs=-1)]: Done 1215 out of 1215 | elapsed: 82.1min finished\n"
     ]
    },
    {
     "data": {
      "text/plain": [
       "GridSearchCV(cv=5, error_score=nan,\n",
       "             estimator=XGBClassifier(base_score=None, booster=None,\n",
       "                                     colsample_bylevel=None,\n",
       "                                     colsample_bynode=None,\n",
       "                                     colsample_bytree=None, gamma=None,\n",
       "                                     gpu_id=None, importance_type='gain',\n",
       "                                     interaction_constraints=None,\n",
       "                                     learning_rate=None, max_delta_step=None,\n",
       "                                     max_depth=None, min_child_weight=None,\n",
       "                                     missing=nan, monotone_constraints=None,\n",
       "                                     n_estim...\n",
       "                                     reg_lambda=None, scale_pos_weight=None,\n",
       "                                     subsample=None, tree_method=None,\n",
       "                                     validate_parameters=None, verbosity=None),\n",
       "             iid='deprecated', n_jobs=-1,\n",
       "             param_grid={'eta': [0.001, 0.01, 0.1], 'gamma': [0.1, 0.4, 0.8],\n",
       "                         'max_depth': [10, 20, 30],\n",
       "                         'min_child_weight': [2, 5, 11],\n",
       "                         'subsample': [0.1, 0.4, 0.8]},\n",
       "             pre_dispatch='2*n_jobs', refit=True, return_train_score=False,\n",
       "             scoring='roc_auc', verbose=1)"
      ]
     },
     "execution_count": 13,
     "metadata": {
      "tags": []
     },
     "output_type": "execute_result"
    }
   ],
   "source": [
    "print(\"Iterasi: \",iteration)\n",
    "print(\"All AUC: \",auc[0],'\\n')\n",
    "print(np.mean(auc[0]))\n",
    "print(\"All std: \",std[0],'\\n')\n",
    "print(\"Best Hyperparameter: \",best_param,'\\n')\n",
    "print(\"Best index/iterasi : \",best_index)\n",
    "print(\"Best AUC :\",auc[0][best_index],\"( std:\",std[0][best_index],\")\",'\\n')"
   ]
  },
  {
   "cell_type": "code",
   "execution_count": null,
   "metadata": {
    "ExecuteTime": {
     "end_time": "2020-10-29T07:10:23.148205Z",
     "start_time": "2020-10-29T07:10:23.127128Z"
    },
    "id": "Gni0_TTJ9Z-Q",
    "outputId": "ff9a1f0f-1570-43bc-f239-7e31461c437f"
   },
   "outputs": [
    {
     "name": "stdout",
     "output_type": "stream",
     "text": [
      "Best params: \n",
      "{'eta': 0.01, 'gamma': 0.4, 'max_depth': 10, 'min_child_weight': 11, 'subsample': 0.1}\n",
      "AUC: \n",
      "0.7382674790807361\n",
      "std: \n",
      "0.12269998614087489\n"
     ]
    }
   ],
   "source": [
    "index=grid_search_clf.best_index_\n",
    "print(\"Best params: \")\n",
    "print(grid_search_clf.best_params_)\n",
    "print(\"AUC: \")\n",
    "print(grid_search_clf.cv_results_['mean_test_score'][index])\n",
    "print(\"std: \")\n",
    "print(grid_search_clf.cv_results_['std_test_score'][index])"
   ]
  },
  {
   "cell_type": "markdown",
   "metadata": {},
   "source": [
    "### Others"
   ]
  },
  {
   "cell_type": "code",
   "execution_count": 4,
   "metadata": {
    "ExecuteTime": {
     "end_time": "2020-11-04T02:26:47.385483Z",
     "start_time": "2020-11-04T02:26:32.590197Z"
    },
    "colab": {
     "base_uri": "https://localhost:8080/"
    },
    "executionInfo": {
     "elapsed": 43655,
     "status": "ok",
     "timestamp": 1604456326535,
     "user": {
      "displayName": "Wanda Yusuf",
      "photoUrl": "https://lh3.googleusercontent.com/a-/AOh14GgJrx0xL5wpWKGiNdG3UyN7_fpYQ8YgemNQ3G6Psg=s64",
      "userId": "07463165475135105621"
     },
     "user_tz": -420
    },
    "id": "IfFGQaz29dr7",
    "outputId": "0db2200c-952a-4d78-bd62-7dd913112bfc"
   },
   "outputs": [
    {
     "name": "stdout",
     "output_type": "stream",
     "text": [
      "AUC: 0.7383, std: 0.1227\n"
     ]
    }
   ],
   "source": [
    "model=XGBClassifier(learning_rate=0.01,gamma=0.4,max_depth=10,min_child_weight=11,subsample=0.1)\n",
    "skf=StratifiedKFold(n_splits=5)\n",
    "results=cross_val_score(model,X_bank,y_bank,cv=skf,scoring=\"roc_auc\")\n",
    "print(f\"AUC: {round(results.mean(),4)}, std: {round(results.std(),4)}\")"
   ]
  },
  {
   "cell_type": "code",
   "execution_count": null,
   "metadata": {},
   "outputs": [],
   "source": []
  }
 ],
 "metadata": {
  "colab": {
   "collapsed_sections": [],
   "name": "Experiment1_BankDataset_XGBoost_GS.ipynb",
   "provenance": [],
   "toc_visible": true
  },
  "kernelspec": {
   "display_name": "Python 3",
   "language": "python",
   "name": "python3"
  },
  "language_info": {
   "codemirror_mode": {
    "name": "ipython",
    "version": 3
   },
   "file_extension": ".py",
   "mimetype": "text/x-python",
   "name": "python",
   "nbconvert_exporter": "python",
   "pygments_lexer": "ipython3",
   "version": "3.8.3"
  },
  "toc": {
   "base_numbering": 1,
   "nav_menu": {},
   "number_sections": false,
   "sideBar": true,
   "skip_h1_title": false,
   "title_cell": "Table of Contents",
   "title_sidebar": "Contents",
   "toc_cell": false,
   "toc_position": {},
   "toc_section_display": true,
   "toc_window_display": true
  },
  "varInspector": {
   "cols": {
    "lenName": 16,
    "lenType": 16,
    "lenVar": 40
   },
   "kernels_config": {
    "python": {
     "delete_cmd_postfix": "",
     "delete_cmd_prefix": "del ",
     "library": "var_list.py",
     "varRefreshCmd": "print(var_dic_list())"
    },
    "r": {
     "delete_cmd_postfix": ") ",
     "delete_cmd_prefix": "rm(",
     "library": "var_list.r",
     "varRefreshCmd": "cat(var_dic_list()) "
    }
   },
   "types_to_exclude": [
    "module",
    "function",
    "builtin_function_or_method",
    "instance",
    "_Feature"
   ],
   "window_display": false
  }
 },
 "nbformat": 4,
 "nbformat_minor": 1
}
