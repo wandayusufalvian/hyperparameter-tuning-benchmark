{
 "cells": [
  {
   "cell_type": "markdown",
   "metadata": {
    "id": "49srM9hwVOJ-"
   },
   "source": [
    "# Experiment Objective :\n",
    "- XGBoost + Random Search"
   ]
  },
  {
   "cell_type": "markdown",
   "metadata": {
    "id": "6FopPde8VOKB"
   },
   "source": [
    "# Hasil dan Analisa :\n"
   ]
  },
  {
   "cell_type": "markdown",
   "metadata": {
    "id": "X-jupRRqcTKt"
   },
   "source": [
    "- Iterasi 100 dan 50 pada RS menghasilkan nilai AUC yang sama yaitu 0.695. Hanya berbeda sedikit dibandingkan menggunakan GS yaitu 0.738. Waktu komputasi berbeda cukup jauh, untuk GS diperlukan 82 menit dengan nilai AUC 0.738 sedangkan dengan RS diperlukan 22 menit dengan nilai AUC 0.695 <br> \n",
    "- Nilai RS tidak mencapai nilai GS karena nilai hyperparameter dengan AUC tertinggi pada GS tidak masuk ke dalam hyperparameter search space RS"
   ]
  },
  {
   "cell_type": "markdown",
   "metadata": {
    "id": "OwBk0kJ8VOKC"
   },
   "source": [
    "# Code:"
   ]
  },
  {
   "cell_type": "markdown",
   "metadata": {
    "id": "HhfusXYbb4rQ"
   },
   "source": [
    "## Library and Input Data"
   ]
  },
  {
   "cell_type": "code",
   "execution_count": 1,
   "metadata": {
    "ExecuteTime": {
     "end_time": "2020-11-06T00:46:52.344713Z",
     "start_time": "2020-11-06T00:46:51.196853Z"
    },
    "executionInfo": {
     "elapsed": 1653,
     "status": "ok",
     "timestamp": 1604614855370,
     "user": {
      "displayName": "Wanda Yusuf",
      "photoUrl": "https://lh3.googleusercontent.com/a-/AOh14GgJrx0xL5wpWKGiNdG3UyN7_fpYQ8YgemNQ3G6Psg=s64",
      "userId": "07463165475135105621"
     },
     "user_tz": -420
    },
    "id": "7F8_J07DVOKE"
   },
   "outputs": [],
   "source": [
    "import time\n",
    "import pandas as pd\n",
    "import numpy as np \n",
    "from sklearn.model_selection import RandomizedSearchCV\n",
    "from sklearn.model_selection import StratifiedKFold\n",
    "from sklearn.model_selection import cross_val_score\n",
    "from xgboost import XGBClassifier "
   ]
  },
  {
   "cell_type": "code",
   "execution_count": 6,
   "metadata": {
    "colab": {
     "base_uri": "https://localhost:8080/"
    },
    "executionInfo": {
     "elapsed": 21515,
     "status": "ok",
     "timestamp": 1604614894696,
     "user": {
      "displayName": "Wanda Yusuf",
      "photoUrl": "https://lh3.googleusercontent.com/a-/AOh14GgJrx0xL5wpWKGiNdG3UyN7_fpYQ8YgemNQ3G6Psg=s64",
      "userId": "07463165475135105621"
     },
     "user_tz": -420
    },
    "id": "ij1AF17aV-P8",
    "outputId": "335ea968-4b49-4905-c378-5a43d7083db5"
   },
   "outputs": [
    {
     "name": "stdout",
     "output_type": "stream",
     "text": [
      "Mounted at /content/drive\n"
     ]
    }
   ],
   "source": [
    "from google.colab import drive\n",
    "drive.mount('/content/drive')"
   ]
  },
  {
   "cell_type": "code",
   "execution_count": 7,
   "metadata": {
    "executionInfo": {
     "elapsed": 2982,
     "status": "ok",
     "timestamp": 1604614901894,
     "user": {
      "displayName": "Wanda Yusuf",
      "photoUrl": "https://lh3.googleusercontent.com/a-/AOh14GgJrx0xL5wpWKGiNdG3UyN7_fpYQ8YgemNQ3G6Psg=s64",
      "userId": "07463165475135105621"
     },
     "user_tz": -420
    },
    "id": "B13DqRatWvWF"
   },
   "outputs": [],
   "source": [
    "X_bank=pd.read_csv('/content/drive/My Drive/Thesis_WandaYusufAlvian_Mkom/Code/dataset/X_bank_preprocessed.csv').to_numpy()\n",
    "y_bank=pd.read_csv('/content/drive/My Drive/Thesis_WandaYusufAlvian_Mkom/Code/dataset/y_bank_preprocessed.csv').to_numpy().ravel()"
   ]
  },
  {
   "cell_type": "markdown",
   "metadata": {
    "id": "9MtvOME1cN2Z"
   },
   "source": [
    "## Model and Parameter"
   ]
  },
  {
   "cell_type": "code",
   "execution_count": 4,
   "metadata": {
    "ExecuteTime": {
     "end_time": "2020-10-30T16:14:30.001206Z",
     "start_time": "2020-10-30T16:14:29.986229Z"
    },
    "executionInfo": {
     "elapsed": 901,
     "status": "ok",
     "timestamp": 1604614864898,
     "user": {
      "displayName": "Wanda Yusuf",
      "photoUrl": "https://lh3.googleusercontent.com/a-/AOh14GgJrx0xL5wpWKGiNdG3UyN7_fpYQ8YgemNQ3G6Psg=s64",
      "userId": "07463165475135105621"
     },
     "user_tz": -420
    },
    "id": "fanOhwF0VOKT"
   },
   "outputs": [],
   "source": [
    "model=XGBClassifier()"
   ]
  },
  {
   "cell_type": "code",
   "execution_count": null,
   "metadata": {
    "ExecuteTime": {
     "end_time": "2020-10-30T16:24:22.717371Z",
     "start_time": "2020-10-30T16:24:22.698368Z"
    },
    "id": "mQ-id9HBVOKY"
   },
   "outputs": [],
   "source": [
    "params={\n",
    "    'eta': list(np.linspace(0.001,1,10)), # learning rate \n",
    "    'subsample': list(np.linspace(0,1,10)),\n",
    "    'max_depth': [int(i) for i in list(np.linspace(5,50,10))],\n",
    "    'gamma': list(np.linspace(0,1,10)),\n",
    "    'min_child_weight': [int(i) for i in list(np.linspace(0,15,15))]\n",
    "}"
   ]
  },
  {
   "cell_type": "markdown",
   "metadata": {
    "id": "sVWWsLghctQq"
   },
   "source": [
    "## Default "
   ]
  },
  {
   "cell_type": "code",
   "execution_count": 17,
   "metadata": {
    "colab": {
     "base_uri": "https://localhost:8080/"
    },
    "executionInfo": {
     "elapsed": 24146,
     "status": "ok",
     "timestamp": 1604614679281,
     "user": {
      "displayName": "Wanda Yusuf",
      "photoUrl": "https://lh3.googleusercontent.com/a-/AOh14GgJrx0xL5wpWKGiNdG3UyN7_fpYQ8YgemNQ3G6Psg=s64",
      "userId": "07463165475135105621"
     },
     "user_tz": -420
    },
    "id": "qmSj5OVoctVr",
    "outputId": "b2272655-d112-450b-98d9-aa306eec6bed"
   },
   "outputs": [
    {
     "name": "stdout",
     "output_type": "stream",
     "text": [
      "AUC: 0.6089, std: 0.0978\n",
      "waktu:  23.271926164627075\n"
     ]
    }
   ],
   "source": [
    "start_time = time.time()\n",
    "skf=StratifiedKFold(n_splits=5)\n",
    "results=cross_val_score(model,X_bank,y_bank,cv=skf,scoring=\"roc_auc\")\n",
    "end_time = time.time()\n",
    "    \n",
    "print(f\"AUC: {round(results.mean(),4)}, std: {round(results.std(),4)}\")\n",
    "print(\"waktu: \",end_time-start_time)"
   ]
  },
  {
   "cell_type": "code",
   "execution_count": 8,
   "metadata": {
    "colab": {
     "base_uri": "https://localhost:8080/"
    },
    "executionInfo": {
     "elapsed": 19946,
     "status": "ok",
     "timestamp": 1604614926259,
     "user": {
      "displayName": "Wanda Yusuf",
      "photoUrl": "https://lh3.googleusercontent.com/a-/AOh14GgJrx0xL5wpWKGiNdG3UyN7_fpYQ8YgemNQ3G6Psg=s64",
      "userId": "07463165475135105621"
     },
     "user_tz": -420
    },
    "id": "nPQBRTjwfrSq",
    "outputId": "8980b37a-7e83-4f8f-975f-b1b285a4b307"
   },
   "outputs": [
    {
     "name": "stdout",
     "output_type": "stream",
     "text": [
      "AUC: 0.6089, std: 0.0978\n",
      "waktu:  19.015376567840576\n"
     ]
    }
   ],
   "source": [
    "start_time = time.time()\n",
    "skf=StratifiedKFold(n_splits=5)\n",
    "results=cross_val_score(model,X_bank,y_bank,cv=skf,scoring=\"roc_auc\")\n",
    "end_time = time.time()\n",
    "    \n",
    "print(f\"AUC: {round(results.mean(),4)}, std: {round(results.std(),4)}\")\n",
    "print(\"waktu: \",end_time-start_time)"
   ]
  },
  {
   "cell_type": "code",
   "execution_count": 9,
   "metadata": {
    "colab": {
     "base_uri": "https://localhost:8080/"
    },
    "executionInfo": {
     "elapsed": 27613,
     "status": "ok",
     "timestamp": 1604615463057,
     "user": {
      "displayName": "Wanda Yusuf",
      "photoUrl": "https://lh3.googleusercontent.com/a-/AOh14GgJrx0xL5wpWKGiNdG3UyN7_fpYQ8YgemNQ3G6Psg=s64",
      "userId": "07463165475135105621"
     },
     "user_tz": -420
    },
    "id": "OQvZNrsbiA16",
    "outputId": "6421e3a2-66a7-46b2-bbf4-e5b8a7b458a8"
   },
   "outputs": [
    {
     "name": "stdout",
     "output_type": "stream",
     "text": [
      "AUC: 0.6434, std: 0.0948\n",
      "waktu:  26.70380449295044\n"
     ]
    }
   ],
   "source": [
    "model=XGBClassifier(subsample=0.5)\n",
    "start_time = time.time()\n",
    "skf=StratifiedKFold(n_splits=5)\n",
    "results=cross_val_score(model,X_bank,y_bank,cv=skf,scoring=\"roc_auc\")\n",
    "end_time = time.time()\n",
    "    \n",
    "print(f\"AUC: {round(results.mean(),4)}, std: {round(results.std(),4)}\")\n",
    "print(\"waktu: \",end_time-start_time)"
   ]
  },
  {
   "cell_type": "markdown",
   "metadata": {
    "id": "rmEcQIJzVOKb"
   },
   "source": [
    "## Random Search"
   ]
  },
  {
   "cell_type": "code",
   "execution_count": null,
   "metadata": {
    "ExecuteTime": {
     "end_time": "2020-10-30T16:24:24.191647Z",
     "start_time": "2020-10-30T16:24:24.184626Z"
    },
    "id": "LJqUK8hZVOKc"
   },
   "outputs": [],
   "source": [
    "rnd_srch_clf=RandomizedSearchCV(\n",
    "                   model,\n",
    "                   params, \n",
    "                   n_iter=50, \n",
    "                   scoring='roc_auc', \n",
    "                   n_jobs=-1, cv=5, \n",
    "                   random_state=1)"
   ]
  },
  {
   "cell_type": "code",
   "execution_count": null,
   "metadata": {
    "ExecuteTime": {
     "end_time": "2020-10-30T16:47:04.481688Z",
     "start_time": "2020-10-30T16:24:30.785404Z"
    },
    "id": "eh9PEKUiVOKf",
    "outputId": "21a59bd1-c3a6-41a8-d8fc-be8c0ac937c4"
   },
   "outputs": [
    {
     "data": {
      "text/plain": [
       "RandomizedSearchCV(cv=5, error_score=nan,\n",
       "                   estimator=XGBClassifier(base_score=None, booster=None,\n",
       "                                           colsample_bylevel=None,\n",
       "                                           colsample_bynode=None,\n",
       "                                           colsample_bytree=None, gamma=None,\n",
       "                                           gpu_id=None, importance_type='gain',\n",
       "                                           interaction_constraints=None,\n",
       "                                           learning_rate=None,\n",
       "                                           max_delta_step=None, max_depth=None,\n",
       "                                           min_child_weight=None, missing=nan,\n",
       "                                           monotone_constraints=None,\n",
       "                                           n...\n",
       "                                        'max_depth': [5, 10, 15, 20, 25, 30, 35,\n",
       "                                                      40, 45, 50],\n",
       "                                        'min_child_weight': [0, 1, 2, 3, 4, 5,\n",
       "                                                             6, 7, 8, 9, 10, 11,\n",
       "                                                             12, 13, 15],\n",
       "                                        'subsample': [0.0, 0.1111111111111111,\n",
       "                                                      0.2222222222222222,\n",
       "                                                      0.3333333333333333,\n",
       "                                                      0.4444444444444444,\n",
       "                                                      0.5555555555555556,\n",
       "                                                      0.6666666666666666,\n",
       "                                                      0.7777777777777777,\n",
       "                                                      0.8888888888888888,\n",
       "                                                      1.0]},\n",
       "                   pre_dispatch='2*n_jobs', random_state=1, refit=True,\n",
       "                   return_train_score=False, scoring='roc_auc', verbose=0)"
      ]
     },
     "execution_count": 31,
     "metadata": {
      "tags": []
     },
     "output_type": "execute_result"
    }
   ],
   "source": [
    "rnd_srch_clf.fit(X_bank,y_bank)"
   ]
  },
  {
   "cell_type": "code",
   "execution_count": null,
   "metadata": {
    "ExecuteTime": {
     "end_time": "2020-10-30T22:59:28.895562Z",
     "start_time": "2020-10-30T22:59:28.880579Z"
    },
    "id": "MtHn-SDRVOKk",
    "outputId": "f035a37b-1a0f-40fa-a6d7-a35d220833d4"
   },
   "outputs": [
    {
     "name": "stdout",
     "output_type": "stream",
     "text": [
      "Best params: \n",
      "{'subsample': 0.2222222222222222, 'min_child_weight': 10, 'max_depth': 20, 'gamma': 0.6666666666666666, 'eta': 0.001}\n",
      "AUC: \n",
      "0.6957506053674708\n",
      "std: \n",
      "0.15371171277770676\n"
     ]
    }
   ],
   "source": [
    "index=rnd_srch_clf.best_index_\n",
    "print(\"Best params: \")\n",
    "print(rnd_srch_clf.best_params_)\n",
    "print(\"AUC: \")\n",
    "print(rnd_srch_clf.cv_results_['mean_test_score'][index])\n",
    "print(\"std: \")\n",
    "print(rnd_srch_clf.cv_results_['std_test_score'][index])"
   ]
  },
  {
   "cell_type": "markdown",
   "metadata": {
    "id": "JY6m2njxVOKm"
   },
   "source": [
    "### n_iter = 100"
   ]
  },
  {
   "cell_type": "code",
   "execution_count": null,
   "metadata": {
    "ExecuteTime": {
     "end_time": "2020-10-30T23:06:22.056287Z",
     "start_time": "2020-10-30T23:06:22.052285Z"
    },
    "id": "5wBb3R8gVOKn"
   },
   "outputs": [],
   "source": [
    "rnd_srch_clf_2=RandomizedSearchCV(\n",
    "                   model,\n",
    "                   params, \n",
    "                   n_iter=100, \n",
    "                   scoring='roc_auc', \n",
    "                   n_jobs=-1, cv=5, \n",
    "                   random_state=1)"
   ]
  },
  {
   "cell_type": "code",
   "execution_count": null,
   "metadata": {
    "ExecuteTime": {
     "end_time": "2020-10-30T23:42:31.120722Z",
     "start_time": "2020-10-30T23:06:25.236391Z"
    },
    "id": "ZF3YFALUVOKp",
    "outputId": "5c2b7d9a-cf8b-47b1-a492-18162808b2cc"
   },
   "outputs": [
    {
     "data": {
      "text/plain": [
       "RandomizedSearchCV(cv=5, error_score=nan,\n",
       "                   estimator=XGBClassifier(base_score=None, booster=None,\n",
       "                                           colsample_bylevel=None,\n",
       "                                           colsample_bynode=None,\n",
       "                                           colsample_bytree=None, gamma=None,\n",
       "                                           gpu_id=None, importance_type='gain',\n",
       "                                           interaction_constraints=None,\n",
       "                                           learning_rate=None,\n",
       "                                           max_delta_step=None, max_depth=None,\n",
       "                                           min_child_weight=None, missing=nan,\n",
       "                                           monotone_constraints=None,\n",
       "                                           n...\n",
       "                                        'max_depth': [5, 10, 15, 20, 25, 30, 35,\n",
       "                                                      40, 45, 50],\n",
       "                                        'min_child_weight': [0, 1, 2, 3, 4, 5,\n",
       "                                                             6, 7, 8, 9, 10, 11,\n",
       "                                                             12, 13, 15],\n",
       "                                        'subsample': [0.0, 0.1111111111111111,\n",
       "                                                      0.2222222222222222,\n",
       "                                                      0.3333333333333333,\n",
       "                                                      0.4444444444444444,\n",
       "                                                      0.5555555555555556,\n",
       "                                                      0.6666666666666666,\n",
       "                                                      0.7777777777777777,\n",
       "                                                      0.8888888888888888,\n",
       "                                                      1.0]},\n",
       "                   pre_dispatch='2*n_jobs', random_state=1, refit=True,\n",
       "                   return_train_score=False, scoring='roc_auc', verbose=0)"
      ]
     },
     "execution_count": 36,
     "metadata": {
      "tags": []
     },
     "output_type": "execute_result"
    }
   ],
   "source": [
    "rnd_srch_clf_2.fit(X_bank,y_bank)"
   ]
  },
  {
   "cell_type": "code",
   "execution_count": null,
   "metadata": {
    "ExecuteTime": {
     "end_time": "2020-10-30T23:48:04.254045Z",
     "start_time": "2020-10-30T23:48:04.244049Z"
    },
    "id": "mIxv9n3JVOKs",
    "outputId": "00fa2265-9b5d-421b-abb5-7b68f156cf6a"
   },
   "outputs": [
    {
     "name": "stdout",
     "output_type": "stream",
     "text": [
      "Best params: \n",
      "{'subsample': 0.2222222222222222, 'min_child_weight': 10, 'max_depth': 20, 'gamma': 0.6666666666666666, 'eta': 0.001}\n",
      "AUC: \n",
      "0.6957506053674708\n",
      "std: \n",
      "0.15371171277770676\n"
     ]
    }
   ],
   "source": [
    "index=rnd_srch_clf_2.best_index_\n",
    "print(\"Best params: \")\n",
    "print(rnd_srch_clf_2.best_params_)\n",
    "print(\"AUC: \")\n",
    "print(rnd_srch_clf_2.cv_results_['mean_test_score'][index])\n",
    "print(\"std: \")\n",
    "print(rnd_srch_clf_2.cv_results_['std_test_score'][index])"
   ]
  },
  {
   "cell_type": "markdown",
   "metadata": {
    "id": "o2UEiYPRVOKv"
   },
   "source": [
    "### Hyperparameter Search Space"
   ]
  },
  {
   "cell_type": "code",
   "execution_count": null,
   "metadata": {
    "ExecuteTime": {
     "end_time": "2020-11-02T00:54:53.086247Z",
     "start_time": "2020-11-02T00:54:53.067259Z"
    },
    "id": "nTiGYOVyVOKv",
    "outputId": "f82bde98-ca81-42ad-a936-7e5ff15c10a3"
   },
   "outputs": [
    {
     "name": "stdout",
     "output_type": "stream",
     "text": [
      "eta :  [0.001, 0.112, 0.223, 0.334, 0.445, 0.556, 0.667, 0.778, 0.889, 1.0]\n",
      "subsample :  [0.0, 0.1111111111111111, 0.2222222222222222, 0.3333333333333333, 0.4444444444444444, 0.5555555555555556, 0.6666666666666666, 0.7777777777777777, 0.8888888888888888, 1.0]\n",
      "max_depth :  [5, 10, 15, 20, 25, 30, 35, 40, 45, 50]\n",
      "gamma :  [0.0, 0.1111111111111111, 0.2222222222222222, 0.3333333333333333, 0.4444444444444444, 0.5555555555555556, 0.6666666666666666, 0.7777777777777777, 0.8888888888888888, 1.0]\n",
      "min_child_weight :  [0, 1, 2, 3, 4, 5, 6, 7, 8, 9, 10, 11, 12, 13, 15]\n"
     ]
    }
   ],
   "source": [
    "print('eta : ',list(np.linspace(0.001,1,10))) # learning rate \n",
    "print('subsample : ',list(np.linspace(0,1,10)))\n",
    "print('max_depth : ',[int(i) for i in list(np.linspace(5,50,10))])\n",
    "print('gamma : ',list(np.linspace(0,1,10)))\n",
    "print('min_child_weight : ', [int(i) for i in list(np.linspace(0,15,15))])"
   ]
  },
  {
   "cell_type": "code",
   "execution_count": null,
   "metadata": {
    "id": "WQalBJD_VOKy"
   },
   "outputs": [],
   "source": []
  }
 ],
 "metadata": {
  "accelerator": "GPU",
  "colab": {
   "collapsed_sections": [
    "6FopPde8VOKB",
    "rmEcQIJzVOKb"
   ],
   "name": "E2_Bank_XGBoost_RS_Colab.ipynb",
   "provenance": [],
   "toc_visible": true
  },
  "kernelspec": {
   "display_name": "Python 3",
   "language": "python",
   "name": "python3"
  },
  "language_info": {
   "codemirror_mode": {
    "name": "ipython",
    "version": 3
   },
   "file_extension": ".py",
   "mimetype": "text/x-python",
   "name": "python",
   "nbconvert_exporter": "python",
   "pygments_lexer": "ipython3",
   "version": "3.7.4"
  },
  "toc": {
   "base_numbering": 1,
   "nav_menu": {},
   "number_sections": false,
   "sideBar": true,
   "skip_h1_title": false,
   "title_cell": "Table of Contents",
   "title_sidebar": "Contents",
   "toc_cell": false,
   "toc_position": {},
   "toc_section_display": true,
   "toc_window_display": false
  },
  "varInspector": {
   "cols": {
    "lenName": 16,
    "lenType": 16,
    "lenVar": 40
   },
   "kernels_config": {
    "python": {
     "delete_cmd_postfix": "",
     "delete_cmd_prefix": "del ",
     "library": "var_list.py",
     "varRefreshCmd": "print(var_dic_list())"
    },
    "r": {
     "delete_cmd_postfix": ") ",
     "delete_cmd_prefix": "rm(",
     "library": "var_list.r",
     "varRefreshCmd": "cat(var_dic_list()) "
    }
   },
   "types_to_exclude": [
    "module",
    "function",
    "builtin_function_or_method",
    "instance",
    "_Feature"
   ],
   "window_display": false
  }
 },
 "nbformat": 4,
 "nbformat_minor": 1
}
