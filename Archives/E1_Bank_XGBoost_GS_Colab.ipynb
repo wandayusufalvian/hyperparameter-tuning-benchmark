{
 "cells": [
  {
   "cell_type": "markdown",
   "metadata": {
    "id": "63UsNVEm9Z91"
   },
   "source": [
    "# Experiment Objective : \n",
    "- XGBoost + Grid Search\n",
    "\n",
    "# Hasil dan Analisa : \n",
    "- XGBoost + GS lebih baik dibandingkan XGBoost menggunakan default hyperparameter\n",
    "- Nilai AUC dari XGBoost + GS -> 0.738 <br>\n",
    "- Nilai AUC dari XGBoost + default hyperparameter -> 0.483\n",
    "- Kecepatan run XGBoost lokal windows vs linux gk jauh beda"
   ]
  },
  {
   "cell_type": "markdown",
   "metadata": {
    "id": "v7t-TlRr9Z92"
   },
   "source": [
    "# Code :"
   ]
  },
  {
   "cell_type": "code",
   "execution_count": 8,
   "metadata": {
    "ExecuteTime": {
     "end_time": "2020-11-06T00:47:46.576337Z",
     "start_time": "2020-11-06T00:47:46.571795Z"
    },
    "executionInfo": {
     "elapsed": 2341,
     "status": "ok",
     "timestamp": 1604455720643,
     "user": {
      "displayName": "Wanda Yusuf",
      "photoUrl": "https://lh3.googleusercontent.com/a-/AOh14GgJrx0xL5wpWKGiNdG3UyN7_fpYQ8YgemNQ3G6Psg=s64",
      "userId": "07463165475135105621"
     },
     "user_tz": -420
    },
    "id": "RHPuaiAg9Z93"
   },
   "outputs": [],
   "source": [
    "import pandas as pd\n",
    "import time\n",
    "import matplotlib.pyplot as plt\n",
    "from sklearn.model_selection import GridSearchCV\n",
    "from sklearn.model_selection import StratifiedKFold\n",
    "from sklearn.model_selection import cross_val_score\n",
    "from xgboost import XGBClassifier "
   ]
  },
  {
   "cell_type": "code",
   "execution_count": 4,
   "metadata": {
    "ExecuteTime": {
     "end_time": "2020-11-06T00:44:52.130156Z",
     "start_time": "2020-11-06T00:44:51.615093Z"
    },
    "id": "4lXy3oZ_9Z97"
   },
   "outputs": [],
   "source": [
    "X_bank=pd.read_csv('dataset/X_bank_preprocessed.csv').to_numpy()\n",
    "y_bank=pd.read_csv('dataset/y_bank_preprocessed.csv').to_numpy().ravel()"
   ]
  },
  {
   "cell_type": "markdown",
   "metadata": {
    "id": "wuufpZad9Z9-"
   },
   "source": [
    "### XGBoost default hyperparameter"
   ]
  },
  {
   "cell_type": "code",
   "execution_count": 5,
   "metadata": {
    "ExecuteTime": {
     "end_time": "2020-11-06T00:44:53.747255Z",
     "start_time": "2020-11-06T00:44:53.742853Z"
    },
    "id": "OAgT4LhS9Z9-"
   },
   "outputs": [],
   "source": [
    "model=XGBClassifier()"
   ]
  },
  {
   "cell_type": "code",
   "execution_count": null,
   "metadata": {
    "ExecuteTime": {
     "end_time": "2020-10-29T03:01:19.874768Z",
     "start_time": "2020-10-29T03:01:08.853607Z"
    },
    "id": "JF051i789Z-B",
    "outputId": "04f55b16-17ce-407f-be10-396e4970e03a"
   },
   "outputs": [
    {
     "name": "stdout",
     "output_type": "stream",
     "text": [
      "AUC: 0.4837, std: 0.1006\n"
     ]
    }
   ],
   "source": [
    "skf=StratifiedKFold(n_splits=5)\n",
    "results=cross_val_score(model,X_bank,y_bank,cv=skf,scoring=\"roc_auc\")\n",
    "print(f\"AUC: {round(results.mean(),4)}, std: {round(results.std(),4)}\")"
   ]
  },
  {
   "cell_type": "code",
   "execution_count": 10,
   "metadata": {
    "ExecuteTime": {
     "end_time": "2020-11-06T00:49:33.554163Z",
     "start_time": "2020-11-06T00:49:23.917548Z"
    }
   },
   "outputs": [
    {
     "name": "stdout",
     "output_type": "stream",
     "text": [
      "AUC: 0.4837, std: 0.1006\n"
     ]
    }
   ],
   "source": [
    "# linux\n",
    "skf=StratifiedKFold(n_splits=5)\n",
    "results=cross_val_score(model,X_bank,y_bank,cv=skf,scoring=\"roc_auc\")\n",
    "print(f\"AUC: {round(results.mean(),4)}, std: {round(results.std(),4)}\")"
   ]
  },
  {
   "cell_type": "code",
   "execution_count": 9,
   "metadata": {
    "ExecuteTime": {
     "end_time": "2020-11-06T00:48:13.401731Z",
     "start_time": "2020-11-06T00:48:03.735507Z"
    }
   },
   "outputs": [
    {
     "name": "stdout",
     "output_type": "stream",
     "text": [
      "AUC: 0.4837, std: 0.1006\n",
      "waktu:  9.661011219024658\n"
     ]
    }
   ],
   "source": [
    "# time library vs time dari extension\n",
    "start_time = time.time()\n",
    "skf=StratifiedKFold(n_splits=5)\n",
    "results=cross_val_score(model,X_bank,y_bank,cv=skf,scoring=\"roc_auc\")\n",
    "end_time = time.time()\n",
    "    \n",
    "print(f\"AUC: {round(results.mean(),4)}, std: {round(results.std(),4)}\")\n",
    "print(\"waktu: \",end_time-start_time)"
   ]
  },
  {
   "cell_type": "markdown",
   "metadata": {
    "id": "vKYFTo4C9Z-E"
   },
   "source": [
    "### XGBoost + GridSearch"
   ]
  },
  {
   "cell_type": "code",
   "execution_count": null,
   "metadata": {
    "ExecuteTime": {
     "end_time": "2020-10-29T03:05:48.134588Z",
     "start_time": "2020-10-29T03:05:48.124590Z"
    },
    "id": "o0jJJVmP9Z-F"
   },
   "outputs": [],
   "source": [
    "params={\n",
    "    'eta': [0.001,0.01,0.1], # learning rate \n",
    "    'subsample': [0.1,0.4,0.8],\n",
    "    'max_depth': [10,20,30],\n",
    "    'gamma':[0.1,0.4,0.8],\n",
    "    'min_child_weight':[2,5,11]\n",
    "}"
   ]
  },
  {
   "cell_type": "code",
   "execution_count": null,
   "metadata": {
    "ExecuteTime": {
     "end_time": "2020-10-29T03:06:16.088588Z",
     "start_time": "2020-10-29T03:06:16.075611Z"
    },
    "id": "NDNxbyA29Z-I"
   },
   "outputs": [],
   "source": [
    "grid_search_clf = GridSearchCV(\n",
    "    estimator=model,\n",
    "    param_grid=params,\n",
    "    scoring = 'roc_auc',\n",
    "    n_jobs = -1,\n",
    "    cv = 5,\n",
    "    verbose= 1\n",
    ")"
   ]
  },
  {
   "cell_type": "markdown",
   "metadata": {
    "id": "NfsIoVXi9Z-L"
   },
   "source": [
    "Bersumber dari https://scikit-learn.org/stable/modules/generated/sklearn.model_selection.GridSearchCV.html, default metode cv yang digunakan ketika input value berupa integer adalah StratifiedKFold "
   ]
  },
  {
   "cell_type": "code",
   "execution_count": null,
   "metadata": {
    "ExecuteTime": {
     "end_time": "2020-10-29T04:28:46.380381Z",
     "start_time": "2020-10-29T03:06:38.916153Z"
    },
    "id": "QV_jL5qe9Z-L",
    "outputId": "84c4ddc8-bbfd-4556-adf8-9575927b8c19"
   },
   "outputs": [
    {
     "name": "stdout",
     "output_type": "stream",
     "text": [
      "Fitting 5 folds for each of 243 candidates, totalling 1215 fits\n"
     ]
    },
    {
     "name": "stderr",
     "output_type": "stream",
     "text": [
      "[Parallel(n_jobs=-1)]: Using backend LokyBackend with 8 concurrent workers.\n",
      "[Parallel(n_jobs=-1)]: Done  34 tasks      | elapsed:  1.7min\n",
      "[Parallel(n_jobs=-1)]: Done 184 tasks      | elapsed: 12.0min\n",
      "[Parallel(n_jobs=-1)]: Done 434 tasks      | elapsed: 30.0min\n",
      "[Parallel(n_jobs=-1)]: Done 784 tasks      | elapsed: 53.4min\n",
      "[Parallel(n_jobs=-1)]: Done 1215 out of 1215 | elapsed: 82.1min finished\n"
     ]
    },
    {
     "data": {
      "text/plain": [
       "GridSearchCV(cv=5, error_score=nan,\n",
       "             estimator=XGBClassifier(base_score=None, booster=None,\n",
       "                                     colsample_bylevel=None,\n",
       "                                     colsample_bynode=None,\n",
       "                                     colsample_bytree=None, gamma=None,\n",
       "                                     gpu_id=None, importance_type='gain',\n",
       "                                     interaction_constraints=None,\n",
       "                                     learning_rate=None, max_delta_step=None,\n",
       "                                     max_depth=None, min_child_weight=None,\n",
       "                                     missing=nan, monotone_constraints=None,\n",
       "                                     n_estim...\n",
       "                                     reg_lambda=None, scale_pos_weight=None,\n",
       "                                     subsample=None, tree_method=None,\n",
       "                                     validate_parameters=None, verbosity=None),\n",
       "             iid='deprecated', n_jobs=-1,\n",
       "             param_grid={'eta': [0.001, 0.01, 0.1], 'gamma': [0.1, 0.4, 0.8],\n",
       "                         'max_depth': [10, 20, 30],\n",
       "                         'min_child_weight': [2, 5, 11],\n",
       "                         'subsample': [0.1, 0.4, 0.8]},\n",
       "             pre_dispatch='2*n_jobs', refit=True, return_train_score=False,\n",
       "             scoring='roc_auc', verbose=1)"
      ]
     },
     "execution_count": 13,
     "metadata": {
      "tags": []
     },
     "output_type": "execute_result"
    }
   ],
   "source": [
    "grid_search_clf.fit(X_bank,y_bank)"
   ]
  },
  {
   "cell_type": "code",
   "execution_count": null,
   "metadata": {
    "ExecuteTime": {
     "end_time": "2020-10-29T07:10:23.148205Z",
     "start_time": "2020-10-29T07:10:23.127128Z"
    },
    "id": "Gni0_TTJ9Z-Q",
    "outputId": "ff9a1f0f-1570-43bc-f239-7e31461c437f"
   },
   "outputs": [
    {
     "name": "stdout",
     "output_type": "stream",
     "text": [
      "Best params: \n",
      "{'eta': 0.01, 'gamma': 0.4, 'max_depth': 10, 'min_child_weight': 11, 'subsample': 0.1}\n",
      "AUC: \n",
      "0.7382674790807361\n",
      "std: \n",
      "0.12269998614087489\n"
     ]
    }
   ],
   "source": [
    "index=grid_search_clf.best_index_\n",
    "print(\"Best params: \")\n",
    "print(grid_search_clf.best_params_)\n",
    "print(\"AUC: \")\n",
    "print(grid_search_clf.cv_results_['mean_test_score'][index])\n",
    "print(\"std: \")\n",
    "print(grid_search_clf.cv_results_['std_test_score'][index])"
   ]
  },
  {
   "cell_type": "code",
   "execution_count": 4,
   "metadata": {
    "ExecuteTime": {
     "end_time": "2020-11-04T02:26:47.385483Z",
     "start_time": "2020-11-04T02:26:32.590197Z"
    },
    "colab": {
     "base_uri": "https://localhost:8080/"
    },
    "executionInfo": {
     "elapsed": 43655,
     "status": "ok",
     "timestamp": 1604456326535,
     "user": {
      "displayName": "Wanda Yusuf",
      "photoUrl": "https://lh3.googleusercontent.com/a-/AOh14GgJrx0xL5wpWKGiNdG3UyN7_fpYQ8YgemNQ3G6Psg=s64",
      "userId": "07463165475135105621"
     },
     "user_tz": -420
    },
    "id": "IfFGQaz29dr7",
    "outputId": "0db2200c-952a-4d78-bd62-7dd913112bfc"
   },
   "outputs": [
    {
     "name": "stdout",
     "output_type": "stream",
     "text": [
      "AUC: 0.7383, std: 0.1227\n"
     ]
    }
   ],
   "source": [
    "model=XGBClassifier(learning_rate=0.01,gamma=0.4,max_depth=10,min_child_weight=11,subsample=0.1)\n",
    "skf=StratifiedKFold(n_splits=5)\n",
    "results=cross_val_score(model,X_bank,y_bank,cv=skf,scoring=\"roc_auc\")\n",
    "print(f\"AUC: {round(results.mean(),4)}, std: {round(results.std(),4)}\")"
   ]
  },
  {
   "cell_type": "code",
   "execution_count": null,
   "metadata": {},
   "outputs": [],
   "source": []
  }
 ],
 "metadata": {
  "colab": {
   "collapsed_sections": [],
   "name": "Experiment1_BankDataset_XGBoost_GS.ipynb",
   "provenance": [],
   "toc_visible": true
  },
  "kernelspec": {
   "display_name": "Python 3",
   "language": "python",
   "name": "python3"
  },
  "language_info": {
   "codemirror_mode": {
    "name": "ipython",
    "version": 3
   },
   "file_extension": ".py",
   "mimetype": "text/x-python",
   "name": "python",
   "nbconvert_exporter": "python",
   "pygments_lexer": "ipython3",
   "version": "3.8.3"
  },
  "toc": {
   "base_numbering": 1,
   "nav_menu": {},
   "number_sections": false,
   "sideBar": true,
   "skip_h1_title": false,
   "title_cell": "Table of Contents",
   "title_sidebar": "Contents",
   "toc_cell": false,
   "toc_position": {},
   "toc_section_display": true,
   "toc_window_display": false
  },
  "varInspector": {
   "cols": {
    "lenName": 16,
    "lenType": 16,
    "lenVar": 40
   },
   "kernels_config": {
    "python": {
     "delete_cmd_postfix": "",
     "delete_cmd_prefix": "del ",
     "library": "var_list.py",
     "varRefreshCmd": "print(var_dic_list())"
    },
    "r": {
     "delete_cmd_postfix": ") ",
     "delete_cmd_prefix": "rm(",
     "library": "var_list.r",
     "varRefreshCmd": "cat(var_dic_list()) "
    }
   },
   "types_to_exclude": [
    "module",
    "function",
    "builtin_function_or_method",
    "instance",
    "_Feature"
   ],
   "window_display": false
  }
 },
 "nbformat": 4,
 "nbformat_minor": 1
}
